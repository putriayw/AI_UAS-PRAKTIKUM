{
 "cells": [
  {
   "cell_type": "markdown",
   "id": "92c1da11",
   "metadata": {},
   "source": [
    "# Data understanding"
   ]
  },
  {
   "cell_type": "markdown",
   "id": "efc382b5",
   "metadata": {},
   "source": [
    "## Load dataset"
   ]
  },
  {
   "cell_type": "code",
   "execution_count": 46,
   "id": "967bab5e",
   "metadata": {},
   "outputs": [],
   "source": [
    "import numpy as np\n",
    "import pandas as pd\n",
    "import matplotlib.pyplot as plt\n",
    "import plotly.graph_objects as go\n",
    "from plotly.subplots import make_subplots\n",
    "import seaborn as sns"
   ]
  },
  {
   "cell_type": "code",
   "execution_count": 47,
   "id": "3e83edd8",
   "metadata": {},
   "outputs": [
    {
     "data": {
      "text/html": [
       "<div>\n",
       "<style scoped>\n",
       "    .dataframe tbody tr th:only-of-type {\n",
       "        vertical-align: middle;\n",
       "    }\n",
       "\n",
       "    .dataframe tbody tr th {\n",
       "        vertical-align: top;\n",
       "    }\n",
       "\n",
       "    .dataframe thead th {\n",
       "        text-align: right;\n",
       "    }\n",
       "</style>\n",
       "<table border=\"1\" class=\"dataframe\">\n",
       "  <thead>\n",
       "    <tr style=\"text-align: right;\">\n",
       "      <th></th>\n",
       "      <th>new&amp;used</th>\n",
       "      <th>name</th>\n",
       "      <th>money</th>\n",
       "      <th>Exterior color</th>\n",
       "      <th>Interior color</th>\n",
       "      <th>Drivetrain</th>\n",
       "      <th>MPG</th>\n",
       "      <th>Fuel type</th>\n",
       "      <th>Transmission</th>\n",
       "      <th>Engine</th>\n",
       "      <th>...</th>\n",
       "      <th>Safety</th>\n",
       "      <th>Seating</th>\n",
       "      <th>Accidents or damage</th>\n",
       "      <th>Clean title</th>\n",
       "      <th>1-owner vehicle</th>\n",
       "      <th>Personal use only</th>\n",
       "      <th>brand</th>\n",
       "      <th>Year</th>\n",
       "      <th>Model</th>\n",
       "      <th>currency</th>\n",
       "    </tr>\n",
       "  </thead>\n",
       "  <tbody>\n",
       "    <tr>\n",
       "      <th>0</th>\n",
       "      <td>New</td>\n",
       "      <td>2023 Acura Integra Base</td>\n",
       "      <td>33095</td>\n",
       "      <td>Liquid Carbon Metallic</td>\n",
       "      <td>Ebony</td>\n",
       "      <td>Fwd</td>\n",
       "      <td>30–37</td>\n",
       "      <td>Gasoline</td>\n",
       "      <td>Automatic Cvt</td>\n",
       "      <td>1.5L I4 16V Gdi Dohc Turbo</td>\n",
       "      <td>...</td>\n",
       "      <td>Automatic Emergency BrakingBackup CameraBrak...</td>\n",
       "      <td>Leather Seats</td>\n",
       "      <td>NaN</td>\n",
       "      <td>NaN</td>\n",
       "      <td>NaN</td>\n",
       "      <td>NaN</td>\n",
       "      <td>Acura</td>\n",
       "      <td>2023</td>\n",
       "      <td>Integra Base</td>\n",
       "      <td>$</td>\n",
       "    </tr>\n",
       "    <tr>\n",
       "      <th>1</th>\n",
       "      <td>New</td>\n",
       "      <td>2023 Acura Mdx A-Spec</td>\n",
       "      <td>61745</td>\n",
       "      <td>Majestic Black Pearl</td>\n",
       "      <td>Ebony</td>\n",
       "      <td>Awd</td>\n",
       "      <td>19–25</td>\n",
       "      <td>Gasoline</td>\n",
       "      <td>10-Speed Automatic</td>\n",
       "      <td>3.5L V6 24V Gdi Sohc</td>\n",
       "      <td>...</td>\n",
       "      <td>Backup CameraBrake AssistLane Departure Warn...</td>\n",
       "      <td>Leather SeatsMemory SeatThird Row Seating</td>\n",
       "      <td>NaN</td>\n",
       "      <td>NaN</td>\n",
       "      <td>NaN</td>\n",
       "      <td>NaN</td>\n",
       "      <td>Acura</td>\n",
       "      <td>2023</td>\n",
       "      <td>Mdx A-Spec</td>\n",
       "      <td>$</td>\n",
       "    </tr>\n",
       "    <tr>\n",
       "      <th>2</th>\n",
       "      <td>New</td>\n",
       "      <td>2023 Acura Integra A-Spec Technology</td>\n",
       "      <td>38095</td>\n",
       "      <td>Majestic Black Pearl</td>\n",
       "      <td>Ebony</td>\n",
       "      <td>Fwd</td>\n",
       "      <td>26–36</td>\n",
       "      <td>Gasoline</td>\n",
       "      <td>6-Speed Manual</td>\n",
       "      <td>1.5L I4 16V Gdi Dohc Turbo</td>\n",
       "      <td>...</td>\n",
       "      <td>Backup CameraBrake AssistLane Departure Warn...</td>\n",
       "      <td>Leather SeatsMemory Seat</td>\n",
       "      <td>NaN</td>\n",
       "      <td>NaN</td>\n",
       "      <td>NaN</td>\n",
       "      <td>NaN</td>\n",
       "      <td>Acura</td>\n",
       "      <td>2023</td>\n",
       "      <td>Integra A-Spec Technology</td>\n",
       "      <td>$</td>\n",
       "    </tr>\n",
       "    <tr>\n",
       "      <th>3</th>\n",
       "      <td>New</td>\n",
       "      <td>2023 Acura Tlx A-Spec</td>\n",
       "      <td>47995</td>\n",
       "      <td>Majestic Black Pearl</td>\n",
       "      <td>Ebony</td>\n",
       "      <td>Fwd</td>\n",
       "      <td>22–30</td>\n",
       "      <td>Gasoline</td>\n",
       "      <td>10-Speed Automatic</td>\n",
       "      <td>2.0L I4 16V Gdi Dohc Turbo</td>\n",
       "      <td>...</td>\n",
       "      <td>Backup CameraBrake AssistLane Departure Warn...</td>\n",
       "      <td>Leather SeatsMemory Seat</td>\n",
       "      <td>NaN</td>\n",
       "      <td>NaN</td>\n",
       "      <td>NaN</td>\n",
       "      <td>NaN</td>\n",
       "      <td>Acura</td>\n",
       "      <td>2023</td>\n",
       "      <td>Tlx A-Spec</td>\n",
       "      <td>$</td>\n",
       "    </tr>\n",
       "    <tr>\n",
       "      <th>4</th>\n",
       "      <td>New</td>\n",
       "      <td>2023 Acura Tlx A-Spec</td>\n",
       "      <td>47995</td>\n",
       "      <td>Platinum White Pearl</td>\n",
       "      <td>Red</td>\n",
       "      <td>Fwd</td>\n",
       "      <td>22–30</td>\n",
       "      <td>Gasoline</td>\n",
       "      <td>10-Speed Automatic</td>\n",
       "      <td>2.0L I4 16V Gdi Dohc Turbo</td>\n",
       "      <td>...</td>\n",
       "      <td>Backup CameraBrake AssistLane Departure Warn...</td>\n",
       "      <td>Leather SeatsMemory Seat</td>\n",
       "      <td>NaN</td>\n",
       "      <td>NaN</td>\n",
       "      <td>NaN</td>\n",
       "      <td>NaN</td>\n",
       "      <td>Acura</td>\n",
       "      <td>2023</td>\n",
       "      <td>Tlx A-Spec</td>\n",
       "      <td>$</td>\n",
       "    </tr>\n",
       "  </tbody>\n",
       "</table>\n",
       "<p>5 rows × 24 columns</p>\n",
       "</div>"
      ],
      "text/plain": [
       "  new&used                                  name  money  \\\n",
       "0      New               2023 Acura Integra Base  33095   \n",
       "1      New                 2023 Acura Mdx A-Spec  61745   \n",
       "2      New  2023 Acura Integra A-Spec Technology  38095   \n",
       "3      New                 2023 Acura Tlx A-Spec  47995   \n",
       "4      New                 2023 Acura Tlx A-Spec  47995   \n",
       "\n",
       "             Exterior color Interior color Drivetrain     MPG Fuel type  \\\n",
       "0   Liquid Carbon Metallic          Ebony         Fwd   30–37  Gasoline   \n",
       "1     Majestic Black Pearl          Ebony         Awd   19–25  Gasoline   \n",
       "2     Majestic Black Pearl          Ebony         Fwd   26–36  Gasoline   \n",
       "3     Majestic Black Pearl          Ebony         Fwd   22–30  Gasoline   \n",
       "4     Platinum White Pearl            Red         Fwd   22–30  Gasoline   \n",
       "\n",
       "         Transmission                      Engine  ...  \\\n",
       "0       Automatic Cvt  1.5L I4 16V Gdi Dohc Turbo  ...   \n",
       "1  10-Speed Automatic        3.5L V6 24V Gdi Sohc  ...   \n",
       "2      6-Speed Manual  1.5L I4 16V Gdi Dohc Turbo  ...   \n",
       "3  10-Speed Automatic  2.0L I4 16V Gdi Dohc Turbo  ...   \n",
       "4  10-Speed Automatic  2.0L I4 16V Gdi Dohc Turbo  ...   \n",
       "\n",
       "                                              Safety  \\\n",
       "0    Automatic Emergency BrakingBackup CameraBrak...   \n",
       "1    Backup CameraBrake AssistLane Departure Warn...   \n",
       "2    Backup CameraBrake AssistLane Departure Warn...   \n",
       "3    Backup CameraBrake AssistLane Departure Warn...   \n",
       "4    Backup CameraBrake AssistLane Departure Warn...   \n",
       "\n",
       "                                         Seating Accidents or damage  \\\n",
       "0                                Leather Seats                   NaN   \n",
       "1    Leather SeatsMemory SeatThird Row Seating                   NaN   \n",
       "2                     Leather SeatsMemory Seat                   NaN   \n",
       "3                     Leather SeatsMemory Seat                   NaN   \n",
       "4                     Leather SeatsMemory Seat                   NaN   \n",
       "\n",
       "  Clean title 1-owner vehicle Personal use only  brand  Year  \\\n",
       "0         NaN             NaN               NaN  Acura  2023   \n",
       "1         NaN             NaN               NaN  Acura  2023   \n",
       "2         NaN             NaN               NaN  Acura  2023   \n",
       "3         NaN             NaN               NaN  Acura  2023   \n",
       "4         NaN             NaN               NaN  Acura  2023   \n",
       "\n",
       "                       Model currency  \n",
       "0               Integra Base        $  \n",
       "1                 Mdx A-Spec        $  \n",
       "2  Integra A-Spec Technology        $  \n",
       "3                 Tlx A-Spec        $  \n",
       "4                 Tlx A-Spec        $  \n",
       "\n",
       "[5 rows x 24 columns]"
      ]
     },
     "execution_count": 47,
     "metadata": {},
     "output_type": "execute_result"
    }
   ],
   "source": [
    "data = pd.read_csv('New_York_cars.csv')\n",
    "data.head()"
   ]
  },
  {
   "cell_type": "code",
   "execution_count": 48,
   "id": "8f6d8f1e",
   "metadata": {},
   "outputs": [
    {
     "name": "stdout",
     "output_type": "stream",
     "text": [
      "<class 'pandas.core.frame.DataFrame'>\n",
      "RangeIndex: 175490 entries, 0 to 175489\n",
      "Data columns (total 24 columns):\n",
      " #   Column               Non-Null Count   Dtype  \n",
      "---  ------               --------------   -----  \n",
      " 0   new&used             175490 non-null  object \n",
      " 1   name                 175490 non-null  object \n",
      " 2   money                175490 non-null  int64  \n",
      " 3   Exterior color       173598 non-null  object \n",
      " 4   Interior color       160594 non-null  object \n",
      " 5   Drivetrain           174934 non-null  object \n",
      " 6   MPG                  143406 non-null  object \n",
      " 7   Fuel type            174147 non-null  object \n",
      " 8   Transmission         174726 non-null  object \n",
      " 9   Engine               175158 non-null  object \n",
      " 10  Mileage              175443 non-null  float64\n",
      " 11  Convenience          145557 non-null  object \n",
      " 12  Entertainment        166583 non-null  object \n",
      " 13  Exterior             158582 non-null  object \n",
      " 14  Safety               173548 non-null  object \n",
      " 15  Seating              117836 non-null  object \n",
      " 16  Accidents or damage  122916 non-null  object \n",
      " 17  Clean title          18150 non-null   object \n",
      " 18  1-owner vehicle      122691 non-null  object \n",
      " 19  Personal use only    122915 non-null  object \n",
      " 20  brand                175490 non-null  object \n",
      " 21  Year                 175490 non-null  int64  \n",
      " 22  Model                175490 non-null  object \n",
      " 23  currency             175490 non-null  object \n",
      "dtypes: float64(1), int64(2), object(21)\n",
      "memory usage: 32.1+ MB\n"
     ]
    }
   ],
   "source": [
    "data.info()"
   ]
  },
  {
   "cell_type": "markdown",
   "id": "f4fa39a9",
   "metadata": {},
   "source": [
    "#### Informasi Kolom\n",
    "1. new&used = Informasi Apakah Mobil dalam kondisi baru atau bekas\n",
    "2. name = Nama Mobil\n",
    "3. money = Harga Mobil\n",
    "4. Exterior color = Warna Exterior Mobil\n",
    "5. Interior color = Warna Interior Mobil\n",
    "6. Drivetrain = Informasi Jenis Drivetrain yang digunakan\n",
    "7. MPG = Informasi efisiensi mobil dalam menggunakan bahan bakar\n",
    "8. Fuel type = Informasi tipe bahan bakar yang digunakan\n",
    "9. Transmission = Informasi jenis transmisi yang digunakan\n",
    "10. Engine = Informasi mesin yang digunakan \n",
    "11. Mileage = Informasi jarak tempuh\n",
    "12. Convenience = Informasi teknologi yang diterapkan pada mobil\n",
    "13. Entertainment = Informasi hiburan yang diberikan\n",
    "14. Exterior = Design Exterior mobil\n",
    "15. Safety = Informasi fitur keselamatan yang ada di mobil\n",
    "16. Seating = Informasi susunan kursi\n",
    "17. Accidents or damage = Informasi apakah mobil pernah kecelakaan atau terkena kerusakan\n",
    "18. Clean title = Informasi legalitas mobil\n",
    "19. 1-owner vehicle = Informasi pemilik mobil sebelumnya\n",
    "20. Personal use only = Informasi apakah mobil digunakan untuk keperluan pribadi atau non-komersial\n",
    "21. brand = Informasi Brand mobil\n",
    "22. Year = Informasi Tahun pembuatan mobil\n",
    "23. Model = Informasi Model mobil\n",
    "24. currency = Informasi Nilai mata uang"
   ]
  },
  {
   "cell_type": "markdown",
   "id": "9b4e036f",
   "metadata": {},
   "source": [
    "### Properti data"
   ]
  },
  {
   "cell_type": "code",
   "execution_count": 49,
   "id": "77ab7e53",
   "metadata": {},
   "outputs": [
    {
     "data": {
      "text/plain": [
       "new&used                object\n",
       "name                    object\n",
       "money                    int64\n",
       "Exterior color          object\n",
       "Interior color          object\n",
       "Drivetrain              object\n",
       "MPG                     object\n",
       "Fuel type               object\n",
       "Transmission            object\n",
       "Engine                  object\n",
       "Mileage                float64\n",
       "Convenience             object\n",
       "Entertainment           object\n",
       "Exterior                object\n",
       "Safety                  object\n",
       "Seating                 object\n",
       "Accidents or damage     object\n",
       "Clean title             object\n",
       "1-owner vehicle         object\n",
       "Personal use only       object\n",
       "brand                   object\n",
       "Year                     int64\n",
       "Model                   object\n",
       "currency                object\n",
       "dtype: object"
      ]
     },
     "execution_count": 49,
     "metadata": {},
     "output_type": "execute_result"
    }
   ],
   "source": [
    "data.dtypes"
   ]
  },
  {
   "cell_type": "code",
   "execution_count": 50,
   "id": "9eac27b4",
   "metadata": {},
   "outputs": [
    {
     "data": {
      "text/plain": [
       "(175490, 24)"
      ]
     },
     "execution_count": 50,
     "metadata": {},
     "output_type": "execute_result"
    }
   ],
   "source": [
    "data.shape"
   ]
  },
  {
   "cell_type": "code",
   "execution_count": 51,
   "id": "9844cf63",
   "metadata": {},
   "outputs": [
    {
     "data": {
      "text/html": [
       "<div>\n",
       "<style scoped>\n",
       "    .dataframe tbody tr th:only-of-type {\n",
       "        vertical-align: middle;\n",
       "    }\n",
       "\n",
       "    .dataframe tbody tr th {\n",
       "        vertical-align: top;\n",
       "    }\n",
       "\n",
       "    .dataframe thead th {\n",
       "        text-align: right;\n",
       "    }\n",
       "</style>\n",
       "<table border=\"1\" class=\"dataframe\">\n",
       "  <thead>\n",
       "    <tr style=\"text-align: right;\">\n",
       "      <th></th>\n",
       "      <th>money</th>\n",
       "      <th>Mileage</th>\n",
       "      <th>Year</th>\n",
       "    </tr>\n",
       "  </thead>\n",
       "  <tbody>\n",
       "    <tr>\n",
       "      <th>count</th>\n",
       "      <td>175490.00</td>\n",
       "      <td>175443.00</td>\n",
       "      <td>175490.00</td>\n",
       "    </tr>\n",
       "    <tr>\n",
       "      <th>mean</th>\n",
       "      <td>34354.22</td>\n",
       "      <td>51195.47</td>\n",
       "      <td>2018.55</td>\n",
       "    </tr>\n",
       "    <tr>\n",
       "      <th>std</th>\n",
       "      <td>23509.52</td>\n",
       "      <td>43350.07</td>\n",
       "      <td>3.14</td>\n",
       "    </tr>\n",
       "    <tr>\n",
       "      <th>min</th>\n",
       "      <td>1895.00</td>\n",
       "      <td>0.00</td>\n",
       "      <td>2012.00</td>\n",
       "    </tr>\n",
       "    <tr>\n",
       "      <th>25%</th>\n",
       "      <td>19991.00</td>\n",
       "      <td>15170.50</td>\n",
       "      <td>2016.00</td>\n",
       "    </tr>\n",
       "    <tr>\n",
       "      <th>50%</th>\n",
       "      <td>28990.00</td>\n",
       "      <td>44328.00</td>\n",
       "      <td>2019.00</td>\n",
       "    </tr>\n",
       "    <tr>\n",
       "      <th>75%</th>\n",
       "      <td>41990.00</td>\n",
       "      <td>78484.50</td>\n",
       "      <td>2021.00</td>\n",
       "    </tr>\n",
       "    <tr>\n",
       "      <th>max</th>\n",
       "      <td>2200000.00</td>\n",
       "      <td>763474.00</td>\n",
       "      <td>2023.00</td>\n",
       "    </tr>\n",
       "  </tbody>\n",
       "</table>\n",
       "</div>"
      ],
      "text/plain": [
       "           money   Mileage      Year\n",
       "count  175490.00 175443.00 175490.00\n",
       "mean    34354.22  51195.47   2018.55\n",
       "std     23509.52  43350.07      3.14\n",
       "min      1895.00      0.00   2012.00\n",
       "25%     19991.00  15170.50   2016.00\n",
       "50%     28990.00  44328.00   2019.00\n",
       "75%     41990.00  78484.50   2021.00\n",
       "max   2200000.00 763474.00   2023.00"
      ]
     },
     "execution_count": 51,
     "metadata": {},
     "output_type": "execute_result"
    }
   ],
   "source": [
    "data.describe()"
   ]
  },
  {
   "cell_type": "markdown",
   "id": "e50f2cb8",
   "metadata": {},
   "source": [
    "### Cek Missing Value & data duplication"
   ]
  },
  {
   "cell_type": "code",
   "execution_count": 52,
   "id": "9ebbe097",
   "metadata": {},
   "outputs": [
    {
     "data": {
      "text/plain": [
       "new&used                    0\n",
       "name                        0\n",
       "money                       0\n",
       "Exterior color           1892\n",
       "Interior color          14896\n",
       "Drivetrain                556\n",
       "MPG                     32084\n",
       "Fuel type                1343\n",
       "Transmission              764\n",
       "Engine                    332\n",
       "Mileage                    47\n",
       "Convenience             29933\n",
       "Entertainment            8907\n",
       "Exterior                16908\n",
       "Safety                   1942\n",
       "Seating                 57654\n",
       "Accidents or damage     52574\n",
       "Clean title            157340\n",
       "1-owner vehicle         52799\n",
       "Personal use only       52575\n",
       "brand                       0\n",
       "Year                        0\n",
       "Model                       0\n",
       "currency                    0\n",
       "dtype: int64"
      ]
     },
     "execution_count": 52,
     "metadata": {},
     "output_type": "execute_result"
    }
   ],
   "source": [
    "data.isnull().sum()"
   ]
  },
  {
   "cell_type": "markdown",
   "id": "e3e3d50e",
   "metadata": {},
   "source": [
    "#### drop data kosong"
   ]
  },
  {
   "cell_type": "code",
   "execution_count": 53,
   "id": "9714f4a7",
   "metadata": {},
   "outputs": [
    {
     "data": {
      "text/html": [
       "<div>\n",
       "<style scoped>\n",
       "    .dataframe tbody tr th:only-of-type {\n",
       "        vertical-align: middle;\n",
       "    }\n",
       "\n",
       "    .dataframe tbody tr th {\n",
       "        vertical-align: top;\n",
       "    }\n",
       "\n",
       "    .dataframe thead th {\n",
       "        text-align: right;\n",
       "    }\n",
       "</style>\n",
       "<table border=\"1\" class=\"dataframe\">\n",
       "  <thead>\n",
       "    <tr style=\"text-align: right;\">\n",
       "      <th></th>\n",
       "      <th>new&amp;used</th>\n",
       "      <th>name</th>\n",
       "      <th>money</th>\n",
       "      <th>Exterior color</th>\n",
       "      <th>Interior color</th>\n",
       "      <th>Drivetrain</th>\n",
       "      <th>MPG</th>\n",
       "      <th>Fuel type</th>\n",
       "      <th>Transmission</th>\n",
       "      <th>Engine</th>\n",
       "      <th>...</th>\n",
       "      <th>Safety</th>\n",
       "      <th>Seating</th>\n",
       "      <th>Accidents or damage</th>\n",
       "      <th>Clean title</th>\n",
       "      <th>1-owner vehicle</th>\n",
       "      <th>Personal use only</th>\n",
       "      <th>brand</th>\n",
       "      <th>Year</th>\n",
       "      <th>Model</th>\n",
       "      <th>currency</th>\n",
       "    </tr>\n",
       "  </thead>\n",
       "  <tbody>\n",
       "    <tr>\n",
       "      <th>953</th>\n",
       "      <td>Used</td>\n",
       "      <td>2022 Acura Mdx Advance</td>\n",
       "      <td>47995</td>\n",
       "      <td>Liquid Carbon Metallic</td>\n",
       "      <td>Espresso</td>\n",
       "      <td>Awd</td>\n",
       "      <td>19–25</td>\n",
       "      <td>Gasoline</td>\n",
       "      <td>10-Speed Automatic</td>\n",
       "      <td>3.5L V6 24V Gdi Sohc</td>\n",
       "      <td>...</td>\n",
       "      <td>Brake AssistLane Departure WarningStability ...</td>\n",
       "      <td>Leather SeatsMemory SeatThird Row Seating</td>\n",
       "      <td>None Reported</td>\n",
       "      <td>Yes</td>\n",
       "      <td>Yes</td>\n",
       "      <td>No</td>\n",
       "      <td>Acura</td>\n",
       "      <td>2022</td>\n",
       "      <td>Mdx Advance</td>\n",
       "      <td>$</td>\n",
       "    </tr>\n",
       "    <tr>\n",
       "      <th>954</th>\n",
       "      <td>Used</td>\n",
       "      <td>2022 Acura Mdx A-Spec</td>\n",
       "      <td>51997</td>\n",
       "      <td>Liquid Carbon Metallic</td>\n",
       "      <td>Red</td>\n",
       "      <td>Awd</td>\n",
       "      <td>19–25</td>\n",
       "      <td>Gasoline</td>\n",
       "      <td>10-Speed Automatic</td>\n",
       "      <td>3.5L V6 24V Gdi Sohc</td>\n",
       "      <td>...</td>\n",
       "      <td>Backup CameraBrake AssistLane Departure Warn...</td>\n",
       "      <td>Leather SeatsMemory SeatThird Row Seating</td>\n",
       "      <td>None Reported</td>\n",
       "      <td>Yes</td>\n",
       "      <td>Yes</td>\n",
       "      <td>Yes</td>\n",
       "      <td>Acura</td>\n",
       "      <td>2022</td>\n",
       "      <td>Mdx A-Spec</td>\n",
       "      <td>$</td>\n",
       "    </tr>\n",
       "    <tr>\n",
       "      <th>955</th>\n",
       "      <td>Acura Certified</td>\n",
       "      <td>2022 Acura Mdx Technology</td>\n",
       "      <td>49983</td>\n",
       "      <td>White</td>\n",
       "      <td>Espresso</td>\n",
       "      <td>Awd</td>\n",
       "      <td>19–25</td>\n",
       "      <td>Gasoline</td>\n",
       "      <td>10-Speed Automatic</td>\n",
       "      <td>3.5L V6 24V Gdi Sohc</td>\n",
       "      <td>...</td>\n",
       "      <td>Backup CameraBrake AssistLane Departure Warn...</td>\n",
       "      <td>Leather SeatsMemory SeatThird Row Seating</td>\n",
       "      <td>None Reported</td>\n",
       "      <td>Yes</td>\n",
       "      <td>Yes</td>\n",
       "      <td>No</td>\n",
       "      <td>Acura</td>\n",
       "      <td>2022</td>\n",
       "      <td>Mdx Technology</td>\n",
       "      <td>$</td>\n",
       "    </tr>\n",
       "    <tr>\n",
       "      <th>956</th>\n",
       "      <td>Used</td>\n",
       "      <td>2022 Acura Mdx Advance</td>\n",
       "      <td>52997</td>\n",
       "      <td>Black</td>\n",
       "      <td>Ebony</td>\n",
       "      <td>Awd</td>\n",
       "      <td>19–25</td>\n",
       "      <td>Gasoline</td>\n",
       "      <td>10-Speed Automatic</td>\n",
       "      <td>3.5L V6 24V Gdi Sohc</td>\n",
       "      <td>...</td>\n",
       "      <td>Brake AssistLane Departure WarningStability ...</td>\n",
       "      <td>Leather SeatsMemory SeatThird Row Seating</td>\n",
       "      <td>None Reported</td>\n",
       "      <td>Yes</td>\n",
       "      <td>Yes</td>\n",
       "      <td>No</td>\n",
       "      <td>Acura</td>\n",
       "      <td>2022</td>\n",
       "      <td>Mdx Advance</td>\n",
       "      <td>$</td>\n",
       "    </tr>\n",
       "    <tr>\n",
       "      <th>957</th>\n",
       "      <td>Used</td>\n",
       "      <td>2022 Acura Tlx Type S</td>\n",
       "      <td>52998</td>\n",
       "      <td>Gold</td>\n",
       "      <td>Gray</td>\n",
       "      <td>Awd</td>\n",
       "      <td>19–25</td>\n",
       "      <td>Gasoline</td>\n",
       "      <td>10-Speed Automatic</td>\n",
       "      <td>3.0L V6 24V Gdi Dohc Turbo</td>\n",
       "      <td>...</td>\n",
       "      <td>Blind Spot MonitorBrake AssistLane Departure...</td>\n",
       "      <td>Leather SeatsMemory Seat</td>\n",
       "      <td>None Reported</td>\n",
       "      <td>Yes</td>\n",
       "      <td>Yes</td>\n",
       "      <td>Yes</td>\n",
       "      <td>Acura</td>\n",
       "      <td>2022</td>\n",
       "      <td>Tlx Type S</td>\n",
       "      <td>$</td>\n",
       "    </tr>\n",
       "    <tr>\n",
       "      <th>...</th>\n",
       "      <td>...</td>\n",
       "      <td>...</td>\n",
       "      <td>...</td>\n",
       "      <td>...</td>\n",
       "      <td>...</td>\n",
       "      <td>...</td>\n",
       "      <td>...</td>\n",
       "      <td>...</td>\n",
       "      <td>...</td>\n",
       "      <td>...</td>\n",
       "      <td>...</td>\n",
       "      <td>...</td>\n",
       "      <td>...</td>\n",
       "      <td>...</td>\n",
       "      <td>...</td>\n",
       "      <td>...</td>\n",
       "      <td>...</td>\n",
       "      <td>...</td>\n",
       "      <td>...</td>\n",
       "      <td>...</td>\n",
       "      <td>...</td>\n",
       "    </tr>\n",
       "    <tr>\n",
       "      <th>175439</th>\n",
       "      <td>Used</td>\n",
       "      <td>2013 Volvo Xc60 T6</td>\n",
       "      <td>16999</td>\n",
       "      <td>Savile Gray Metallic</td>\n",
       "      <td>Anthracite Black</td>\n",
       "      <td>Awd</td>\n",
       "      <td>17–23</td>\n",
       "      <td>Gasoline</td>\n",
       "      <td>6-Speed Automatic</td>\n",
       "      <td>3.0L I6 24V Mpfi Dohc Turbo</td>\n",
       "      <td>...</td>\n",
       "      <td>Brake AssistStability Control</td>\n",
       "      <td>Leather SeatsMemory Seat</td>\n",
       "      <td>None Reported</td>\n",
       "      <td>Yes</td>\n",
       "      <td>No</td>\n",
       "      <td>No</td>\n",
       "      <td>Volvo</td>\n",
       "      <td>2013</td>\n",
       "      <td>Xc60 T6</td>\n",
       "      <td>$</td>\n",
       "    </tr>\n",
       "    <tr>\n",
       "      <th>175446</th>\n",
       "      <td>Used</td>\n",
       "      <td>2013 Volvo Xc60 T6</td>\n",
       "      <td>16998</td>\n",
       "      <td>Ice White</td>\n",
       "      <td>Sandstone Beige</td>\n",
       "      <td>Awd</td>\n",
       "      <td>17–23</td>\n",
       "      <td>Gasoline</td>\n",
       "      <td>6-Speed Automatic</td>\n",
       "      <td>3.0L I6 24V Mpfi Dohc Turbo</td>\n",
       "      <td>...</td>\n",
       "      <td>Backup CameraBrake AssistStability Control</td>\n",
       "      <td>Leather SeatsMemory Seat</td>\n",
       "      <td>None Reported</td>\n",
       "      <td>Yes</td>\n",
       "      <td>No</td>\n",
       "      <td>Yes</td>\n",
       "      <td>Volvo</td>\n",
       "      <td>2013</td>\n",
       "      <td>Xc60 T6</td>\n",
       "      <td>$</td>\n",
       "    </tr>\n",
       "    <tr>\n",
       "      <th>175451</th>\n",
       "      <td>Used</td>\n",
       "      <td>2012 Volvo Xc70 T6 Platinum</td>\n",
       "      <td>14712</td>\n",
       "      <td>Twilight Bronze Metallic</td>\n",
       "      <td>Espresso Brown</td>\n",
       "      <td>Awd</td>\n",
       "      <td>17–23</td>\n",
       "      <td>Gasoline</td>\n",
       "      <td>6-Speed Automatic</td>\n",
       "      <td>3.0L I6 24V Mpfi Dohc Turbo</td>\n",
       "      <td>...</td>\n",
       "      <td>Automatic Emergency BrakingBackup CameraBrak...</td>\n",
       "      <td>Leather SeatsMemory Seat</td>\n",
       "      <td>None Reported</td>\n",
       "      <td>Yes</td>\n",
       "      <td>No</td>\n",
       "      <td>Yes</td>\n",
       "      <td>Volvo</td>\n",
       "      <td>2012</td>\n",
       "      <td>Xc70 T6 Platinum</td>\n",
       "      <td>$</td>\n",
       "    </tr>\n",
       "    <tr>\n",
       "      <th>175461</th>\n",
       "      <td>Used</td>\n",
       "      <td>2013 Volvo Xc60 T6</td>\n",
       "      <td>8995</td>\n",
       "      <td>Flaminco Red Metallic</td>\n",
       "      <td>Anthracite Black</td>\n",
       "      <td>Awd</td>\n",
       "      <td>17–23</td>\n",
       "      <td>Gasoline</td>\n",
       "      <td>6-Speed Automatic</td>\n",
       "      <td>3.0L I6 24V Mpfi Dohc Turbo</td>\n",
       "      <td>...</td>\n",
       "      <td>Brake AssistStability Control</td>\n",
       "      <td>Leather SeatsMemory Seat</td>\n",
       "      <td>None Reported</td>\n",
       "      <td>Yes</td>\n",
       "      <td>No</td>\n",
       "      <td>No</td>\n",
       "      <td>Volvo</td>\n",
       "      <td>2013</td>\n",
       "      <td>Xc60 T6</td>\n",
       "      <td>$</td>\n",
       "    </tr>\n",
       "    <tr>\n",
       "      <th>175468</th>\n",
       "      <td>Used</td>\n",
       "      <td>2012 Volvo Xc60 3.2 Premier</td>\n",
       "      <td>11495</td>\n",
       "      <td>Tan</td>\n",
       "      <td>Beige</td>\n",
       "      <td>Awd</td>\n",
       "      <td>19–24</td>\n",
       "      <td>Gasoline</td>\n",
       "      <td>Automatic 6-Speed</td>\n",
       "      <td>Straight 6 Cylinder Engine</td>\n",
       "      <td>...</td>\n",
       "      <td>Automatic Emergency BrakingBlind Spot Monito...</td>\n",
       "      <td>Leather SeatsMemory Seat</td>\n",
       "      <td>None Reported</td>\n",
       "      <td>Yes</td>\n",
       "      <td>No</td>\n",
       "      <td>Yes</td>\n",
       "      <td>Volvo</td>\n",
       "      <td>2012</td>\n",
       "      <td>Xc60 3.2 Premier</td>\n",
       "      <td>$</td>\n",
       "    </tr>\n",
       "  </tbody>\n",
       "</table>\n",
       "<p>8532 rows × 24 columns</p>\n",
       "</div>"
      ],
      "text/plain": [
       "               new&used                         name  money  \\\n",
       "953                Used       2022 Acura Mdx Advance  47995   \n",
       "954                Used        2022 Acura Mdx A-Spec  51997   \n",
       "955     Acura Certified    2022 Acura Mdx Technology  49983   \n",
       "956                Used       2022 Acura Mdx Advance  52997   \n",
       "957                Used        2022 Acura Tlx Type S  52998   \n",
       "...                 ...                          ...    ...   \n",
       "175439             Used           2013 Volvo Xc60 T6  16999   \n",
       "175446             Used           2013 Volvo Xc60 T6  16998   \n",
       "175451             Used  2012 Volvo Xc70 T6 Platinum  14712   \n",
       "175461             Used           2013 Volvo Xc60 T6   8995   \n",
       "175468             Used  2012 Volvo Xc60 3.2 Premier  11495   \n",
       "\n",
       "                    Exterior color      Interior color Drivetrain     MPG  \\\n",
       "953        Liquid Carbon Metallic            Espresso         Awd   19–25   \n",
       "954        Liquid Carbon Metallic                 Red         Awd   19–25   \n",
       "955                         White            Espresso         Awd   19–25   \n",
       "956                         Black               Ebony         Awd   19–25   \n",
       "957                          Gold                Gray         Awd   19–25   \n",
       "...                            ...                 ...        ...     ...   \n",
       "175439       Savile Gray Metallic    Anthracite Black         Awd   17–23   \n",
       "175446                  Ice White     Sandstone Beige         Awd   17–23   \n",
       "175451   Twilight Bronze Metallic      Espresso Brown         Awd   17–23   \n",
       "175461      Flaminco Red Metallic    Anthracite Black         Awd   17–23   \n",
       "175468                        Tan               Beige         Awd   19–24   \n",
       "\n",
       "       Fuel type        Transmission                       Engine  ...  \\\n",
       "953     Gasoline  10-Speed Automatic         3.5L V6 24V Gdi Sohc  ...   \n",
       "954     Gasoline  10-Speed Automatic         3.5L V6 24V Gdi Sohc  ...   \n",
       "955     Gasoline  10-Speed Automatic         3.5L V6 24V Gdi Sohc  ...   \n",
       "956     Gasoline  10-Speed Automatic         3.5L V6 24V Gdi Sohc  ...   \n",
       "957     Gasoline  10-Speed Automatic   3.0L V6 24V Gdi Dohc Turbo  ...   \n",
       "...          ...                 ...                          ...  ...   \n",
       "175439  Gasoline   6-Speed Automatic  3.0L I6 24V Mpfi Dohc Turbo  ...   \n",
       "175446  Gasoline   6-Speed Automatic  3.0L I6 24V Mpfi Dohc Turbo  ...   \n",
       "175451  Gasoline   6-Speed Automatic  3.0L I6 24V Mpfi Dohc Turbo  ...   \n",
       "175461  Gasoline   6-Speed Automatic  3.0L I6 24V Mpfi Dohc Turbo  ...   \n",
       "175468  Gasoline   Automatic 6-Speed   Straight 6 Cylinder Engine  ...   \n",
       "\n",
       "                                                   Safety  \\\n",
       "953       Brake AssistLane Departure WarningStability ...   \n",
       "954       Backup CameraBrake AssistLane Departure Warn...   \n",
       "955       Backup CameraBrake AssistLane Departure Warn...   \n",
       "956       Brake AssistLane Departure WarningStability ...   \n",
       "957       Blind Spot MonitorBrake AssistLane Departure...   \n",
       "...                                                   ...   \n",
       "175439                    Brake AssistStability Control     \n",
       "175446       Backup CameraBrake AssistStability Control     \n",
       "175451    Automatic Emergency BrakingBackup CameraBrak...   \n",
       "175461                    Brake AssistStability Control     \n",
       "175468    Automatic Emergency BrakingBlind Spot Monito...   \n",
       "\n",
       "                                              Seating Accidents or damage  \\\n",
       "953       Leather SeatsMemory SeatThird Row Seating         None Reported   \n",
       "954       Leather SeatsMemory SeatThird Row Seating         None Reported   \n",
       "955       Leather SeatsMemory SeatThird Row Seating         None Reported   \n",
       "956       Leather SeatsMemory SeatThird Row Seating         None Reported   \n",
       "957                        Leather SeatsMemory Seat         None Reported   \n",
       "...                                               ...                 ...   \n",
       "175439                     Leather SeatsMemory Seat         None Reported   \n",
       "175446                     Leather SeatsMemory Seat         None Reported   \n",
       "175451                     Leather SeatsMemory Seat         None Reported   \n",
       "175461                     Leather SeatsMemory Seat         None Reported   \n",
       "175468                     Leather SeatsMemory Seat         None Reported   \n",
       "\n",
       "       Clean title 1-owner vehicle Personal use only  brand  Year  \\\n",
       "953            Yes             Yes                No  Acura  2022   \n",
       "954            Yes             Yes               Yes  Acura  2022   \n",
       "955            Yes             Yes                No  Acura  2022   \n",
       "956            Yes             Yes                No  Acura  2022   \n",
       "957            Yes             Yes               Yes  Acura  2022   \n",
       "...            ...             ...               ...    ...   ...   \n",
       "175439         Yes              No                No  Volvo  2013   \n",
       "175446         Yes              No               Yes  Volvo  2013   \n",
       "175451         Yes              No               Yes  Volvo  2012   \n",
       "175461         Yes              No                No  Volvo  2013   \n",
       "175468         Yes              No               Yes  Volvo  2012   \n",
       "\n",
       "                   Model currency  \n",
       "953          Mdx Advance        $  \n",
       "954           Mdx A-Spec        $  \n",
       "955       Mdx Technology        $  \n",
       "956          Mdx Advance        $  \n",
       "957           Tlx Type S        $  \n",
       "...                  ...      ...  \n",
       "175439           Xc60 T6        $  \n",
       "175446           Xc60 T6        $  \n",
       "175451  Xc70 T6 Platinum        $  \n",
       "175461           Xc60 T6        $  \n",
       "175468  Xc60 3.2 Premier        $  \n",
       "\n",
       "[8532 rows x 24 columns]"
      ]
     },
     "execution_count": 53,
     "metadata": {},
     "output_type": "execute_result"
    }
   ],
   "source": [
    "data.dropna(inplace=True)\n",
    "data"
   ]
  },
  {
   "cell_type": "code",
   "execution_count": 54,
   "id": "68fa327f",
   "metadata": {},
   "outputs": [
    {
     "data": {
      "text/plain": [
       "0"
      ]
     },
     "execution_count": 54,
     "metadata": {},
     "output_type": "execute_result"
    }
   ],
   "source": [
    "data.duplicated().sum()"
   ]
  },
  {
   "cell_type": "code",
   "execution_count": 55,
   "id": "85615cc9",
   "metadata": {},
   "outputs": [
    {
     "data": {
      "text/plain": [
       "new&used               0\n",
       "name                   0\n",
       "money                  0\n",
       "Exterior color         0\n",
       "Interior color         0\n",
       "Drivetrain             0\n",
       "MPG                    0\n",
       "Fuel type              0\n",
       "Transmission           0\n",
       "Engine                 0\n",
       "Mileage                0\n",
       "Convenience            0\n",
       "Entertainment          0\n",
       "Exterior               0\n",
       "Safety                 0\n",
       "Seating                0\n",
       "Accidents or damage    0\n",
       "Clean title            0\n",
       "1-owner vehicle        0\n",
       "Personal use only      0\n",
       "brand                  0\n",
       "Year                   0\n",
       "Model                  0\n",
       "currency               0\n",
       "dtype: int64"
      ]
     },
     "execution_count": 55,
     "metadata": {},
     "output_type": "execute_result"
    }
   ],
   "source": [
    "data.isnull().sum()"
   ]
  },
  {
   "cell_type": "code",
   "execution_count": 56,
   "id": "2e49a3ea",
   "metadata": {},
   "outputs": [
    {
     "name": "stdout",
     "output_type": "stream",
     "text": [
      "<class 'pandas.core.frame.DataFrame'>\n",
      "Int64Index: 8532 entries, 953 to 175468\n",
      "Data columns (total 24 columns):\n",
      " #   Column               Non-Null Count  Dtype  \n",
      "---  ------               --------------  -----  \n",
      " 0   new&used             8532 non-null   object \n",
      " 1   name                 8532 non-null   object \n",
      " 2   money                8532 non-null   int64  \n",
      " 3   Exterior color       8532 non-null   object \n",
      " 4   Interior color       8532 non-null   object \n",
      " 5   Drivetrain           8532 non-null   object \n",
      " 6   MPG                  8532 non-null   object \n",
      " 7   Fuel type            8532 non-null   object \n",
      " 8   Transmission         8532 non-null   object \n",
      " 9   Engine               8532 non-null   object \n",
      " 10  Mileage              8532 non-null   float64\n",
      " 11  Convenience          8532 non-null   object \n",
      " 12  Entertainment        8532 non-null   object \n",
      " 13  Exterior             8532 non-null   object \n",
      " 14  Safety               8532 non-null   object \n",
      " 15  Seating              8532 non-null   object \n",
      " 16  Accidents or damage  8532 non-null   object \n",
      " 17  Clean title          8532 non-null   object \n",
      " 18  1-owner vehicle      8532 non-null   object \n",
      " 19  Personal use only    8532 non-null   object \n",
      " 20  brand                8532 non-null   object \n",
      " 21  Year                 8532 non-null   int64  \n",
      " 22  Model                8532 non-null   object \n",
      " 23  currency             8532 non-null   object \n",
      "dtypes: float64(1), int64(2), object(21)\n",
      "memory usage: 1.6+ MB\n"
     ]
    }
   ],
   "source": [
    "data.info()"
   ]
  },
  {
   "cell_type": "markdown",
   "id": "e3281871",
   "metadata": {},
   "source": [
    "### **Exploratory Data Analysis**"
   ]
  },
  {
   "cell_type": "markdown",
   "id": "5e13dd81",
   "metadata": {},
   "source": [
    "**Melihat Korelasi Antar Kolom**"
   ]
  },
  {
   "cell_type": "code",
   "execution_count": 57,
   "id": "323ad81f",
   "metadata": {},
   "outputs": [
    {
     "data": {
      "image/png": "[encoded data removed]",
      "text/plain": [
       "<Figure size 1400x700 with 2 Axes>"
      ]
     },
     "metadata": {},
     "output_type": "display_data"
    }
   ],
   "source": [
    "import pandas as pd\n",
    "\n",
    "# Kode visualisasi heatmap\n",
    "plt.figure(figsize=(14, 7))\n",
    "sns.heatmap(data.corr(), annot=True, cmap='coolwarm', linewidths=0.5)\n",
    "plt.show()\n"
   ]
  },
  {
   "cell_type": "code",
   "execution_count": 58,
   "id": "3fe30da7",
   "metadata": {},
   "outputs": [
    {
     "data": {
      "text/plain": [
       "money      1.00\n",
       "Mileage   -0.27\n",
       "Year       0.23\n",
       "Name: money, dtype: float64"
      ]
     },
     "execution_count": 58,
     "metadata": {},
     "output_type": "execute_result"
    }
   ],
   "source": [
    "data.corr()['money']"
   ]
  },
  {
   "cell_type": "code",
   "execution_count": 59,
   "id": "89a6c23a",
   "metadata": {},
   "outputs": [
    {
     "data": {
      "text/html": [
       "<div>\n",
       "<style scoped>\n",
       "    .dataframe tbody tr th:only-of-type {\n",
       "        vertical-align: middle;\n",
       "    }\n",
       "\n",
       "    .dataframe tbody tr th {\n",
       "        vertical-align: top;\n",
       "    }\n",
       "\n",
       "    .dataframe thead th {\n",
       "        text-align: right;\n",
       "    }\n",
       "</style>\n",
       "<table border=\"1\" class=\"dataframe\">\n",
       "  <thead>\n",
       "    <tr style=\"text-align: right;\">\n",
       "      <th></th>\n",
       "      <th>new&amp;used</th>\n",
       "      <th>money</th>\n",
       "      <th>Exterior color</th>\n",
       "      <th>Interior color</th>\n",
       "      <th>Drivetrain</th>\n",
       "      <th>Fuel type</th>\n",
       "      <th>Exterior</th>\n",
       "      <th>Seating</th>\n",
       "      <th>Accidents or damage</th>\n",
       "      <th>Clean title</th>\n",
       "      <th>1-owner vehicle</th>\n",
       "      <th>Personal use only</th>\n",
       "      <th>brand</th>\n",
       "      <th>currency</th>\n",
       "    </tr>\n",
       "  </thead>\n",
       "  <tbody>\n",
       "    <tr>\n",
       "      <th>953</th>\n",
       "      <td>Used</td>\n",
       "      <td>47995</td>\n",
       "      <td>Liquid Carbon Metallic</td>\n",
       "      <td>Espresso</td>\n",
       "      <td>Awd</td>\n",
       "      <td>Gasoline</td>\n",
       "      <td>Alloy WheelsSunroof/Moonroof</td>\n",
       "      <td>Leather SeatsMemory SeatThird Row Seating</td>\n",
       "      <td>None Reported</td>\n",
       "      <td>Yes</td>\n",
       "      <td>Yes</td>\n",
       "      <td>No</td>\n",
       "      <td>Acura</td>\n",
       "      <td>$</td>\n",
       "    </tr>\n",
       "    <tr>\n",
       "      <th>954</th>\n",
       "      <td>Used</td>\n",
       "      <td>51997</td>\n",
       "      <td>Liquid Carbon Metallic</td>\n",
       "      <td>Red</td>\n",
       "      <td>Awd</td>\n",
       "      <td>Gasoline</td>\n",
       "      <td>Alloy WheelsSunroof/Moonroof</td>\n",
       "      <td>Leather SeatsMemory SeatThird Row Seating</td>\n",
       "      <td>None Reported</td>\n",
       "      <td>Yes</td>\n",
       "      <td>Yes</td>\n",
       "      <td>Yes</td>\n",
       "      <td>Acura</td>\n",
       "      <td>$</td>\n",
       "    </tr>\n",
       "    <tr>\n",
       "      <th>955</th>\n",
       "      <td>Acura Certified</td>\n",
       "      <td>49983</td>\n",
       "      <td>White</td>\n",
       "      <td>Espresso</td>\n",
       "      <td>Awd</td>\n",
       "      <td>Gasoline</td>\n",
       "      <td>Alloy WheelsSunroof/Moonroof</td>\n",
       "      <td>Leather SeatsMemory SeatThird Row Seating</td>\n",
       "      <td>None Reported</td>\n",
       "      <td>Yes</td>\n",
       "      <td>Yes</td>\n",
       "      <td>No</td>\n",
       "      <td>Acura</td>\n",
       "      <td>$</td>\n",
       "    </tr>\n",
       "    <tr>\n",
       "      <th>956</th>\n",
       "      <td>Used</td>\n",
       "      <td>52997</td>\n",
       "      <td>Black</td>\n",
       "      <td>Ebony</td>\n",
       "      <td>Awd</td>\n",
       "      <td>Gasoline</td>\n",
       "      <td>Alloy WheelsSunroof/Moonroof</td>\n",
       "      <td>Leather SeatsMemory SeatThird Row Seating</td>\n",
       "      <td>None Reported</td>\n",
       "      <td>Yes</td>\n",
       "      <td>Yes</td>\n",
       "      <td>No</td>\n",
       "      <td>Acura</td>\n",
       "      <td>$</td>\n",
       "    </tr>\n",
       "    <tr>\n",
       "      <th>957</th>\n",
       "      <td>Used</td>\n",
       "      <td>52998</td>\n",
       "      <td>Gold</td>\n",
       "      <td>Gray</td>\n",
       "      <td>Awd</td>\n",
       "      <td>Gasoline</td>\n",
       "      <td>Alloy Wheels</td>\n",
       "      <td>Leather SeatsMemory Seat</td>\n",
       "      <td>None Reported</td>\n",
       "      <td>Yes</td>\n",
       "      <td>Yes</td>\n",
       "      <td>Yes</td>\n",
       "      <td>Acura</td>\n",
       "      <td>$</td>\n",
       "    </tr>\n",
       "  </tbody>\n",
       "</table>\n",
       "</div>"
      ],
      "text/plain": [
       "            new&used  money            Exterior color Interior color  \\\n",
       "953             Used  47995   Liquid Carbon Metallic       Espresso    \n",
       "954             Used  51997   Liquid Carbon Metallic            Red    \n",
       "955  Acura Certified  49983                    White       Espresso    \n",
       "956             Used  52997                    Black          Ebony    \n",
       "957             Used  52998                     Gold           Gray    \n",
       "\n",
       "    Drivetrain Fuel type                          Exterior  \\\n",
       "953        Awd  Gasoline    Alloy WheelsSunroof/Moonroof     \n",
       "954        Awd  Gasoline    Alloy WheelsSunroof/Moonroof     \n",
       "955        Awd  Gasoline    Alloy WheelsSunroof/Moonroof     \n",
       "956        Awd  Gasoline    Alloy WheelsSunroof/Moonroof     \n",
       "957        Awd  Gasoline                    Alloy Wheels     \n",
       "\n",
       "                                           Seating Accidents or damage  \\\n",
       "953    Leather SeatsMemory SeatThird Row Seating         None Reported   \n",
       "954    Leather SeatsMemory SeatThird Row Seating         None Reported   \n",
       "955    Leather SeatsMemory SeatThird Row Seating         None Reported   \n",
       "956    Leather SeatsMemory SeatThird Row Seating         None Reported   \n",
       "957                     Leather SeatsMemory Seat         None Reported   \n",
       "\n",
       "    Clean title 1-owner vehicle Personal use only  brand currency  \n",
       "953         Yes             Yes                No  Acura        $  \n",
       "954         Yes             Yes               Yes  Acura        $  \n",
       "955         Yes             Yes                No  Acura        $  \n",
       "956         Yes             Yes                No  Acura        $  \n",
       "957         Yes             Yes               Yes  Acura        $  "
      ]
     },
     "execution_count": 59,
     "metadata": {},
     "output_type": "execute_result"
    }
   ],
   "source": [
    "data.drop(['Mileage', 'Year', 'name', 'Model', 'MPG', 'Transmission', 'Engine', 'Convenience', 'Entertainment', 'Safety'], axis=1, inplace=True)\n",
    "data.head()"
   ]
  },
  {
   "cell_type": "code",
   "execution_count": 60,
   "id": "689759a0",
   "metadata": {},
   "outputs": [
    {
     "name": "stdout",
     "output_type": "stream",
     "text": [
      "<class 'pandas.core.frame.DataFrame'>\n",
      "Int64Index: 8532 entries, 953 to 175468\n",
      "Data columns (total 14 columns):\n",
      " #   Column               Non-Null Count  Dtype \n",
      "---  ------               --------------  ----- \n",
      " 0   new&used             8532 non-null   object\n",
      " 1   money                8532 non-null   int64 \n",
      " 2   Exterior color       8532 non-null   object\n",
      " 3   Interior color       8532 non-null   object\n",
      " 4   Drivetrain           8532 non-null   object\n",
      " 5   Fuel type            8532 non-null   object\n",
      " 6   Exterior             8532 non-null   object\n",
      " 7   Seating              8532 non-null   object\n",
      " 8   Accidents or damage  8532 non-null   object\n",
      " 9   Clean title          8532 non-null   object\n",
      " 10  1-owner vehicle      8532 non-null   object\n",
      " 11  Personal use only    8532 non-null   object\n",
      " 12  brand                8532 non-null   object\n",
      " 13  currency             8532 non-null   object\n",
      "dtypes: int64(1), object(13)\n",
      "memory usage: 999.8+ KB\n"
     ]
    }
   ],
   "source": [
    "data.info()"
   ]
  },
  {
   "cell_type": "markdown",
   "id": "96f63aa0",
   "metadata": {},
   "source": [
    "### Mengganti nama kolom untuk manipulasi kolom"
   ]
  },
  {
   "cell_type": "code",
   "execution_count": 61,
   "id": "022d2322",
   "metadata": {},
   "outputs": [
    {
     "data": {
      "text/html": [
       "<div>\n",
       "<style scoped>\n",
       "    .dataframe tbody tr th:only-of-type {\n",
       "        vertical-align: middle;\n",
       "    }\n",
       "\n",
       "    .dataframe tbody tr th {\n",
       "        vertical-align: top;\n",
       "    }\n",
       "\n",
       "    .dataframe thead th {\n",
       "        text-align: right;\n",
       "    }\n",
       "</style>\n",
       "<table border=\"1\" class=\"dataframe\">\n",
       "  <thead>\n",
       "    <tr style=\"text-align: right;\">\n",
       "      <th></th>\n",
       "      <th>penggunaan</th>\n",
       "      <th>harga</th>\n",
       "      <th>warna_luar</th>\n",
       "      <th>warna_dalam</th>\n",
       "      <th>driver</th>\n",
       "      <th>jenis_bahan_bakar</th>\n",
       "      <th>bagian_luar</th>\n",
       "      <th>tempat_duduk</th>\n",
       "      <th>kondisi</th>\n",
       "      <th>laba</th>\n",
       "      <th>pemilik</th>\n",
       "      <th>pribadi</th>\n",
       "      <th>merek</th>\n",
       "      <th>mata_uang</th>\n",
       "    </tr>\n",
       "  </thead>\n",
       "  <tbody>\n",
       "    <tr>\n",
       "      <th>953</th>\n",
       "      <td>Used</td>\n",
       "      <td>47995</td>\n",
       "      <td>Liquid Carbon Metallic</td>\n",
       "      <td>Espresso</td>\n",
       "      <td>Awd</td>\n",
       "      <td>Gasoline</td>\n",
       "      <td>Alloy WheelsSunroof/Moonroof</td>\n",
       "      <td>Leather SeatsMemory SeatThird Row Seating</td>\n",
       "      <td>None Reported</td>\n",
       "      <td>Yes</td>\n",
       "      <td>Yes</td>\n",
       "      <td>No</td>\n",
       "      <td>Acura</td>\n",
       "      <td>$</td>\n",
       "    </tr>\n",
       "    <tr>\n",
       "      <th>954</th>\n",
       "      <td>Used</td>\n",
       "      <td>51997</td>\n",
       "      <td>Liquid Carbon Metallic</td>\n",
       "      <td>Red</td>\n",
       "      <td>Awd</td>\n",
       "      <td>Gasoline</td>\n",
       "      <td>Alloy WheelsSunroof/Moonroof</td>\n",
       "      <td>Leather SeatsMemory SeatThird Row Seating</td>\n",
       "      <td>None Reported</td>\n",
       "      <td>Yes</td>\n",
       "      <td>Yes</td>\n",
       "      <td>Yes</td>\n",
       "      <td>Acura</td>\n",
       "      <td>$</td>\n",
       "    </tr>\n",
       "    <tr>\n",
       "      <th>955</th>\n",
       "      <td>Acura Certified</td>\n",
       "      <td>49983</td>\n",
       "      <td>White</td>\n",
       "      <td>Espresso</td>\n",
       "      <td>Awd</td>\n",
       "      <td>Gasoline</td>\n",
       "      <td>Alloy WheelsSunroof/Moonroof</td>\n",
       "      <td>Leather SeatsMemory SeatThird Row Seating</td>\n",
       "      <td>None Reported</td>\n",
       "      <td>Yes</td>\n",
       "      <td>Yes</td>\n",
       "      <td>No</td>\n",
       "      <td>Acura</td>\n",
       "      <td>$</td>\n",
       "    </tr>\n",
       "    <tr>\n",
       "      <th>956</th>\n",
       "      <td>Used</td>\n",
       "      <td>52997</td>\n",
       "      <td>Black</td>\n",
       "      <td>Ebony</td>\n",
       "      <td>Awd</td>\n",
       "      <td>Gasoline</td>\n",
       "      <td>Alloy WheelsSunroof/Moonroof</td>\n",
       "      <td>Leather SeatsMemory SeatThird Row Seating</td>\n",
       "      <td>None Reported</td>\n",
       "      <td>Yes</td>\n",
       "      <td>Yes</td>\n",
       "      <td>No</td>\n",
       "      <td>Acura</td>\n",
       "      <td>$</td>\n",
       "    </tr>\n",
       "    <tr>\n",
       "      <th>957</th>\n",
       "      <td>Used</td>\n",
       "      <td>52998</td>\n",
       "      <td>Gold</td>\n",
       "      <td>Gray</td>\n",
       "      <td>Awd</td>\n",
       "      <td>Gasoline</td>\n",
       "      <td>Alloy Wheels</td>\n",
       "      <td>Leather SeatsMemory Seat</td>\n",
       "      <td>None Reported</td>\n",
       "      <td>Yes</td>\n",
       "      <td>Yes</td>\n",
       "      <td>Yes</td>\n",
       "      <td>Acura</td>\n",
       "      <td>$</td>\n",
       "    </tr>\n",
       "  </tbody>\n",
       "</table>\n",
       "</div>"
      ],
      "text/plain": [
       "          penggunaan  harga                warna_luar warna_dalam driver  \\\n",
       "953             Used  47995   Liquid Carbon Metallic    Espresso     Awd   \n",
       "954             Used  51997   Liquid Carbon Metallic         Red     Awd   \n",
       "955  Acura Certified  49983                    White    Espresso     Awd   \n",
       "956             Used  52997                    Black       Ebony     Awd   \n",
       "957             Used  52998                     Gold        Gray     Awd   \n",
       "\n",
       "    jenis_bahan_bakar                       bagian_luar  \\\n",
       "953          Gasoline    Alloy WheelsSunroof/Moonroof     \n",
       "954          Gasoline    Alloy WheelsSunroof/Moonroof     \n",
       "955          Gasoline    Alloy WheelsSunroof/Moonroof     \n",
       "956          Gasoline    Alloy WheelsSunroof/Moonroof     \n",
       "957          Gasoline                    Alloy Wheels     \n",
       "\n",
       "                                      tempat_duduk        kondisi laba  \\\n",
       "953    Leather SeatsMemory SeatThird Row Seating    None Reported  Yes   \n",
       "954    Leather SeatsMemory SeatThird Row Seating    None Reported  Yes   \n",
       "955    Leather SeatsMemory SeatThird Row Seating    None Reported  Yes   \n",
       "956    Leather SeatsMemory SeatThird Row Seating    None Reported  Yes   \n",
       "957                     Leather SeatsMemory Seat    None Reported  Yes   \n",
       "\n",
       "    pemilik pribadi  merek mata_uang  \n",
       "953     Yes      No  Acura         $  \n",
       "954     Yes     Yes  Acura         $  \n",
       "955     Yes      No  Acura         $  \n",
       "956     Yes      No  Acura         $  \n",
       "957     Yes     Yes  Acura         $  "
      ]
     },
     "execution_count": 61,
     "metadata": {},
     "output_type": "execute_result"
    }
   ],
   "source": [
    "data.rename(columns = {'new&used':'penggunaan', 'money':'harga','Exterior color':'warna_luar', \n",
    "                       'Interior color': 'warna_dalam', 'Drivetrain' : 'driver',\n",
    "                       'Fuel type':'jenis_bahan_bakar', 'Exterior':'bagian_luar', \n",
    "                       'Seating':'tempat_duduk', 'Accidents or damage':'kondisi', 'Clean title':'laba', \n",
    "                       '1-owner vehicle':'pemilik', 'Personal use only':'pribadi', 'brand':'merek', \n",
    "                       'currency':'mata_uang'}, inplace = True)\n",
    "data.head()"
   ]
  },
  {
   "cell_type": "markdown",
   "id": "0800cd9a",
   "metadata": {},
   "source": [
    "#### cek data kategorik yang ada di kolom Kondisi, Laba, Pemilik, pribadi"
   ]
  },
  {
   "cell_type": "code",
   "execution_count": 62,
   "id": "b316e905",
   "metadata": {},
   "outputs": [
    {
     "data": {
      "text/plain": [
       "array(['No', 'Yes'], dtype=object)"
      ]
     },
     "execution_count": 62,
     "metadata": {},
     "output_type": "execute_result"
    }
   ],
   "source": [
    "data.kondisi.unique()\n",
    "data.laba.unique()\n",
    "data.pemilik.unique()\n",
    "data.pribadi.unique()"
   ]
  },
  {
   "cell_type": "markdown",
   "id": "14d94665",
   "metadata": {},
   "source": [
    "#### Mengubah data kategorik menjadi Numerik agar dapat diketahui korelasinya dengan kolom Harga"
   ]
  },
  {
   "cell_type": "code",
   "execution_count": 63,
   "id": "4ac656d2",
   "metadata": {},
   "outputs": [
    {
     "data": {
      "text/html": [
       "<div>\n",
       "<style scoped>\n",
       "    .dataframe tbody tr th:only-of-type {\n",
       "        vertical-align: middle;\n",
       "    }\n",
       "\n",
       "    .dataframe tbody tr th {\n",
       "        vertical-align: top;\n",
       "    }\n",
       "\n",
       "    .dataframe thead th {\n",
       "        text-align: right;\n",
       "    }\n",
       "</style>\n",
       "<table border=\"1\" class=\"dataframe\">\n",
       "  <thead>\n",
       "    <tr style=\"text-align: right;\">\n",
       "      <th></th>\n",
       "      <th>penggunaan</th>\n",
       "      <th>harga</th>\n",
       "      <th>warna_luar</th>\n",
       "      <th>warna_dalam</th>\n",
       "      <th>driver</th>\n",
       "      <th>jenis_bahan_bakar</th>\n",
       "      <th>bagian_luar</th>\n",
       "      <th>tempat_duduk</th>\n",
       "      <th>kondisi</th>\n",
       "      <th>laba</th>\n",
       "      <th>pemilik</th>\n",
       "      <th>pribadi</th>\n",
       "      <th>merek</th>\n",
       "      <th>mata_uang</th>\n",
       "    </tr>\n",
       "  </thead>\n",
       "  <tbody>\n",
       "    <tr>\n",
       "      <th>953</th>\n",
       "      <td>Used</td>\n",
       "      <td>47995</td>\n",
       "      <td>Liquid Carbon Metallic</td>\n",
       "      <td>Espresso</td>\n",
       "      <td>Awd</td>\n",
       "      <td>Gasoline</td>\n",
       "      <td>Alloy WheelsSunroof/Moonroof</td>\n",
       "      <td>Leather SeatsMemory SeatThird Row Seating</td>\n",
       "      <td>NaN</td>\n",
       "      <td>1</td>\n",
       "      <td>1</td>\n",
       "      <td>0</td>\n",
       "      <td>Acura</td>\n",
       "      <td>$</td>\n",
       "    </tr>\n",
       "    <tr>\n",
       "      <th>954</th>\n",
       "      <td>Used</td>\n",
       "      <td>51997</td>\n",
       "      <td>Liquid Carbon Metallic</td>\n",
       "      <td>Red</td>\n",
       "      <td>Awd</td>\n",
       "      <td>Gasoline</td>\n",
       "      <td>Alloy WheelsSunroof/Moonroof</td>\n",
       "      <td>Leather SeatsMemory SeatThird Row Seating</td>\n",
       "      <td>NaN</td>\n",
       "      <td>1</td>\n",
       "      <td>1</td>\n",
       "      <td>1</td>\n",
       "      <td>Acura</td>\n",
       "      <td>$</td>\n",
       "    </tr>\n",
       "    <tr>\n",
       "      <th>955</th>\n",
       "      <td>Acura Certified</td>\n",
       "      <td>49983</td>\n",
       "      <td>White</td>\n",
       "      <td>Espresso</td>\n",
       "      <td>Awd</td>\n",
       "      <td>Gasoline</td>\n",
       "      <td>Alloy WheelsSunroof/Moonroof</td>\n",
       "      <td>Leather SeatsMemory SeatThird Row Seating</td>\n",
       "      <td>NaN</td>\n",
       "      <td>1</td>\n",
       "      <td>1</td>\n",
       "      <td>0</td>\n",
       "      <td>Acura</td>\n",
       "      <td>$</td>\n",
       "    </tr>\n",
       "    <tr>\n",
       "      <th>956</th>\n",
       "      <td>Used</td>\n",
       "      <td>52997</td>\n",
       "      <td>Black</td>\n",
       "      <td>Ebony</td>\n",
       "      <td>Awd</td>\n",
       "      <td>Gasoline</td>\n",
       "      <td>Alloy WheelsSunroof/Moonroof</td>\n",
       "      <td>Leather SeatsMemory SeatThird Row Seating</td>\n",
       "      <td>NaN</td>\n",
       "      <td>1</td>\n",
       "      <td>1</td>\n",
       "      <td>0</td>\n",
       "      <td>Acura</td>\n",
       "      <td>$</td>\n",
       "    </tr>\n",
       "    <tr>\n",
       "      <th>957</th>\n",
       "      <td>Used</td>\n",
       "      <td>52998</td>\n",
       "      <td>Gold</td>\n",
       "      <td>Gray</td>\n",
       "      <td>Awd</td>\n",
       "      <td>Gasoline</td>\n",
       "      <td>Alloy Wheels</td>\n",
       "      <td>Leather SeatsMemory Seat</td>\n",
       "      <td>NaN</td>\n",
       "      <td>1</td>\n",
       "      <td>1</td>\n",
       "      <td>1</td>\n",
       "      <td>Acura</td>\n",
       "      <td>$</td>\n",
       "    </tr>\n",
       "  </tbody>\n",
       "</table>\n",
       "</div>"
      ],
      "text/plain": [
       "          penggunaan  harga                warna_luar warna_dalam driver  \\\n",
       "953             Used  47995   Liquid Carbon Metallic    Espresso     Awd   \n",
       "954             Used  51997   Liquid Carbon Metallic         Red     Awd   \n",
       "955  Acura Certified  49983                    White    Espresso     Awd   \n",
       "956             Used  52997                    Black       Ebony     Awd   \n",
       "957             Used  52998                     Gold        Gray     Awd   \n",
       "\n",
       "    jenis_bahan_bakar                       bagian_luar  \\\n",
       "953          Gasoline    Alloy WheelsSunroof/Moonroof     \n",
       "954          Gasoline    Alloy WheelsSunroof/Moonroof     \n",
       "955          Gasoline    Alloy WheelsSunroof/Moonroof     \n",
       "956          Gasoline    Alloy WheelsSunroof/Moonroof     \n",
       "957          Gasoline                    Alloy Wheels     \n",
       "\n",
       "                                      tempat_duduk  kondisi  laba  pemilik  \\\n",
       "953    Leather SeatsMemory SeatThird Row Seating        NaN     1        1   \n",
       "954    Leather SeatsMemory SeatThird Row Seating        NaN     1        1   \n",
       "955    Leather SeatsMemory SeatThird Row Seating        NaN     1        1   \n",
       "956    Leather SeatsMemory SeatThird Row Seating        NaN     1        1   \n",
       "957                     Leather SeatsMemory Seat        NaN     1        1   \n",
       "\n",
       "     pribadi  merek mata_uang  \n",
       "953        0  Acura         $  \n",
       "954        1  Acura         $  \n",
       "955        0  Acura         $  \n",
       "956        0  Acura         $  \n",
       "957        1  Acura         $  "
      ]
     },
     "execution_count": 63,
     "metadata": {},
     "output_type": "execute_result"
    }
   ],
   "source": [
    "data.kondisi = data.kondisi.map({'No':0, 'Yes':1})\n",
    "data.laba = data.laba.map({'No':0, 'Yes':1})\n",
    "data.pemilik = data.pemilik.map({'No':0, 'Yes':1})\n",
    "data.pribadi = data.pribadi.map({'No':0, 'Yes':1})\n",
    "\n",
    "data.head()"
   ]
  },
  {
   "cell_type": "code",
   "execution_count": 64,
   "id": "fcecd39d",
   "metadata": {},
   "outputs": [
    {
     "data": {
      "text/plain": [
       "harga      1.00\n",
       "kondisi     NaN\n",
       "laba      -0.00\n",
       "pemilik    0.10\n",
       "pribadi    0.03\n",
       "Name: harga, dtype: float64"
      ]
     },
     "execution_count": 64,
     "metadata": {},
     "output_type": "execute_result"
    }
   ],
   "source": [
    "data.corr()['harga']"
   ]
  },
  {
   "cell_type": "markdown",
   "id": "6894cce5",
   "metadata": {},
   "source": [
    "**Menghapus kolom yang Korelasinya tidak terlalu signifikan terhadap price**"
   ]
  },
  {
   "cell_type": "code",
   "execution_count": 65,
   "id": "374d1f89",
   "metadata": {},
   "outputs": [
    {
     "data": {
      "text/html": [
       "<div>\n",
       "<style scoped>\n",
       "    .dataframe tbody tr th:only-of-type {\n",
       "        vertical-align: middle;\n",
       "    }\n",
       "\n",
       "    .dataframe tbody tr th {\n",
       "        vertical-align: top;\n",
       "    }\n",
       "\n",
       "    .dataframe thead th {\n",
       "        text-align: right;\n",
       "    }\n",
       "</style>\n",
       "<table border=\"1\" class=\"dataframe\">\n",
       "  <thead>\n",
       "    <tr style=\"text-align: right;\">\n",
       "      <th></th>\n",
       "      <th>penggunaan</th>\n",
       "      <th>harga</th>\n",
       "      <th>warna_luar</th>\n",
       "      <th>warna_dalam</th>\n",
       "      <th>driver</th>\n",
       "      <th>jenis_bahan_bakar</th>\n",
       "      <th>bagian_luar</th>\n",
       "      <th>tempat_duduk</th>\n",
       "      <th>merek</th>\n",
       "      <th>mata_uang</th>\n",
       "    </tr>\n",
       "  </thead>\n",
       "  <tbody>\n",
       "    <tr>\n",
       "      <th>953</th>\n",
       "      <td>Used</td>\n",
       "      <td>47995</td>\n",
       "      <td>Liquid Carbon Metallic</td>\n",
       "      <td>Espresso</td>\n",
       "      <td>Awd</td>\n",
       "      <td>Gasoline</td>\n",
       "      <td>Alloy WheelsSunroof/Moonroof</td>\n",
       "      <td>Leather SeatsMemory SeatThird Row Seating</td>\n",
       "      <td>Acura</td>\n",
       "      <td>$</td>\n",
       "    </tr>\n",
       "    <tr>\n",
       "      <th>954</th>\n",
       "      <td>Used</td>\n",
       "      <td>51997</td>\n",
       "      <td>Liquid Carbon Metallic</td>\n",
       "      <td>Red</td>\n",
       "      <td>Awd</td>\n",
       "      <td>Gasoline</td>\n",
       "      <td>Alloy WheelsSunroof/Moonroof</td>\n",
       "      <td>Leather SeatsMemory SeatThird Row Seating</td>\n",
       "      <td>Acura</td>\n",
       "      <td>$</td>\n",
       "    </tr>\n",
       "    <tr>\n",
       "      <th>955</th>\n",
       "      <td>Acura Certified</td>\n",
       "      <td>49983</td>\n",
       "      <td>White</td>\n",
       "      <td>Espresso</td>\n",
       "      <td>Awd</td>\n",
       "      <td>Gasoline</td>\n",
       "      <td>Alloy WheelsSunroof/Moonroof</td>\n",
       "      <td>Leather SeatsMemory SeatThird Row Seating</td>\n",
       "      <td>Acura</td>\n",
       "      <td>$</td>\n",
       "    </tr>\n",
       "    <tr>\n",
       "      <th>956</th>\n",
       "      <td>Used</td>\n",
       "      <td>52997</td>\n",
       "      <td>Black</td>\n",
       "      <td>Ebony</td>\n",
       "      <td>Awd</td>\n",
       "      <td>Gasoline</td>\n",
       "      <td>Alloy WheelsSunroof/Moonroof</td>\n",
       "      <td>Leather SeatsMemory SeatThird Row Seating</td>\n",
       "      <td>Acura</td>\n",
       "      <td>$</td>\n",
       "    </tr>\n",
       "    <tr>\n",
       "      <th>957</th>\n",
       "      <td>Used</td>\n",
       "      <td>52998</td>\n",
       "      <td>Gold</td>\n",
       "      <td>Gray</td>\n",
       "      <td>Awd</td>\n",
       "      <td>Gasoline</td>\n",
       "      <td>Alloy Wheels</td>\n",
       "      <td>Leather SeatsMemory Seat</td>\n",
       "      <td>Acura</td>\n",
       "      <td>$</td>\n",
       "    </tr>\n",
       "  </tbody>\n",
       "</table>\n",
       "</div>"
      ],
      "text/plain": [
       "          penggunaan  harga                warna_luar warna_dalam driver  \\\n",
       "953             Used  47995   Liquid Carbon Metallic    Espresso     Awd   \n",
       "954             Used  51997   Liquid Carbon Metallic         Red     Awd   \n",
       "955  Acura Certified  49983                    White    Espresso     Awd   \n",
       "956             Used  52997                    Black       Ebony     Awd   \n",
       "957             Used  52998                     Gold        Gray     Awd   \n",
       "\n",
       "    jenis_bahan_bakar                       bagian_luar  \\\n",
       "953          Gasoline    Alloy WheelsSunroof/Moonroof     \n",
       "954          Gasoline    Alloy WheelsSunroof/Moonroof     \n",
       "955          Gasoline    Alloy WheelsSunroof/Moonroof     \n",
       "956          Gasoline    Alloy WheelsSunroof/Moonroof     \n",
       "957          Gasoline                    Alloy Wheels     \n",
       "\n",
       "                                      tempat_duduk  merek mata_uang  \n",
       "953    Leather SeatsMemory SeatThird Row Seating    Acura         $  \n",
       "954    Leather SeatsMemory SeatThird Row Seating    Acura         $  \n",
       "955    Leather SeatsMemory SeatThird Row Seating    Acura         $  \n",
       "956    Leather SeatsMemory SeatThird Row Seating    Acura         $  \n",
       "957                     Leather SeatsMemory Seat    Acura         $  "
      ]
     },
     "execution_count": 65,
     "metadata": {},
     "output_type": "execute_result"
    }
   ],
   "source": [
    "data.drop(columns=['kondisi', 'laba', 'pemilik', 'pribadi'], inplace=True)\n",
    "data.head()"
   ]
  },
  {
   "cell_type": "markdown",
   "id": "70c7e377",
   "metadata": {},
   "source": [
    "## Cek data Kategorik yang terdapat pada setiap Kolom"
   ]
  },
  {
   "cell_type": "markdown",
   "id": "bbab113c",
   "metadata": {},
   "source": [
    "**1. Cek data kategorik pada kolom penggunaan**"
   ]
  },
  {
   "cell_type": "code",
   "execution_count": 66,
   "id": "0e5ad684",
   "metadata": {},
   "outputs": [
    {
     "data": {
      "text/plain": [
       "array(['Used', 'Acura Certified', 'Bmw Certified', 'Buick Certified',\n",
       "       'Cadillac Certified', 'Chevrolet Certified', 'Chrysler Certified',\n",
       "       'Dodge Certified', 'Ford Certified', 'Gmc Certified',\n",
       "       'Honda Certified', 'Jeep Certified', 'Kia Certified',\n",
       "       'Mercedes-Benz Certified', 'Nissan Certified', 'Porsche Certified',\n",
       "       'Ram Certified', 'Subaru Certified', 'Toyota Certified',\n",
       "       'Volkswagen Certified', 'Volvo Certified'], dtype=object)"
      ]
     },
     "execution_count": 66,
     "metadata": {},
     "output_type": "execute_result"
    }
   ],
   "source": [
    "data.penggunaan.unique()"
   ]
  },
  {
   "cell_type": "markdown",
   "id": "4b4b82c8",
   "metadata": {},
   "source": [
    "**Menyederhanakan data kategorik pada kolom penggunaan**"
   ]
  },
  {
   "cell_type": "code",
   "execution_count": 67,
   "id": "5662cb61",
   "metadata": {},
   "outputs": [
    {
     "data": {
      "text/html": [
       "<div>\n",
       "<style scoped>\n",
       "    .dataframe tbody tr th:only-of-type {\n",
       "        vertical-align: middle;\n",
       "    }\n",
       "\n",
       "    .dataframe tbody tr th {\n",
       "        vertical-align: top;\n",
       "    }\n",
       "\n",
       "    .dataframe thead th {\n",
       "        text-align: right;\n",
       "    }\n",
       "</style>\n",
       "<table border=\"1\" class=\"dataframe\">\n",
       "  <thead>\n",
       "    <tr style=\"text-align: right;\">\n",
       "      <th></th>\n",
       "      <th>penggunaan</th>\n",
       "      <th>harga</th>\n",
       "      <th>warna_luar</th>\n",
       "      <th>warna_dalam</th>\n",
       "      <th>driver</th>\n",
       "      <th>jenis_bahan_bakar</th>\n",
       "      <th>bagian_luar</th>\n",
       "      <th>tempat_duduk</th>\n",
       "      <th>merek</th>\n",
       "      <th>mata_uang</th>\n",
       "    </tr>\n",
       "  </thead>\n",
       "  <tbody>\n",
       "    <tr>\n",
       "      <th>953</th>\n",
       "      <td>Used</td>\n",
       "      <td>47995</td>\n",
       "      <td>Liquid Carbon Metallic</td>\n",
       "      <td>Espresso</td>\n",
       "      <td>Awd</td>\n",
       "      <td>Gasoline</td>\n",
       "      <td>Alloy WheelsSunroof/Moonroof</td>\n",
       "      <td>Leather SeatsMemory SeatThird Row Seating</td>\n",
       "      <td>Acura</td>\n",
       "      <td>$</td>\n",
       "    </tr>\n",
       "    <tr>\n",
       "      <th>954</th>\n",
       "      <td>Used</td>\n",
       "      <td>51997</td>\n",
       "      <td>Liquid Carbon Metallic</td>\n",
       "      <td>Red</td>\n",
       "      <td>Awd</td>\n",
       "      <td>Gasoline</td>\n",
       "      <td>Alloy WheelsSunroof/Moonroof</td>\n",
       "      <td>Leather SeatsMemory SeatThird Row Seating</td>\n",
       "      <td>Acura</td>\n",
       "      <td>$</td>\n",
       "    </tr>\n",
       "    <tr>\n",
       "      <th>955</th>\n",
       "      <td>Other</td>\n",
       "      <td>49983</td>\n",
       "      <td>White</td>\n",
       "      <td>Espresso</td>\n",
       "      <td>Awd</td>\n",
       "      <td>Gasoline</td>\n",
       "      <td>Alloy WheelsSunroof/Moonroof</td>\n",
       "      <td>Leather SeatsMemory SeatThird Row Seating</td>\n",
       "      <td>Acura</td>\n",
       "      <td>$</td>\n",
       "    </tr>\n",
       "    <tr>\n",
       "      <th>956</th>\n",
       "      <td>Used</td>\n",
       "      <td>52997</td>\n",
       "      <td>Black</td>\n",
       "      <td>Ebony</td>\n",
       "      <td>Awd</td>\n",
       "      <td>Gasoline</td>\n",
       "      <td>Alloy WheelsSunroof/Moonroof</td>\n",
       "      <td>Leather SeatsMemory SeatThird Row Seating</td>\n",
       "      <td>Acura</td>\n",
       "      <td>$</td>\n",
       "    </tr>\n",
       "    <tr>\n",
       "      <th>957</th>\n",
       "      <td>Used</td>\n",
       "      <td>52998</td>\n",
       "      <td>Gold</td>\n",
       "      <td>Gray</td>\n",
       "      <td>Awd</td>\n",
       "      <td>Gasoline</td>\n",
       "      <td>Alloy Wheels</td>\n",
       "      <td>Leather SeatsMemory Seat</td>\n",
       "      <td>Acura</td>\n",
       "      <td>$</td>\n",
       "    </tr>\n",
       "  </tbody>\n",
       "</table>\n",
       "</div>"
      ],
      "text/plain": [
       "    penggunaan  harga                warna_luar warna_dalam driver  \\\n",
       "953       Used  47995   Liquid Carbon Metallic    Espresso     Awd   \n",
       "954       Used  51997   Liquid Carbon Metallic         Red     Awd   \n",
       "955      Other  49983                    White    Espresso     Awd   \n",
       "956       Used  52997                    Black       Ebony     Awd   \n",
       "957       Used  52998                     Gold        Gray     Awd   \n",
       "\n",
       "    jenis_bahan_bakar                       bagian_luar  \\\n",
       "953          Gasoline    Alloy WheelsSunroof/Moonroof     \n",
       "954          Gasoline    Alloy WheelsSunroof/Moonroof     \n",
       "955          Gasoline    Alloy WheelsSunroof/Moonroof     \n",
       "956          Gasoline    Alloy WheelsSunroof/Moonroof     \n",
       "957          Gasoline                    Alloy Wheels     \n",
       "\n",
       "                                      tempat_duduk  merek mata_uang  \n",
       "953    Leather SeatsMemory SeatThird Row Seating    Acura         $  \n",
       "954    Leather SeatsMemory SeatThird Row Seating    Acura         $  \n",
       "955    Leather SeatsMemory SeatThird Row Seating    Acura         $  \n",
       "956    Leather SeatsMemory SeatThird Row Seating    Acura         $  \n",
       "957                     Leather SeatsMemory Seat    Acura         $  "
      ]
     },
     "execution_count": 67,
     "metadata": {},
     "output_type": "execute_result"
    }
   ],
   "source": [
    "def setpenggunaancategory(text):\n",
    "    if text == 'New':\n",
    "        return 'New'\n",
    "    elif text == 'Used':\n",
    "        return 'Used'\n",
    "    else:\n",
    "        return 'Other'\n",
    "    \n",
    "data['penggunaan'] = data['penggunaan'].apply(lambda x:setpenggunaancategory(x))\n",
    "data.head()"
   ]
  },
  {
   "cell_type": "markdown",
   "id": "aa39dbc6",
   "metadata": {},
   "source": [
    "**2. Cek data kategorik pada kolom warna_luar**"
   ]
  },
  {
   "cell_type": "code",
   "execution_count": 68,
   "id": "b6529935",
   "metadata": {
    "scrolled": true
   },
   "outputs": [
    {
     "data": {
      "text/plain": [
       "array([' Liquid Carbon Metallic ', ' White ', ' Black ', ' Gold ',\n",
       "       ' Platinum White Pearl ', ' Gray ', ' Red ', ' Pearl ',\n",
       "       ' Majestic Black Pearl ', ' Blue ', ' Platinum White ',\n",
       "       ' Apex Blue Pearl ', ' Modern Steel Metallic ',\n",
       "       ' Lunar Silver Metallic ', ' Silver ', ' Performance Red Pearl ',\n",
       "       ' Dark Gray ', ' Gunmetal Metallic ', ' Brown ',\n",
       "       ' White Diamond Pearl ', ' Bellanova White Pearl ', ' Burgundy ',\n",
       "       ' Crystal Black Pearl ', ' Slate Silver Metallic ',\n",
       "       ' Graphite Luster Metallic ', ' Forged Silver Metallic ',\n",
       "       ' Bali Blue Pearl ', ' Mythos Black Metallic ',\n",
       "       ' Samurai Gray Metallic ', ' Florett Silver Metallic ',\n",
       "       ' Ibis White ', ' Glacier White Metallic ', ' Brilliant Black ',\n",
       "       ' Night Black ', ' Audi Exclusive Color ',\n",
       "       ' Navarra Blue Metallic ', ' Ultra Blue Metallic ',\n",
       "       ' Manhattan Gray Metallic ', ' Orca Black Metallic ',\n",
       "       ' Daytona Gray Pearl Effect ', ' Turbo Blue ',\n",
       "       ' Chronos Gray Metallic ', ' Tango Red Metallic ',\n",
       "       ' Moonlight Blue Metallic ', ' Cobra Beige Metallic ',\n",
       "       ' Carrara White ', ' Firmament Blue Metallic ', ' Pulse Orange ',\n",
       "       ' Vesuvius Gray Metallic ', ' Matador Red Metallic ',\n",
       "       ' Monsoon Gray Metallic ', ' Matador Red Metallic W/ Black Roof ',\n",
       "       ' Utopia Blue Metallic ', ' Graphite Gray Metallic ',\n",
       "       ' Ink Blue Metallic ', ' Tornado Gray Metallic ',\n",
       "       ' Misano Red Pearl Effect ', ' Carat Beige Metallic ',\n",
       "       ' Moonlight Blue Metallic W/ Black Roof ', ' Cortina White ',\n",
       "       ' Bl ', ' Floret Silver Metallic ', ' Midnight Black ',\n",
       "       ' Sepang Blue Pearl Effect ', ' Brilliant Red ',\n",
       "       ' Shiraz Red Metallic / Black Roof ', ' Daytona Gray Pearl ',\n",
       "       ' Cuvee Silver Metallic ', ' Dakota Gray Metallic ',\n",
       "       ' Ice Silver Metallic ', ' Melbourne Red ',\n",
       "       ' Black Sapphire Metallic ',\n",
       "       ' Bernina Gray Amber Effect Metallic ', ' Alpine White ',\n",
       "       ' Jet Black ', ' White Metallic ', ' Metallic ',\n",
       "       ' Mineral White Metallic ', ' Dark Graphite Metallic ',\n",
       "       ' Dravit Gray Metallic ', ' Mineral Gray Metallic ',\n",
       "       ' Phytonic Blue Metallic ', ' Orange ', ' Mineral Gray ',\n",
       "       ' Arctic Gray Metallic ', ' Imperial Blue Metallic ',\n",
       "       ' Riverside Blue Metallic ', ' Glacier Silver Metallic ',\n",
       "       ' Singapore Gray Metallic ', ' Mediterranean Blue Metallic ',\n",
       "       ' Black Sapphire ', ' Platinum Silver Metallic ',\n",
       "       ' Dark Graphite ', ' Carbon Black Metallic ',\n",
       "       ' Melbourne Red Metallic ', ' Super White ',\n",
       "       ' Midnight Blue Metallic ', ' Magellan Gray Metallic ',\n",
       "       ' Orion Silver Metallic ', ' Deep Sea Blue Metallic ',\n",
       "       ' Valencia Orange Metallic ', ' Mineral Silver Metallic ',\n",
       "       ' Space Gray Metallic ', ' Jerez Black Metallic ', ' Beige ',\n",
       "       ' Satin Steel Metallic ', ' Rich Garnet Metallic ',\n",
       "       ' Cinnabar Metallic ', ' Ebony Twilight Metallic ',\n",
       "       ' Sapphire Metallic ', ' Sunset Glow Metallic ', ' Summit White ',\n",
       "       ' Chili Red Metallic ', ' White Frost Tri-Coat ',\n",
       "       ' Dark Moon Blue Metallic ', ' Quicksilver Metallic ',\n",
       "       ' Quartz Silver Metallic ', ' Black Currant Metallic ',\n",
       "       ' Espresso ', ' Dark Slate Metallic ',\n",
       "       ' Burnished Bronze Metallic ', ' Red Quartz Tintcoat ', ' Maroon ',\n",
       "       ' Winterberry Red Metallic ', ' Coppertino Metallic ', ' Copper ',\n",
       "       ' White Frost Tricoat ', ' Deep ', ' Green ',\n",
       "       ' Black Cherry Metallic ', ' Pepperdust Metallic ',\n",
       "       ' Havana Metallic ', ' Bronze Alloy Metallic ', ' Purple ',\n",
       "       ' Midnight Amethyst Metallic ', ' Quicksilver Clearcoat Metallic ',\n",
       "       ' Black Onyx ', ' Crimson Red Tintcoat ',\n",
       "       ' Dark Sapphire Blue Metallic ', ' Riverrock Metallic ',\n",
       "       ' Iridium Metallic ', ' Sparkling Silver Metallic ',\n",
       "       ' Dark Chocolate ', ' Deep Garnet Metallic ',\n",
       "       ' White Pearl Tri-Coat ', ' Deep Espresso Brown Metallic ',\n",
       "       ' Tan ', ' Ruby Red Metallic ', ' Satin Steel Gray Metallic ',\n",
       "       ' Champagne Silver ', ' White Diamond Tri-Coat ',\n",
       "       ' Cocoa Silver Metallic ', ' Cocoa Metallic ',\n",
       "       ' Atlantis Blue Metallic ', ' Cocoa ', ' Stellar Black Metallic ',\n",
       "       ' Wave Metallic ', ' Crystal White Tri-Coat ', ' Black Raven ',\n",
       "       ' Infrared Tintcoat ', ' Shadow Metallic ',\n",
       "       ' Twilight Blue Metallic ', ' Crystal White ',\n",
       "       ' Crystal White Tricoat ', ' Radiant Silver Metallic ',\n",
       "       ' Garnet Red Metallic ', ' Autumn Metallic ', ' Velocity Red ',\n",
       "       ' Manhattan Noir Metallic ', ' Satin Steel ',\n",
       "       ' Red Horizon Tintcoat ', ' Dark Adriatic Blue Metallic ',\n",
       "       ' Harbor Blue Metallic ', ' Bronze Sand Metallic ',\n",
       "       ' Bronze Dune Metallic ', ' Dark Mocha Metallic ',\n",
       "       ' Red Obsession ', ' Dark Granite Metallic ',\n",
       "       ' Phantom Gray Metallic ', ' Red Passion Tintcoat ',\n",
       "       ' Deep Amethyst Metallic ', ' Platinum Ice Tri-Coat ',\n",
       "       ' Cocoa Bronze Metallic ', ' Silver Coast Metallic ',\n",
       "       ' Terra Mocha Metallic ', ' Crystal Red Tintcoat ',\n",
       "       ' Sapphire Blue Metallic ', ' Charcoal ', ' Champagne ',\n",
       "       ' Iridescent Pearl Tricoat ', ' Cherry Red Tintcoat ',\n",
       "       ' Graywood Metallic ', ' Oasis Blue ', ' Mosaic Black Metallic ',\n",
       "       ' Pewter Metallic ', ' Cajun Red Tintcoat ',\n",
       "       ' Shadow Gray Metallic ', ' Crimson Metallic ',\n",
       "       ' Empire Beige Metallic ', ' Northsky Blue Metallic ',\n",
       "       ' Torch Red ', ' Sand Dune Metallic ', ' Silver Ice Metallic ',\n",
       "       ' Graphite Metallic ', ' Stone Gray Metallic ',\n",
       "       ' Blue Velvet Metallic ', ' Siren Red Tintcoat ', ' Crush ',\n",
       "       ' Sunlit Bronze Metallic ', ' Kinetic Blue ',\n",
       "       ' Hyper Blue Metallic ', ' Sable Brown Metallic ',\n",
       "       ' Tungsten Metallic ', ' Nightfall Gray Metallic ',\n",
       "       ' Pearl White ', ' Phantom Black Metallic ',\n",
       "       ' Long Beach Red Metallic Tintcoat ', ' Blade Silver Metallic ',\n",
       "       ' Garnet Red Tintcoat ', ' Ashen Gray Metallic ',\n",
       "       ' Brownstone Metallic ', ' Silver Ice ', ' Arctic White ',\n",
       "       ' Shark Gray Metallic ', ' Autumn Bronze Metallic ',\n",
       "       ' Laguna Blue Metallic Tintcoat ', ' Champagne Silver Metallic ',\n",
       "       ' Yellow ', ' Black Granite Metallic ',\n",
       "       ' Night Race Blue Metallic ', ' Deep Ocean Blue Metallic ',\n",
       "       ' Graystone Metallic ', ' Blue Granite Metallic ', ' Gloss Black ',\n",
       "       ' Billet Silver Metallic Clearcoat ',\n",
       "       ' Brilliant Black Crystal Pearlcoat ', ' Velvet Red Pearlcoat ',\n",
       "       ' Bright White Clearcoat ', ' Granite Crystal Clearcoat Metallic ',\n",
       "       ' Silver Mist Clearcoat ', ' Ceramic Gray ',\n",
       "       ' Luxury White Pearlcoat ', ' Ceramic Gray Clearcoat ',\n",
       "       ' Billet Silver Clearcoat Metallic ', ' Jazz Blue Pearlcoat ',\n",
       "       ' Granite ', ' Velvet Red ', ' Maximum Steel Metallic ',\n",
       "       ' Ocean Blue Metallic ', ' Granite Crystal Metallic ',\n",
       "       ' Bright White ', ' Molten Silver ', ' Copper Pearlcoat ',\n",
       "       ' Maximum Steel ', ' Dark Cordovan Pearlcoat ',\n",
       "       ' Cashmere / Sandstone Pearlcoat ', ' Black Clearcoat ',\n",
       "       ' Stone White ', ' Destroyer Gray Clearcoat ', ' Indigo Blue ',\n",
       "       ' Triple Nickel Clearcoat ', ' Pitch Black Clearcoat ',\n",
       "       ' White Knuckle Clearcoat ', ' Db Black Crystal Clearcoat ',\n",
       "       ' Granite Pearlcoat ', ' Db Black Clearcoat ',\n",
       "       ' Granite Clearcoat ', ' Granite Clearcoat Metallic ',\n",
       "       ' Billet Clearcoat ', ' Dark Blue ', ' Octane Red Pearlcoat ',\n",
       "       ' Hellraisin ', ' Billet Clearcoat Metallic ',\n",
       "       ' Black Onyx Crystal Pearlcoat ', ' Vice White ', ' Db Black ',\n",
       "       ' Contusion Blue Pearlcoat ', ' Redline 2 Coat Pearl ',\n",
       "       ' Octane Red ', ' Billet ', ' Blood Orange Clearcoat ',\n",
       "       ' Torred Clearcoat ', ' Billet Metallic ',\n",
       "       ' Granite Crystal Metallic Clearcoat ',\n",
       "       ' Yellow Jacket Clearcoat ', ' White Noise ',\n",
       "       ' Deep Cherry Red Crystal Pearlcoat ', ' Billet Silver Metallic ',\n",
       "       ' True Blue Pearlcoat ', ' Phantom Black Tri Coat Pearl ',\n",
       "       ' B5 Blue Pearlcoat ', ' Phantom Black 3 Coat Pearl ',\n",
       "       ' Agate Black Metallic ', ' Oxford White ',\n",
       "       ' Atlas Blue Metallic ', ' Black / Agate ',\n",
       "       ' Carbonized Gray Metallic ', ' Cactus Green / Gray ',\n",
       "       ' Antimatter Blue Metallic ',\n",
       "       ' Alto Blue Metallic Tinted Clearcoat ',\n",
       "       ' Rapid Red Metallic Tinted Clearcoat ', ' Star White ',\n",
       "       ' Magnetic Metallic ', ' Infinite Blue Metallic Tinted Clearcoat ',\n",
       "       ' Agate Black ', ' Velocity Blue ', ' Iconic Silver Metallic ',\n",
       "       ' Burgundy Velvet Metallic Tinted Clearcoat ', ' Blue Metallic ',\n",
       "       ' Magnetic ', ' Blue Jeans Metallic ',\n",
       "       ' Rich Copper Metallic Tinted Clearcoat ',\n",
       "       ' Silver Spruce Metallic ', ' Stone Gray ',\n",
       "       ' Ruby Red Metallic Tinted Clearcoat ',\n",
       "       ' White Platinum Tri-Coat Metallic ', ' White Platinum ',\n",
       "       ' Ingot Silver ', ' Ingot Silver Metallic ', ' Race Red ',\n",
       "       ' Shadow Black ', ' Lead Foot ', ' Ruby Red ',\n",
       "       ' White Gold Metallic ', ' Magma Red Metallic ', ' Platinum ',\n",
       "       ' Magma Red ', ' Smoked Quartz Metallic Tinted Clearcoat ',\n",
       "       ' White Gold ', ' Tectonic ', ' Tuxedo Black ',\n",
       "       ' Tuxedo Black Metallic ', ' Triple Yellow Tri-Coat ',\n",
       "       ' Deep Impact Blue Metallic ', ' White Platinum Metallic ',\n",
       "       ' Ruby Red Tinted Clearcoat ', ' Dark Side Metallic ',\n",
       "       ' Ginger Ale Metallic ', ' Sterling Gray Metallic ',\n",
       "       ' Ginger Ale ', ' Red Candy Metallic Tinted Clearcoat ',\n",
       "       ' Steel Blue Metallic ', ' Gold Leaf Metallic ', ' Onyx Black ',\n",
       "       ' Titanium Rush Metallic ', ' Dark Sky Metallic ',\n",
       "       ' Beige Pearl Metallic ', ' Blue Emerald Metallic ',\n",
       "       ' Red Mahogany Metallic ', ' Smokey Quartz Metallic ',\n",
       "       ' Pacific Blue Metallic ', ' Blue Steel Metallic ', ' Dark Slate ',\n",
       "       ' Stone Blue Metallic ', ' Mineral Metallic ', ' Cardinal Red ',\n",
       "       ' Other ', ' Teal Green ', ' Sonoma Red Metallic ',\n",
       "       ' Atlantic Blue ', ' Cyber Gray Metallic ',\n",
       "       ' Obsidian Blue Pearl ', ' Black Crystal ', ' Lunar Silver ',\n",
       "       ' Sonic Gray Pearl ', ' Deep Scarlet Pearl ', ' Aegean Blue ',\n",
       "       ' Radiant Red Metallic ', ' Black Copper Pearl ',\n",
       "       ' Aegean Blue Metallic ', ' Molten Lava Pearl ',\n",
       "       ' Forest Mist Metallic ', ' White Orchid Pearl ',\n",
       "       ' Basque Red Pearl Ii ', ' Dark Olive Metallic ',\n",
       "       ' Sandstorm Metallic ', ' Smoky Topaz Metallic ',\n",
       "       ' Tiger Eye Pearl ', ' Alabaster Silver Metallic ',\n",
       "       ' Urban Titanium Metallic ', ' Kona Coffee Metallic ',\n",
       "       ' Polished Metal Metallic ', ' Hyper White ', ' Rainforest ',\n",
       "       ' Steel Graphite ', ' Hampton Gray ', ' Intense Blue ',\n",
       "       ' Lunar White ', ' Moonlight Cloud ', ' Teal Isle ',\n",
       "       ' Portofino Gray ', ' Steel / Graphite ', ' Red Crimson ',\n",
       "       ' Ultra Black ', ' Chalk White ', ' Glowing Yellow ',\n",
       "       ' Twilight Black ', ' Becketts Black ',\n",
       "       ' Shimmering Silver Pearl ', ' Monaco White ', ' Stormy Sea ',\n",
       "       ' Phantom Black ', ' Quartz White ', ' Sage Brown ',\n",
       "       ' Lakeside Blue ', ' Black Noir Pearl ', ' Iron Frost ',\n",
       "       ' Machine Gray ', ' Symphony Silver ', ' Night Sky Pearl ',\n",
       "       ' Ceramic White ', ' Caribbean Blue ', ' Dazzling White ',\n",
       "       ' Regal Red Pearl ', ' Aqua Blue ', ' Canyon Copper ',\n",
       "       ' Symphony Air Silver ', ' Circuit Silver ',\n",
       "       ' Quartz White Pearl ', ' Coliseum Gray ', ' Summit Gray ',\n",
       "       ' Starlight Silver ', ' Nocturne Black ', ' Frost White Pearl ',\n",
       "       ' Coliseum Grey ', ' Eclipse Black ', ' Diamond Black ',\n",
       "       ' Sedona Sunset ', ' Java Espresso ', ' Dark Truffle ',\n",
       "       ' Elite White ', ' Ruby Wine ', ' Winter White ',\n",
       "       ' Venetian Red Pearl ', ' Empire State Gray ', ' Caspian Black ',\n",
       "       ' Marrakesh Beige ', ' Diamond White Pearl ', ' Urban Sunset ',\n",
       "       ' Platinum Graphite ', ' Ash Black ', ' Vitamin C ',\n",
       "       ' Venetian Red ', ' Windy Sea Blue ', ' Serrano Red ',\n",
       "       ' Nouveau Blue ', ' Cabo Bronze ', ' Elite White Pearl ',\n",
       "       ' Shimmering Silver ', ' Indigo Blue Pearl ', ' Vitamin C Pearl ',\n",
       "       ' Bronze Mist Metallic ', ' Sparkling Ruby Mica ',\n",
       "       ' Silver Frost Metallic ', ' Titanium Gray Metallic ',\n",
       "       ' Frosted Mocha ', ' Harbor Gray Metallic ', ' Diamond Silver ',\n",
       "       ' Iridescent Silver Blue Pearl Mica ', ' Red Allure ',\n",
       "       ' Moonstone Silver ', ' Sierra Red ', ' Black Obsidian ',\n",
       "       ' Hermosa Blue ', ' Anthracite Gray ', ' Graphite Shadow ',\n",
       "       ' Liquid Platinum ', ' Mineral Black ', ' Moonstone White ',\n",
       "       ' Majestic White ', ' Mocha Almond ', ' Imperial Black ',\n",
       "       ' Champagne Quartz ', ' Gun Metallic ', ' Pure White ',\n",
       "       ' Deep Bordeaux ', ' Malbec Black ', ' Hagane Blue ', ' Khaki ',\n",
       "       ' Magnetic Red ', ' Midnight Garnet ', ' Jade Green ',\n",
       "       ' Venetian Ruby ', ' Moonlight White ', ' Diamond Slate ',\n",
       "       ' Smoky Quartz ', ' Midnight Mocha ', ' Fuji White ',\n",
       "       ' Portofino Blue ', ' Santorini Black ', ' Narvik Black ',\n",
       "       ' Indus Silver ', ' Firenze Red ', ' Caesium Blue ',\n",
       "       ' Carpathian Grey ', ' Loire Blue ', ' Yulong White ',\n",
       "       ' Carpathian Gray ', ' Corris Grey ', ' Italian Racing Red ',\n",
       "       ' Glacier White ', ' Polaris White ', ' Rhodium Silver ',\n",
       "       ' Ultimate Black ', ' Ingot ', ' Quartzite ',\n",
       "       ' British Racing Green ', ' Ammonite Grey ', ' Dark Sapphire ',\n",
       "       ' Ebony Black ', ' Ultimate Black Metallic ',\n",
       "       ' Diamond Black Crystal Pearlcoat ', ' Sting Gray Clearcoat ',\n",
       "       ' Sangria Metallic ', ' Walnut Brown ', ' White Clearcoat ',\n",
       "       ' Ivory ', ' Slate Blue Pearlcoat ', ' Pacific Blue Clearcoat ',\n",
       "       ' Firecracker Red Clearcoat ', ' Blue Shade Pearlcoat ',\n",
       "       ' Light Brownstone Pearlcoat ', ' Rhino Clearcoat ',\n",
       "       ' Sarge Green ', ' Deep Auburn Pearlcoat ',\n",
       "       ' Mango Tango Pearlcoat ', ' Brilliant Black Crystal Pearl ',\n",
       "       ' Wolf Gray ', ' Glacial White Pearl ', ' Astra Blue ',\n",
       "       ' Passion Red ', ' Gravity Gray ', ' Silky Silver ',\n",
       "       ' Sparkling Silver ', ' Ceramic Silver ', ' Dark Moss ',\n",
       "       ' Glacier White Pearl ', ' Aurora Black ', ' Steel Gray ',\n",
       "       ' Snow White Pearl ', ' Gravity Grey ', ' Everlasting Silver ',\n",
       "       ' Metal ', ' Imperial Blue ', ' Sparkling ', ' Deep Sea Blue ',\n",
       "       ' Horizon Blue ', ' Black Cherry ', ' Pacific Blue ',\n",
       "       ' Celestial Blue ', ' Micro Blue ', ' Rich Espresso ', ' Sangria ',\n",
       "       ' Gravity Blue ', ' Venetian Red Pearl Metallic ',\n",
       "       ' Remington Red Metallic ', ' Beechwood Pearl Metallic ',\n",
       "       ' Dark Cherry ', ' Satin Metal ', ' Mineral Silver ',\n",
       "       ' Signal Red ', ' Eiger Grey ', ' Byron Blue ', ' Nolita Grey ',\n",
       "       ' Seoul Pearl Silver ', ' Svo Green ', ' Lorie Blue ',\n",
       "       ' Silicon Silver ', ' Aruba ', ' Svo Premium Palette Black ',\n",
       "       ' Farallon Black ', ' Kaikoura Stone ', ' Waitomo Grey ',\n",
       "       ' Zanzibar Metallic ', ' Corris Gray ', ' Ipanema Sand Metallic ',\n",
       "       ' Orkney Gray ', ' Atomic Silver ', ' Nebula Gray Pearl ',\n",
       "       ' Eminent White Pearl ', ' Caviar ', ' Moon ', ' Nightfall Mica ',\n",
       "       ' Ultra White ', ' Cadmium Orange ', ' Manganese Luster ',\n",
       "       ' Silver Lining Metallic ', ' Obsidian Black ', ' Starfire Pearl ',\n",
       "       ' Redline ', ' Satin Cashmere Metallic ', ' Knights Armor Pearl ',\n",
       "       ' Matador Red Mica ', ' Riviera Red ', ' Pristine White ',\n",
       "       ' Flight Blue ', ' Red Carpet ', ' Mocha ',\n",
       "       ' Red Carpet Metallic Tinted Clearcoat ', ' Blue Diamond ',\n",
       "       ' Burgundy Velvet ', ' Infinite Black Metallic ',\n",
       "       ' Chroma Caviar Dark Gray ', ' Magnetic Gray ',\n",
       "       ' Magma Red Clearcoat ', ' Ceramic Pearl Metallic ',\n",
       "       ' Silver Radiance ', ' Infinite Black ', ' Artisan Blue ',\n",
       "       ' Iced Mocha Metallic ', ' Silver Radiance Metallic ', ' Crystal ',\n",
       "       ' Magnetic Gray Metallic ', ' White Platinum Tri-Coat ',\n",
       "       ' Rhapsody Blue Metallic ', ' Rhapsody Blue ', ' Velvet ',\n",
       "       ' Black Velvet ', ' Luxe Metallic ',\n",
       "       ' Palladium White Gold Metallic ', ' Platinum Dune Metallic ',\n",
       "       ' Midnight Sapphire Metallic ', ' Off White ',\n",
       "       ' Soul Red Crystal Metallic ', ' Jet Black Mica ',\n",
       "       ' Snowflake White Pearl ', ' Deep Crystal Blue Mica ',\n",
       "       ' Machine Gray Metallic ', ' Polymetal Gray Metallic ',\n",
       "       ' Snowflake White Pearl Mica ', ' Platinum Quartz Metallic ',\n",
       "       ' Sonic Silver Metallic ', ' Eternal Blue Mica ',\n",
       "       ' Ceramic Metallic ', ' Snowflake White Pearl Metallic ',\n",
       "       ' Titanium Flash Mica ', ' Soul Red Metallic ',\n",
       "       ' Soul Red Crystal ', ' Meteor Gray Mica ', ' Blue Reflex Mica ',\n",
       "       ' Sonic Silver Metalic ', ' Meteor Gray ', ' Deep Crystal Blue ',\n",
       "       ' Soul Red ', ' Crystal White Pearl ', ' Zeal Red ',\n",
       "       ' Crystal White Pearl Mica ', ' Liquid Silver Metallic ',\n",
       "       ' Stormy Blue Mica ', ' Zeal Red Mica ', ' Indigo Lights Mica ',\n",
       "       ' Dolphin Gray Mica ', ' Graphite Mica ', ' Polar White ',\n",
       "       ' Mountain Gray Metallic ', ' Iridium Silver Metallic ',\n",
       "       ' Designo Diamond White ', ' Titanium ', ' Designo ',\n",
       "       ' Cirrus Silver Metallic ', ' Designo Cardinal Red Metallic ',\n",
       "       ' Obsidian Black Metallic ', ' Digital White ', ' Selenite Gray ',\n",
       "       ' Lunar Blue Metallic ', ' Magnetite Black ', ' Iridium Silver ',\n",
       "       ' Cosmos Black Metallic ', ' Gray Metallic ',\n",
       "       ' Mojave Silver Metallic ', ' Designo Diamond White Metallic ',\n",
       "       ' Digital White Metallic ', ' Brilliant Blue Metallic ',\n",
       "       ' Jupiter Red ', ' Mojave Silver ', ' Dakota Brown Metallic ',\n",
       "       ' Magnetite Black Metallic ', ' Black Wrap ',\n",
       "       ' Selenite Gray Metallic ', ' Citrus White ',\n",
       "       ' Selenite Grey Metallic ', ' Steel Gray Metallic ', ' Mars Red ',\n",
       "       ' Anthracite Blue Metallic ', ' Designo Magno Cashmere ',\n",
       "       ' Pewter ', ' Diamond Silver Metallic ', ' Designo Cardinal Red ',\n",
       "       ' Designo Magno Platinum ', ' Brilliant Silver Metallic ',\n",
       "       ' Palladium Silver Metallic ', ' Designo Magno Night Black ',\n",
       "       ' Diamond White Metallic ', ' Designo Mystic Brown ',\n",
       "       ' Designo Mystic White Ii ', ' Indium Gray Metallic ',\n",
       "       ' Steel Grey Metallic ', ' Palladium ', ' Alloy Silver Metallic ',\n",
       "       ' Cosmic Blue ', ' White Diamond ', ' Mercury Gray Metallic ',\n",
       "       ' Cosmic Blue Metallic ', ' Rally Red Metallic ', ' Gray 2 Tone ',\n",
       "       ' Magnetic Black ', ' Scarlet Ember ', ' Deep Blue Pearl ',\n",
       "       ' Deep Ocean Blue ', ' Caspian Blue ', ' Scarlet Ember Tintcoat ',\n",
       "       ' Ruby Slate Gray ', ' Brilliant Silver ', ' Baja Storm ',\n",
       "       ' Boulder Gray ', ' Pearl White Tricoat ', ' Storm Blue ',\n",
       "       ' Super Black ', ' Orange / Black ', ' Magnetic Black Pearl ',\n",
       "       ' Super Black Clearcoat ', ' Electric Blue Metallic ',\n",
       "       ' Super Black Metallic ', ' Midnight Pine Metallic ',\n",
       "       ' Magnetic Black Metallic ', ' Sunset Drift Chromaflair ',\n",
       "       ' Carnelian Red ', ' Mocha Almond Pearl ',\n",
       "       ' Caspian Blue Metallic ', ' Aspen White Tricoat ',\n",
       "       ' Pearl White Tri-Coat ', ' Java Metallic ', ' Forged Copper ',\n",
       "       ' Coulis Red ', ' Sandstone ', ' Palatial Ruby ',\n",
       "       ' Cayenne Red Metallic ', ' Arctic Blue Metallic ',\n",
       "       ' Forged Bronze ', ' Midnight Jade ', ' Cayenne Red ',\n",
       "       ' Regal Red ', ' Gun ', ' White Pearl ', ' Bordeaux Black ',\n",
       "       ' Crimson Black ', ' Mocha Stone ', ' Dark Olive ',\n",
       "       ' Galaxy Black ', ' Storm Blue Metallic ', ' Slate Metallic ',\n",
       "       ' Sapphire Black ', ' Cayenne Red Pearl ', ' Metallic Slate ',\n",
       "       ' Super Silver Metallic ', ' Winter Frost ', ' Glacier Pearl ',\n",
       "       ' Smoke ', ' Graphite Blue ', ' Metallic Bronze ',\n",
       "       ' Tinted Bronze ', ' Jet Black Metallic ',\n",
       "       ' Quartzite Grey Metallic ', ' Chalk ', ' Gentian Blue Metallic ',\n",
       "       ' Python Green ', ' Night Blue Metallic ', ' Gt Silver Metallic ',\n",
       "       ' Aventurine Green Metallic ', ' Dolomite Silver Metallic ',\n",
       "       ' Carrara White Metallic ', ' Quartzite Metallic ',\n",
       "       ' Biscay Blue Metallic ', ' Volcano Grey Metallic ',\n",
       "       ' Agate Gray Metallic ', ' Umber Metallic ',\n",
       "       ' Carbon Gray Metallic ', ' Carmine Red Metallic ',\n",
       "       ' Classic Silver Metallic ', ' Platinum Pearl ',\n",
       "       ' Hydro Blue Pearlcoat ', ' Olive Green Pearlcoat ',\n",
       "       ' Flame Red Clearcoat ', ' Ivory White ', ' Red Pearl ',\n",
       "       ' Delmonico Red Pearlcoat ', ' Ivory White Tri-Coat Pearlcoat ',\n",
       "       ' Black Forest Green Pearlcoat ', ' Patriot Blue Pearlcoat ',\n",
       "       ' Rugged Brown Pearlcoat ', ' Bright Silver Metallic Clearcoat ',\n",
       "       ' Bright Silver Clearcoat Metallic ', ' Brown Pearlcoat ',\n",
       "       ' Blue Streak Pearlcoat ', ' Western Brown ', ' Dark Brown ',\n",
       "       ' Bright Silver Metallic ', ' Crystal Black Silica ',\n",
       "       ' Wr Blue Pearl ', ' Abyss Blue Pearl ',\n",
       "       ' Magnetite Gray Metallic ', ' Crimson Red Pearl ',\n",
       "       ' Brilliant Bronze Metallic ', ' Ignition Red ',\n",
       "       ' Autumn Green Metallic ', ' Cinnamon Brown Pearl ', ' Pure Red ',\n",
       "       ' Plasma Yellow Pearl ', ' Lapis Blue Pearl ',\n",
       "       ' Sepia Bronze Metallic ', ' Jasper Green Metallic ',\n",
       "       ' Wilderness Green Metallic ', ' Cool Gray Khaki ',\n",
       "       ' Dark Gray Metallic ', ' Quartz Blue Pearl ',\n",
       "       ' Heritage Blue Metallic ', ' Jasmine Green Metallic ',\n",
       "       ' Hertiage Blue ', ' Cool-Gray Khaki ', ' Carbide Gray Metallic ',\n",
       "       ' Crystal White Silica ', ' Satin White Pearl ',\n",
       "       ' Tangerine Orange Pearl ',\n",
       "       ' Obsidian Black Pearl / Dark Gray Metallic ',\n",
       "       ' Celestial Silver ', ' Midnight Black Metallic ',\n",
       "       ' Ruby Flare Pearl ', ' Nocturnal ', ' Wind Chill Pearl ',\n",
       "       ' Ruby ', ' Raven Black ', ' Classic Silver ', ' Blizzard Pearl ',\n",
       "       ' Phantom ', ' Titanium Glow ',\n",
       "       ' Supersonic Red / Midnight Black Metallic ', ' Smoked Mesquite ',\n",
       "       ' Blue Flame ', ' Renaissance Red ', ' Celestial Silver Metallic ',\n",
       "       ' Electric Storm Blue ', ' Parisian Night Pearl ',\n",
       "       ' Barcelona Red Metallic ', ' Predawn Gray Mica ',\n",
       "       ' Ruby Red Pearl ', ' Lunar ', ' Chromium ', ' Cement ',\n",
       "       ' Ooh La La Rouge Mica ', ' Blizzard ', ' Silver Sky Metallic ',\n",
       "       ' Voodoo Blue ', ' Blueprint ', ' Blue Streak Metallic ',\n",
       "       ' Lunar Rock ', ' Black Sand Pearl ', ' Toasted Walnut Pearl ',\n",
       "       ' Sizzling Crimson Mica ', ' Salsa Red Pearl ',\n",
       "       ' Cosmic Gray Mica ', ' Creme Brulee Mica ',\n",
       "       ' Shoreline Blue Pearl ', ' Blizzard White Pearl ', ' 48380 ',\n",
       "       ' Blue Ribbon Metallic ', ' Galactic Aqua ',\n",
       "       ' Nautical Blue Metallic ', ' Silver Metallic ',\n",
       "       ' Blizzard Pearl Metallic ', ' Alumina Jade Metallic ',\n",
       "       ' Absolutely Red ', ' Attitude Black Metallic ', ' Cypress Pearl ',\n",
       "       ' Clear Sky Metallic ', ' Moulin Rouge Mica ',\n",
       "       ' Summer Rain Metallic ', ' Sandy Beach Metallic ',\n",
       "       ' Deep Black Pearl Effect ', ' Pure Gray ', ' Pomelo Yellow ',\n",
       "       ' Pyrite Silver Metallic ', ' Deep Black Pearl ', ' Kings Red ',\n",
       "       ' Cornflower Blue ', ' Platinum Gray Metallic ',\n",
       "       ' Tourmaline Blue Metallic ', ' Aurora Red Metallic ',\n",
       "       ' Oryx White Pearl Effect ', ' Urano Gray ', ' Racing Green ',\n",
       "       ' Silk Blue Metallic ', ' Habanero Orange Metallic ',\n",
       "       ' Reflex Silver Metallic ', ' White Silver Metallic ',\n",
       "       ' Stone Blue ', ' Dark Moss Green Metallic ',\n",
       "       ' Cardinal Red Metallic ', ' Tornado Red ',\n",
       "       ' Fortana Red Metallic ', ' Tornado Red W/ Black Top ',\n",
       "       ' Oryx White Pearl Metallic ',\n",
       "       ' Platinum Gray Metallic W/ Black Roof ',\n",
       "       ' Reflex Silver Metallic W/ Black Roof ', ' Lapiz Blue Metallic ',\n",
       "       ' Kurkuma Yellow Metallic ', ' Silk Blue Metallic W/ Black Top ',\n",
       "       ' Deep Black Pearl Metallic ', ' Deep Black Pearl W/ Black Top ',\n",
       "       ' Platinum Gray Metallic W/ Black Top ',\n",
       "       ' Sandstorm Yellow W/ Black Roof ',\n",
       "       ' Habanero Orange Metallic W/ Black Top ', ' Deep Red ',\n",
       "       ' Limestone Gray ', ' Black Uni / Black Roof ',\n",
       "       ' Tungsten Silver Metallic ', ' Fortana Red ',\n",
       "       ' Tornado Red W/ Beige Top ', ' Panther Gray Metallic ',\n",
       "       ' Titanium Beige ', ' Pepper Gray ',\n",
       "       ' Carbon Steel Gray Metallic ', ' Candy White ',\n",
       "       ' Pepper Gray Metallic ', ' Tornado Red/Beige Roof ',\n",
       "       ' Toffee Brown Metallic ', ' Opera Red Metallic ',\n",
       "       ' Moonrock Silver Metallic ', ' Tempest Blue Metallic ',\n",
       "       ' Brown Metallic ', ' Candy White / Black Roof ',\n",
       "       ' Light Brown Metallic ', ' Deep Black Metallic ',\n",
       "       ' Crystal White Metallic ', ' Black Stone ',\n",
       "       ' Pebble Gray Metallic ', ' Onyx Black Metallic ', ' Pine Green ',\n",
       "       ' Birch Light Metallic ', ' Savile Gray Metallic ', ' Fusion Red ',\n",
       "       ' Glacier Silver ', ' Denim Blue Metallic ', ' Ice White ',\n",
       "       ' Thunder Gray Metallic ', ' Osmium Gray Metallic ', ' Bronze ',\n",
       "       ' Denim Blue ', ' Pine Gray Metallic ', ' Bursting Blue Metallic ',\n",
       "       ' Crystal White Pearl Metallic ', ' Mussel Blue Metallic ',\n",
       "       ' Magic Blue Metallic ', ' Seashell Metallic ',\n",
       "       ' Osmium Grey Metallic ', ' Luminous Sand ',\n",
       "       ' Sea Shell Metallic ', ' Flamenco Red Metallic ',\n",
       "       ' Ember Black Metallic ', ' Twilight Bronze Metallic ',\n",
       "       ' Flaminco Red Metallic '], dtype=object)"
      ]
     },
     "execution_count": 68,
     "metadata": {},
     "output_type": "execute_result"
    }
   ],
   "source": [
    "data.warna_luar.unique()"
   ]
  },
  {
   "cell_type": "markdown",
   "id": "ed3198f5",
   "metadata": {},
   "source": [
    "**Menyederhanakan data kategorik pada kolom warna_luar**"
   ]
  },
  {
   "cell_type": "code",
   "execution_count": 69,
   "id": "02f44b50",
   "metadata": {},
   "outputs": [
    {
     "data": {
      "text/html": [
       "<div>\n",
       "<style scoped>\n",
       "    .dataframe tbody tr th:only-of-type {\n",
       "        vertical-align: middle;\n",
       "    }\n",
       "\n",
       "    .dataframe tbody tr th {\n",
       "        vertical-align: top;\n",
       "    }\n",
       "\n",
       "    .dataframe thead th {\n",
       "        text-align: right;\n",
       "    }\n",
       "</style>\n",
       "<table border=\"1\" class=\"dataframe\">\n",
       "  <thead>\n",
       "    <tr style=\"text-align: right;\">\n",
       "      <th></th>\n",
       "      <th>penggunaan</th>\n",
       "      <th>harga</th>\n",
       "      <th>warna_luar</th>\n",
       "      <th>warna_dalam</th>\n",
       "      <th>driver</th>\n",
       "      <th>jenis_bahan_bakar</th>\n",
       "      <th>bagian_luar</th>\n",
       "      <th>tempat_duduk</th>\n",
       "      <th>merek</th>\n",
       "      <th>mata_uang</th>\n",
       "    </tr>\n",
       "  </thead>\n",
       "  <tbody>\n",
       "    <tr>\n",
       "      <th>953</th>\n",
       "      <td>Used</td>\n",
       "      <td>47995</td>\n",
       "      <td>Liquid Carbon Metallic</td>\n",
       "      <td>Espresso</td>\n",
       "      <td>Awd</td>\n",
       "      <td>Gasoline</td>\n",
       "      <td>Alloy WheelsSunroof/Moonroof</td>\n",
       "      <td>Leather SeatsMemory SeatThird Row Seating</td>\n",
       "      <td>Acura</td>\n",
       "      <td>$</td>\n",
       "    </tr>\n",
       "    <tr>\n",
       "      <th>954</th>\n",
       "      <td>Used</td>\n",
       "      <td>51997</td>\n",
       "      <td>Liquid Carbon Metallic</td>\n",
       "      <td>Red</td>\n",
       "      <td>Awd</td>\n",
       "      <td>Gasoline</td>\n",
       "      <td>Alloy WheelsSunroof/Moonroof</td>\n",
       "      <td>Leather SeatsMemory SeatThird Row Seating</td>\n",
       "      <td>Acura</td>\n",
       "      <td>$</td>\n",
       "    </tr>\n",
       "    <tr>\n",
       "      <th>955</th>\n",
       "      <td>Other</td>\n",
       "      <td>49983</td>\n",
       "      <td>Other</td>\n",
       "      <td>Espresso</td>\n",
       "      <td>Awd</td>\n",
       "      <td>Gasoline</td>\n",
       "      <td>Alloy WheelsSunroof/Moonroof</td>\n",
       "      <td>Leather SeatsMemory SeatThird Row Seating</td>\n",
       "      <td>Acura</td>\n",
       "      <td>$</td>\n",
       "    </tr>\n",
       "    <tr>\n",
       "      <th>956</th>\n",
       "      <td>Used</td>\n",
       "      <td>52997</td>\n",
       "      <td>Other</td>\n",
       "      <td>Ebony</td>\n",
       "      <td>Awd</td>\n",
       "      <td>Gasoline</td>\n",
       "      <td>Alloy WheelsSunroof/Moonroof</td>\n",
       "      <td>Leather SeatsMemory SeatThird Row Seating</td>\n",
       "      <td>Acura</td>\n",
       "      <td>$</td>\n",
       "    </tr>\n",
       "    <tr>\n",
       "      <th>957</th>\n",
       "      <td>Used</td>\n",
       "      <td>52998</td>\n",
       "      <td>Other</td>\n",
       "      <td>Gray</td>\n",
       "      <td>Awd</td>\n",
       "      <td>Gasoline</td>\n",
       "      <td>Alloy Wheels</td>\n",
       "      <td>Leather SeatsMemory Seat</td>\n",
       "      <td>Acura</td>\n",
       "      <td>$</td>\n",
       "    </tr>\n",
       "  </tbody>\n",
       "</table>\n",
       "</div>"
      ],
      "text/plain": [
       "    penggunaan  harga              warna_luar warna_dalam driver  \\\n",
       "953       Used  47995  Liquid Carbon Metallic   Espresso     Awd   \n",
       "954       Used  51997  Liquid Carbon Metallic        Red     Awd   \n",
       "955      Other  49983                   Other   Espresso     Awd   \n",
       "956       Used  52997                   Other      Ebony     Awd   \n",
       "957       Used  52998                   Other       Gray     Awd   \n",
       "\n",
       "    jenis_bahan_bakar                       bagian_luar  \\\n",
       "953          Gasoline    Alloy WheelsSunroof/Moonroof     \n",
       "954          Gasoline    Alloy WheelsSunroof/Moonroof     \n",
       "955          Gasoline    Alloy WheelsSunroof/Moonroof     \n",
       "956          Gasoline    Alloy WheelsSunroof/Moonroof     \n",
       "957          Gasoline                    Alloy Wheels     \n",
       "\n",
       "                                      tempat_duduk  merek mata_uang  \n",
       "953    Leather SeatsMemory SeatThird Row Seating    Acura         $  \n",
       "954    Leather SeatsMemory SeatThird Row Seating    Acura         $  \n",
       "955    Leather SeatsMemory SeatThird Row Seating    Acura         $  \n",
       "956    Leather SeatsMemory SeatThird Row Seating    Acura         $  \n",
       "957                     Leather SeatsMemory Seat    Acura         $  "
      ]
     },
     "execution_count": 69,
     "metadata": {},
     "output_type": "execute_result"
    }
   ],
   "source": [
    "def setwarna(text):\n",
    "    if text == ' Liquid Carbon Metallic ':\n",
    "        return 'Liquid Carbon Metallic'\n",
    "    elif text == ' Majestic Black Pearl ':\n",
    "        return 'Majestic Black Pearl'\n",
    "    elif text == ' Platinum White Pearl ':\n",
    "        return 'Platinum White Pearl'\n",
    "    elif text == ' Saville Gray Metallic ':\n",
    "        return 'Saville Gray Metallic'\n",
    "    else:\n",
    "        return 'Other'\n",
    "    \n",
    "data['warna_luar'] = data['warna_luar'].apply(lambda x:setwarna(x))\n",
    "data.head()"
   ]
  },
  {
   "cell_type": "markdown",
   "id": "b4b377f0",
   "metadata": {},
   "source": [
    "**3. Cek data kategorik pada kolom warna_dalam**"
   ]
  },
  {
   "cell_type": "code",
   "execution_count": 70,
   "id": "d59a3b56",
   "metadata": {},
   "outputs": [
    {
     "data": {
      "text/plain": [
       "array([' Espresso ', ' Red ', ' Ebony ', ' Gray ', ' Greystone ',\n",
       "       ' Seacoast ', ' Graystone ', ' Parchment ', ' Cream ', ' Black ',\n",
       "       ' Beige ', ' Tan ', ' Umber ', ' Okapi Brown ', ' Pearl Beige ',\n",
       "       ' Rock Gray ', ' Atlas Beige ', ' Arras Red ', ' Black / Gray ',\n",
       "       ' Pando Gray ', ' Nougat Brown / Black ', ' Atlas Beige / Gray ',\n",
       "       ' Rotor Gray ', ' Pistachio Beige ', ' Nougat Brown ',\n",
       "       ' Saiga Beige ', ' Rock Gray / Granite Gray ', ' Chestnut Brown ',\n",
       "       ' Rock Gray / Black ', ' Magma Red ', ' Velvet Beige ',\n",
       "       ' Atlas Beige / Black ', ' Alabaster White ', ' Cardamom ',\n",
       "       ' Black / Lunar Silver ', ' Brown ', ' Sport ', ' Cognac ',\n",
       "       ' Ivory White ', ' Tacora Red ', ' Oyster / Black ', ' Mocha ',\n",
       "       ' Oyster ', ' Anthracite ', ' Tartufo ', ' Amarone ',\n",
       "       ' Venetian Beige ', ' Terra ', ' Champagne ',\n",
       "       ' Black / Dark Oyster ', ' Golden Brown ', ' Zagora Beige ',\n",
       "       ' Sand Beige / Black ', ' Coral Red / Black ', ' Sand Beige ',\n",
       "       ' Canyon Brown ', ' Canberra Beige ', ' Coral Red/Black ',\n",
       "       ' Black / Red ', ' Saddle Brown ', ' Coral Red / Gray Black ',\n",
       "       ' Fox Red ', ' Everest Gray ', ' Carbon ', ' Amaro Brown ',\n",
       "       ' Whisper Beige ', ' Chestnut ', ' Shale ', ' Dark Galvanized ',\n",
       "       ' Signet ', ' Ebony With Ebony Interior Accents ',\n",
       "       ' Light Neutral ', ' Shale / Ebony ', ' Brandy ', ' Jet Black ',\n",
       "       ' Ebony / Ebony Accents ', ' Tan / Black ', ' Chestnut Black ',\n",
       "       ' Dark Gray ', ' Medium Titanium ', ' Ebony/Ebony Accents ',\n",
       "       ' Light Titanium ', ' Choccachino ',\n",
       "       ' Light Titanium With Dark Titanium ', ' Chestnut Brown / Ebony ',\n",
       "       ' Titanium ', ' Light Neutral / Ebony ', ' Saddle ', ' Cocoa ',\n",
       "       ' Cashmere ', ' Cashmere / Cocoa ', ' Maple Sugar ',\n",
       "       ' Light Platinum / Jet Black ', ' Light Platinum ', ' Cinnamon ',\n",
       "       ' Cirrus ', ' Parchment With Jet Black Accents ', ' Light Wheat ',\n",
       "       ' Sedona Sauvage ', ' Kona Brown ',\n",
       "       ' Shale With Jet Black Accents ', ' Dark Auburn ', ' Wheat ',\n",
       "       ' Shara Beige ', ' Very Light Cashmere ', ' Shale / Cocoa ',\n",
       "       ' Tuscan Brown ', ' Sahara Beige/Ebony ', ' Shale / Brownstone ',\n",
       "       ' Light Cashmere ', ' Kona Brown / Jet Black ',\n",
       "       ' Light Titanium / Ebony ', ' Caramel / Ebony ',\n",
       "       ' Shale W/Brownstone Accents ', ' Cocoa / Light Linen ',\n",
       "       ' Caramel / Jet Black ', ' Very Light Platinum/Dark Urban/Cocoa ',\n",
       "       ' Dark Atmosphere ', ' Adrenaline Red ', ' Dark Ash ', ' Gideon ',\n",
       "       ' Cocoa / Dune ', ' Dark Atmosphere/Medium Ash Gray ',\n",
       "       ' Dark Titanium / Light Titanium ', ' Kalahari ',\n",
       "       ' Jet Black / Dark Titanium ', ' Blue ', ' Jet Black / Dark Ash ',\n",
       "       ' Cocoa/Dune ', ' Dark Titanium / Jet Black ',\n",
       "       ' Light Titanium / Dark Titanium ', ' Jet Black / Brick ',\n",
       "       ' Alloy ', ' Black/Alloy/Black ', ' Deep Mocha ', ' Toffee ',\n",
       "       ' Smoke ', ' Black / Light Diesel Gray ', ' Black/Alloy ',\n",
       "       ' Cognac / Alloy / Toffee ', ' Black / Light Graystone ',\n",
       "       ' Linen / Black ', ' Dark / Medium Frost Beige ',\n",
       "       ' Dark Frost Beige / Medium Frost Bei ',\n",
       "       ' Light Frost Beige / Black ', ' Black/Light Graystone Interior ',\n",
       "       ' Ruby Red ', ' Light Frost ', ' Red / Black ', ' Sepia / Black ',\n",
       "       ' Black/Light Graystone ', ' Brazen Gold ', ' Ruby Red / Black ',\n",
       "       ' Black / Sepia ', ' White ', ' Black Onyx ', ' Sandstone ',\n",
       "       ' Medium Stone ', ' Navy Pier ', ' Light Sandstone ',\n",
       "       ' Deep Cypress ', ' Medium Soft Ceramic ', ' Light Putty ',\n",
       "       ' Charcoal Black ', ' Dune ', ' Ebony Black ', ' Camelback ',\n",
       "       ' Medium Light Camel ', ' Ceramic ', ' Dark Marsala ', ' Mesa ',\n",
       "       ' Dark Earth Gray ', ' Medium Light Stone ',\n",
       "       ' Charcoal Black / Sienna ', ' Charcoal ', ' Stone ',\n",
       "       ' Medium Flint ', ' Sienna / Charcoal Black ', ' Ivory ',\n",
       "       ' Camel ', ' Dark Walnut ', ' Teak ', ' Brownstone / Jet Black ',\n",
       "       ' Walnut ', ' Dark Walnut/Dark Ash Grey ', ' Medium Ash Gray ',\n",
       "       ' Jet Black/Kalahari ', ' Cocoa / Shale ', ' Dark Ash Gray ',\n",
       "       ' Cocoa/Light Ash Gray ', ' Jet Black / Spice Red ',\n",
       "       ' Cocoa/ Light Ash Gray ', ' Dark Cashmere ', ' Cocoa Dune ',\n",
       "       ' Cocoa / Light Cashmere ', ' Light Tan ', ' Black / Ivory ',\n",
       "       ' Truffle ', ' Navy ', ' Gray / Black ', ' Navy/Beige ',\n",
       "       ' Medium Gray ', ' Dark Brown ', ' Graphite ', ' Graphite Black ',\n",
       "       ' Cocoa Black ', ' Medium Parchment ', ' Monaco Red ', ' Java ',\n",
       "       ' Graphite / Stone ', ' Mars Red / Ebony ', ' Latte / Espresso ',\n",
       "       ' Ebony / Ebony ', ' Lunar / Light Oyster ',\n",
       "       ' Ebony / Pimento Red ', ' Light Oyster / Ebony ',\n",
       "       ' Ebony / Ivory ', ' Latte / Ebony ', ' Jet ', ' Jet / Jet ',\n",
       "       ' Espresso / Latte ', ' Jet / Brogue ', ' Jet / Latte ',\n",
       "       ' Camel Duo / Jet ', ' Jet / London Tan ', ' Global Black ',\n",
       "       ' Sea Salt ', ' Sea Salt/Black ', ' Tupelo ',\n",
       "       ' Dark Sienna Brown / Black ', ' Ski Gray ', ' Steel Gray ',\n",
       "       ' Lt Frost Beige/Black ', ' Dark Saddle / Black ',\n",
       "       ' Black/Ski Grey ', ' Sandstorm ', ' Light Frost Beige ',\n",
       "       ' Brown / Light Frost ', ' Black / Dark Sienna Brown ',\n",
       "       ' Dark Slate Gray ', ' Dark Slate Gray Interior ',\n",
       "       ' Gravity Gray ', ' Stone Beige ', ' Satin Black ',\n",
       "       ' Dark Graphite ', ' Burgundy ', ' Camel Beige ', ' Alpine Gray ',\n",
       "       ' Acorn / Ebony ', ' Almond / Espresso ', ' Cirrus / Ebony ',\n",
       "       ' Ebony / Light Oyster ', ' Tan / Ebony ',\n",
       "       ' Ebony/Ebony/Ebony/Ebony ', ' Vintage Tan / Ebony / Ivory ',\n",
       "       ' Almond / Ebony ', ' Ebony / Espresso / Ivory / Ebony ',\n",
       "       ' Ebony / Cirrus ', ' Espresso / Almond / Ivory ',\n",
       "       ' Acorn / Ebony Windsor ', ' Almond/Espresso/Almond/Ivory ',\n",
       "       ' Acorn / Ebony / Light Oyster ', ' Almond / Espresso / Ivory ',\n",
       "       ' Ivory / Espresso / Ivory ', ' Lunar / Ivory ',\n",
       "       ' Cirrus / Lunar ', ' Ivory / Ebony ', ' Ebony / Ebony Oxford ',\n",
       "       ' Ebony Pimento ', ' Ivory / Espresso ', ' Ebony / Lunar ',\n",
       "       ' Ebony / Pimento ', ' Almond ', ' Sepia ', ' Caramel ',\n",
       "       ' Chateau ', ' Ecru ', ' Flaxen ', ' Light Gray ',\n",
       "       ' Black / Saddle Tan ', ' Medium Slate ', ' Mahogany Red ',\n",
       "       ' Cappuccino ', ' Roast ', ' Alpine ', ' Terracotta ',\n",
       "       ' Luggage Tan ', ' Coastal Blue ', ' Ganache ', ' Coffee ',\n",
       "       ' Vianca White ', ' Taupe ', ' Rhapsody Blue ', ' Hazelnut ',\n",
       "       ' Light Stone / Medium Light Stone ', ' Charcoal Black / Canyon ',\n",
       "       ' Caturra Brown ', ' White / Brown ', ' Black / Navy Blue ',\n",
       "       ' Black / Brown ', ' Silk Beige ', ' Deep Chestnut ', ' Sand ',\n",
       "       ' Deep Red ', ' Auburn ', ' Tan / Red ', ' Classic Red/Black ',\n",
       "       ' Neva Gray ', ' Macchiato Beige ', ' Titanium Grey ',\n",
       "       ' Amg Black ', ' Magma Gray ', ' Titanium Gray / Black ',\n",
       "       ' Silk Beige / Black ', ' Macchiato ', ' Cranberry Red ',\n",
       "       ' Designo Black ', ' Saddle Brown / Black ', ' Platinum White ',\n",
       "       ' Amg Cranberry Red ', ' Espresso Brown ', ' Tartufo Brown ',\n",
       "       ' Bengal Red / Black ', ' Designo Platinum White Pearl ',\n",
       "       ' Designo Porcelain ', ' Platinum White Pearl ',\n",
       "       ' Black, Designo Exclusive Nappa Leather ', ' Silk Beige/Black ',\n",
       "       ' Porcelain / Black ', ' Silk Beige / Espresso Brown ',\n",
       "       ' Black Pearl ', ' Cranberry ', ' Black W/Grey Accents ',\n",
       "       ' Ginger Beige ', ' Macchiato Beige/Espresso ',\n",
       "       ' Designo Platinum White Pearl / Blac ', ' Crystal Grey/Seashell ',\n",
       "       ' Black / Platinum ', ' Natural Beige / Black ',\n",
       "       ' Designo Platinum White ', ' Nut Brown / Black ', ' Grey Matte ',\n",
       "       ' Almond Beige/Black ', ' Crystal Grey ', ' Designo Silk Beige ',\n",
       "       ' Crystal Gray ', ' Beige / Espresso ', ' Designo White ',\n",
       "       ' Beige Nappa ', ' Designo Sand ', ' Ash ', ' Classic Red ',\n",
       "       ' Ash / Black ', ' Almond Beige ', ' Almond / Beige ', ' Grey ',\n",
       "       ' Brown / Black ', ' Sahara ', ' Black / Silver ',\n",
       "       ' Almond / Mocha ', ' Steel ', ' Platinum ', ' Black/Brown ',\n",
       "       ' Nismo ', ' Black, Premium Cloth ', ' Almond / Chocolate ',\n",
       "       ' Bordeaux Red ', ' Agate Grey ', ' Slate Gray ', ' Marsala ',\n",
       "       ' Mojave Beige ', ' Truffle Brown ', ' Graphite Blue ',\n",
       "       ' Slate Grey ', ' Black/Bordeaux Red ', ' Luxor Beige ',\n",
       "       ' Black/Garnet Red ', ' Agate Grey / Pebble Grey ', ' Garnet Red ',\n",
       "       ' Garnet Red / Silver ', ' Carrera Red ', ' Platinum Gray ',\n",
       "       ' Indigo ', ' Mountain Brown ', ' Diesel Gray / Black ',\n",
       "       ' Mountain Brown/Frost ', ' New Saddle / Black ',\n",
       "       ' Diesel Gray/Black ', ' Canyon Brown / Light Frost Beige ',\n",
       "       ' Cattle Tan / Black ', ' Cattle Tan/Black ', ' Java Brown ',\n",
       "       ' Slate Black ', ' Ivy ', ' Carbon Black ', ' Warm Ivory ',\n",
       "       ' Off Black ', ' Black / Graphite ', ' Boulder ',\n",
       "       ' Black Graphite ', ' Hickory ', ' Bisque ', ' Saddle Tan ',\n",
       "       ' Redwood ', ' Birch ', ' Nutmeg ', ' Magnetic Gray ', ' Silver ',\n",
       "       ' Light Blue Gray / Black ', ' Latte ', ' Redrock / Black ',\n",
       "       ' Neutral ', ' Dark Charcoal ', ' Misty Gray ',\n",
       "       ' Black/Graphite Leather Interior ', ' Light Blue Gray/Black ',\n",
       "       ' Black Saddle / Tan ', ' Black / Ash ', ' Titan Black ',\n",
       "       ' Dark Beige/Titan Black ', ' Dark Beige ',\n",
       "       ' Titan Black / Quarzit ', ' Storm Gray ', ' French Roast ',\n",
       "       ' Titan Black / Moonrock Gray ', ' Shetland Beige ',\n",
       "       ' Titan Black / Shetland Beige ', ' Titan Black W/Accents ',\n",
       "       ' Mistral Gray / Raven ', ' Mauro Brown ',\n",
       "       ' Cornsilk Beige / Brown ', ' Golden Oak ', ' Cornsilk Beige ',\n",
       "       ' Titan Black / Shetland Gray ', ' Gray/Black ',\n",
       "       ' Moonrock Gray / Quartz ', ' Golden Oak & Black ',\n",
       "       ' Golden Oak / Black ', ' Beige / Brown ', ' Black / Carbon ',\n",
       "       ' Marrakesch Brown ', ' Beige / Black ', ' Black Anthracite ',\n",
       "       ' Moonrock Gray / Black ', ' Quartz Gray ', ' Sandstone Beige ',\n",
       "       ' Moonrock ', ' Quartz ', ' Cornsilk Beige / Black ', ' Slate ',\n",
       "       ' Maroon Brown ', ' Midnight Zinc ', ' Blond ', ' Blonde ',\n",
       "       ' Amber ', ' Oxide Red ', ' Blond/Charcoal ', ' Beechwood ',\n",
       "       ' Blonde/Off-Black ', ' Soft Beige ', ' Off-Black ', ' Sandsoft ',\n",
       "       ' Anthracite Black '], dtype=object)"
      ]
     },
     "execution_count": 70,
     "metadata": {},
     "output_type": "execute_result"
    }
   ],
   "source": [
    "data.warna_dalam.unique()"
   ]
  },
  {
   "cell_type": "markdown",
   "id": "eab0a1ca",
   "metadata": {},
   "source": [
    "**Menyederhanakan data kategorik pada kolom warna_dalam**"
   ]
  },
  {
   "cell_type": "code",
   "execution_count": 71,
   "id": "3581a110",
   "metadata": {},
   "outputs": [
    {
     "data": {
      "text/html": [
       "<div>\n",
       "<style scoped>\n",
       "    .dataframe tbody tr th:only-of-type {\n",
       "        vertical-align: middle;\n",
       "    }\n",
       "\n",
       "    .dataframe tbody tr th {\n",
       "        vertical-align: top;\n",
       "    }\n",
       "\n",
       "    .dataframe thead th {\n",
       "        text-align: right;\n",
       "    }\n",
       "</style>\n",
       "<table border=\"1\" class=\"dataframe\">\n",
       "  <thead>\n",
       "    <tr style=\"text-align: right;\">\n",
       "      <th></th>\n",
       "      <th>penggunaan</th>\n",
       "      <th>harga</th>\n",
       "      <th>warna_luar</th>\n",
       "      <th>warna_dalam</th>\n",
       "      <th>driver</th>\n",
       "      <th>jenis_bahan_bakar</th>\n",
       "      <th>bagian_luar</th>\n",
       "      <th>tempat_duduk</th>\n",
       "      <th>merek</th>\n",
       "      <th>mata_uang</th>\n",
       "    </tr>\n",
       "  </thead>\n",
       "  <tbody>\n",
       "    <tr>\n",
       "      <th>953</th>\n",
       "      <td>Used</td>\n",
       "      <td>47995</td>\n",
       "      <td>Liquid Carbon Metallic</td>\n",
       "      <td>Other</td>\n",
       "      <td>Awd</td>\n",
       "      <td>Gasoline</td>\n",
       "      <td>Alloy WheelsSunroof/Moonroof</td>\n",
       "      <td>Leather SeatsMemory SeatThird Row Seating</td>\n",
       "      <td>Acura</td>\n",
       "      <td>$</td>\n",
       "    </tr>\n",
       "    <tr>\n",
       "      <th>954</th>\n",
       "      <td>Used</td>\n",
       "      <td>51997</td>\n",
       "      <td>Liquid Carbon Metallic</td>\n",
       "      <td>Red</td>\n",
       "      <td>Awd</td>\n",
       "      <td>Gasoline</td>\n",
       "      <td>Alloy WheelsSunroof/Moonroof</td>\n",
       "      <td>Leather SeatsMemory SeatThird Row Seating</td>\n",
       "      <td>Acura</td>\n",
       "      <td>$</td>\n",
       "    </tr>\n",
       "    <tr>\n",
       "      <th>955</th>\n",
       "      <td>Other</td>\n",
       "      <td>49983</td>\n",
       "      <td>Other</td>\n",
       "      <td>Other</td>\n",
       "      <td>Awd</td>\n",
       "      <td>Gasoline</td>\n",
       "      <td>Alloy WheelsSunroof/Moonroof</td>\n",
       "      <td>Leather SeatsMemory SeatThird Row Seating</td>\n",
       "      <td>Acura</td>\n",
       "      <td>$</td>\n",
       "    </tr>\n",
       "    <tr>\n",
       "      <th>956</th>\n",
       "      <td>Used</td>\n",
       "      <td>52997</td>\n",
       "      <td>Other</td>\n",
       "      <td>Ebony</td>\n",
       "      <td>Awd</td>\n",
       "      <td>Gasoline</td>\n",
       "      <td>Alloy WheelsSunroof/Moonroof</td>\n",
       "      <td>Leather SeatsMemory SeatThird Row Seating</td>\n",
       "      <td>Acura</td>\n",
       "      <td>$</td>\n",
       "    </tr>\n",
       "    <tr>\n",
       "      <th>957</th>\n",
       "      <td>Used</td>\n",
       "      <td>52998</td>\n",
       "      <td>Other</td>\n",
       "      <td>Other</td>\n",
       "      <td>Awd</td>\n",
       "      <td>Gasoline</td>\n",
       "      <td>Alloy Wheels</td>\n",
       "      <td>Leather SeatsMemory Seat</td>\n",
       "      <td>Acura</td>\n",
       "      <td>$</td>\n",
       "    </tr>\n",
       "  </tbody>\n",
       "</table>\n",
       "</div>"
      ],
      "text/plain": [
       "    penggunaan  harga              warna_luar warna_dalam driver  \\\n",
       "953       Used  47995  Liquid Carbon Metallic       Other    Awd   \n",
       "954       Used  51997  Liquid Carbon Metallic        Red     Awd   \n",
       "955      Other  49983                   Other       Other    Awd   \n",
       "956       Used  52997                   Other      Ebony     Awd   \n",
       "957       Used  52998                   Other       Other    Awd   \n",
       "\n",
       "    jenis_bahan_bakar                       bagian_luar  \\\n",
       "953          Gasoline    Alloy WheelsSunroof/Moonroof     \n",
       "954          Gasoline    Alloy WheelsSunroof/Moonroof     \n",
       "955          Gasoline    Alloy WheelsSunroof/Moonroof     \n",
       "956          Gasoline    Alloy WheelsSunroof/Moonroof     \n",
       "957          Gasoline                    Alloy Wheels     \n",
       "\n",
       "                                      tempat_duduk  merek mata_uang  \n",
       "953    Leather SeatsMemory SeatThird Row Seating    Acura         $  \n",
       "954    Leather SeatsMemory SeatThird Row Seating    Acura         $  \n",
       "955    Leather SeatsMemory SeatThird Row Seating    Acura         $  \n",
       "956    Leather SeatsMemory SeatThird Row Seating    Acura         $  \n",
       "957                     Leather SeatsMemory Seat    Acura         $  "
      ]
     },
     "execution_count": 71,
     "metadata": {},
     "output_type": "execute_result"
    }
   ],
   "source": [
    "def setwarnadalam(text):\n",
    "    if text == ' Ebony ':\n",
    "        return 'Ebony '\n",
    "    elif text == ' Red ':\n",
    "        return 'Red '\n",
    "    elif text == ' Orchid ':\n",
    "        return 'Orchid'\n",
    "    else:\n",
    "        return 'Other'\n",
    "    \n",
    "data['warna_dalam'] = data['warna_dalam'].apply(lambda x:setwarnadalam(x))\n",
    "data.head()"
   ]
  },
  {
   "cell_type": "markdown",
   "id": "00fdb959",
   "metadata": {},
   "source": [
    "**4. Cek data kategorik yang terdapat pada kolom driver dan menyederhanakannya**"
   ]
  },
  {
   "cell_type": "code",
   "execution_count": 72,
   "id": "864896f4",
   "metadata": {},
   "outputs": [
    {
     "data": {
      "text/plain": [
       "array(['Awd', 'Fwd', 'Rwd', '4Wd'], dtype=object)"
      ]
     },
     "execution_count": 72,
     "metadata": {},
     "output_type": "execute_result"
    }
   ],
   "source": [
    "data.driver.unique()"
   ]
  },
  {
   "cell_type": "markdown",
   "id": "9c30979c",
   "metadata": {},
   "source": [
    "**Menyederhanakan data kategorik pada kolom driver**"
   ]
  },
  {
   "cell_type": "code",
   "execution_count": 73,
   "id": "73315d9b",
   "metadata": {},
   "outputs": [
    {
     "data": {
      "text/html": [
       "<div>\n",
       "<style scoped>\n",
       "    .dataframe tbody tr th:only-of-type {\n",
       "        vertical-align: middle;\n",
       "    }\n",
       "\n",
       "    .dataframe tbody tr th {\n",
       "        vertical-align: top;\n",
       "    }\n",
       "\n",
       "    .dataframe thead th {\n",
       "        text-align: right;\n",
       "    }\n",
       "</style>\n",
       "<table border=\"1\" class=\"dataframe\">\n",
       "  <thead>\n",
       "    <tr style=\"text-align: right;\">\n",
       "      <th></th>\n",
       "      <th>penggunaan</th>\n",
       "      <th>harga</th>\n",
       "      <th>warna_luar</th>\n",
       "      <th>warna_dalam</th>\n",
       "      <th>driver</th>\n",
       "      <th>jenis_bahan_bakar</th>\n",
       "      <th>bagian_luar</th>\n",
       "      <th>tempat_duduk</th>\n",
       "      <th>merek</th>\n",
       "      <th>mata_uang</th>\n",
       "    </tr>\n",
       "  </thead>\n",
       "  <tbody>\n",
       "    <tr>\n",
       "      <th>953</th>\n",
       "      <td>Used</td>\n",
       "      <td>47995</td>\n",
       "      <td>Liquid Carbon Metallic</td>\n",
       "      <td>Other</td>\n",
       "      <td>Awd</td>\n",
       "      <td>Gasoline</td>\n",
       "      <td>Alloy WheelsSunroof/Moonroof</td>\n",
       "      <td>Leather SeatsMemory SeatThird Row Seating</td>\n",
       "      <td>Acura</td>\n",
       "      <td>$</td>\n",
       "    </tr>\n",
       "    <tr>\n",
       "      <th>954</th>\n",
       "      <td>Used</td>\n",
       "      <td>51997</td>\n",
       "      <td>Liquid Carbon Metallic</td>\n",
       "      <td>Red</td>\n",
       "      <td>Awd</td>\n",
       "      <td>Gasoline</td>\n",
       "      <td>Alloy WheelsSunroof/Moonroof</td>\n",
       "      <td>Leather SeatsMemory SeatThird Row Seating</td>\n",
       "      <td>Acura</td>\n",
       "      <td>$</td>\n",
       "    </tr>\n",
       "    <tr>\n",
       "      <th>955</th>\n",
       "      <td>Other</td>\n",
       "      <td>49983</td>\n",
       "      <td>Other</td>\n",
       "      <td>Other</td>\n",
       "      <td>Awd</td>\n",
       "      <td>Gasoline</td>\n",
       "      <td>Alloy WheelsSunroof/Moonroof</td>\n",
       "      <td>Leather SeatsMemory SeatThird Row Seating</td>\n",
       "      <td>Acura</td>\n",
       "      <td>$</td>\n",
       "    </tr>\n",
       "    <tr>\n",
       "      <th>956</th>\n",
       "      <td>Used</td>\n",
       "      <td>52997</td>\n",
       "      <td>Other</td>\n",
       "      <td>Ebony</td>\n",
       "      <td>Awd</td>\n",
       "      <td>Gasoline</td>\n",
       "      <td>Alloy WheelsSunroof/Moonroof</td>\n",
       "      <td>Leather SeatsMemory SeatThird Row Seating</td>\n",
       "      <td>Acura</td>\n",
       "      <td>$</td>\n",
       "    </tr>\n",
       "    <tr>\n",
       "      <th>957</th>\n",
       "      <td>Used</td>\n",
       "      <td>52998</td>\n",
       "      <td>Other</td>\n",
       "      <td>Other</td>\n",
       "      <td>Awd</td>\n",
       "      <td>Gasoline</td>\n",
       "      <td>Alloy Wheels</td>\n",
       "      <td>Leather SeatsMemory Seat</td>\n",
       "      <td>Acura</td>\n",
       "      <td>$</td>\n",
       "    </tr>\n",
       "  </tbody>\n",
       "</table>\n",
       "</div>"
      ],
      "text/plain": [
       "    penggunaan  harga              warna_luar warna_dalam driver  \\\n",
       "953       Used  47995  Liquid Carbon Metallic       Other    Awd   \n",
       "954       Used  51997  Liquid Carbon Metallic        Red     Awd   \n",
       "955      Other  49983                   Other       Other    Awd   \n",
       "956       Used  52997                   Other      Ebony     Awd   \n",
       "957       Used  52998                   Other       Other    Awd   \n",
       "\n",
       "    jenis_bahan_bakar                       bagian_luar  \\\n",
       "953          Gasoline    Alloy WheelsSunroof/Moonroof     \n",
       "954          Gasoline    Alloy WheelsSunroof/Moonroof     \n",
       "955          Gasoline    Alloy WheelsSunroof/Moonroof     \n",
       "956          Gasoline    Alloy WheelsSunroof/Moonroof     \n",
       "957          Gasoline                    Alloy Wheels     \n",
       "\n",
       "                                      tempat_duduk  merek mata_uang  \n",
       "953    Leather SeatsMemory SeatThird Row Seating    Acura         $  \n",
       "954    Leather SeatsMemory SeatThird Row Seating    Acura         $  \n",
       "955    Leather SeatsMemory SeatThird Row Seating    Acura         $  \n",
       "956    Leather SeatsMemory SeatThird Row Seating    Acura         $  \n",
       "957                     Leather SeatsMemory Seat    Acura         $  "
      ]
     },
     "execution_count": 73,
     "metadata": {},
     "output_type": "execute_result"
    }
   ],
   "source": [
    "def setdriver(text):\n",
    "    if text == 'Fwd':\n",
    "        return 'Fwd'\n",
    "    elif text == 'Awd':\n",
    "        return 'Awd'\n",
    "    else:\n",
    "        return 'Other'\n",
    "    \n",
    "data['driver'] = data['driver'].apply(lambda x:setdriver(x))\n",
    "data.head()"
   ]
  },
  {
   "cell_type": "markdown",
   "id": "864ed273",
   "metadata": {},
   "source": [
    "**5. Cek data kategorik yang terdapat pada kolom jenis_bahan_bakar**"
   ]
  },
  {
   "cell_type": "code",
   "execution_count": 74,
   "id": "f575b18e",
   "metadata": {},
   "outputs": [
    {
     "data": {
      "text/plain": [
       "array(['Gasoline', 'Hybrid', 'E85 Flex', 'Xib', 'Diesel',\n",
       "       'Gasoline/Mild Electric Hybrid '], dtype=object)"
      ]
     },
     "execution_count": 74,
     "metadata": {},
     "output_type": "execute_result"
    }
   ],
   "source": [
    "data.jenis_bahan_bakar.unique()"
   ]
  },
  {
   "cell_type": "markdown",
   "id": "6818d300",
   "metadata": {},
   "source": [
    "**Menyederhanakan data kategorik pada kolom jenis_bahan_bakar**"
   ]
  },
  {
   "cell_type": "code",
   "execution_count": 75,
   "id": "1122436c",
   "metadata": {},
   "outputs": [
    {
     "data": {
      "text/html": [
       "<div>\n",
       "<style scoped>\n",
       "    .dataframe tbody tr th:only-of-type {\n",
       "        vertical-align: middle;\n",
       "    }\n",
       "\n",
       "    .dataframe tbody tr th {\n",
       "        vertical-align: top;\n",
       "    }\n",
       "\n",
       "    .dataframe thead th {\n",
       "        text-align: right;\n",
       "    }\n",
       "</style>\n",
       "<table border=\"1\" class=\"dataframe\">\n",
       "  <thead>\n",
       "    <tr style=\"text-align: right;\">\n",
       "      <th></th>\n",
       "      <th>penggunaan</th>\n",
       "      <th>harga</th>\n",
       "      <th>warna_luar</th>\n",
       "      <th>warna_dalam</th>\n",
       "      <th>driver</th>\n",
       "      <th>jenis_bahan_bakar</th>\n",
       "      <th>bagian_luar</th>\n",
       "      <th>tempat_duduk</th>\n",
       "      <th>merek</th>\n",
       "      <th>mata_uang</th>\n",
       "    </tr>\n",
       "  </thead>\n",
       "  <tbody>\n",
       "    <tr>\n",
       "      <th>953</th>\n",
       "      <td>Used</td>\n",
       "      <td>47995</td>\n",
       "      <td>Liquid Carbon Metallic</td>\n",
       "      <td>Other</td>\n",
       "      <td>Awd</td>\n",
       "      <td>Gasoline</td>\n",
       "      <td>Alloy WheelsSunroof/Moonroof</td>\n",
       "      <td>Leather SeatsMemory SeatThird Row Seating</td>\n",
       "      <td>Acura</td>\n",
       "      <td>$</td>\n",
       "    </tr>\n",
       "    <tr>\n",
       "      <th>954</th>\n",
       "      <td>Used</td>\n",
       "      <td>51997</td>\n",
       "      <td>Liquid Carbon Metallic</td>\n",
       "      <td>Red</td>\n",
       "      <td>Awd</td>\n",
       "      <td>Gasoline</td>\n",
       "      <td>Alloy WheelsSunroof/Moonroof</td>\n",
       "      <td>Leather SeatsMemory SeatThird Row Seating</td>\n",
       "      <td>Acura</td>\n",
       "      <td>$</td>\n",
       "    </tr>\n",
       "    <tr>\n",
       "      <th>955</th>\n",
       "      <td>Other</td>\n",
       "      <td>49983</td>\n",
       "      <td>Other</td>\n",
       "      <td>Other</td>\n",
       "      <td>Awd</td>\n",
       "      <td>Gasoline</td>\n",
       "      <td>Alloy WheelsSunroof/Moonroof</td>\n",
       "      <td>Leather SeatsMemory SeatThird Row Seating</td>\n",
       "      <td>Acura</td>\n",
       "      <td>$</td>\n",
       "    </tr>\n",
       "    <tr>\n",
       "      <th>956</th>\n",
       "      <td>Used</td>\n",
       "      <td>52997</td>\n",
       "      <td>Other</td>\n",
       "      <td>Ebony</td>\n",
       "      <td>Awd</td>\n",
       "      <td>Gasoline</td>\n",
       "      <td>Alloy WheelsSunroof/Moonroof</td>\n",
       "      <td>Leather SeatsMemory SeatThird Row Seating</td>\n",
       "      <td>Acura</td>\n",
       "      <td>$</td>\n",
       "    </tr>\n",
       "    <tr>\n",
       "      <th>957</th>\n",
       "      <td>Used</td>\n",
       "      <td>52998</td>\n",
       "      <td>Other</td>\n",
       "      <td>Other</td>\n",
       "      <td>Awd</td>\n",
       "      <td>Gasoline</td>\n",
       "      <td>Alloy Wheels</td>\n",
       "      <td>Leather SeatsMemory Seat</td>\n",
       "      <td>Acura</td>\n",
       "      <td>$</td>\n",
       "    </tr>\n",
       "  </tbody>\n",
       "</table>\n",
       "</div>"
      ],
      "text/plain": [
       "    penggunaan  harga              warna_luar warna_dalam driver  \\\n",
       "953       Used  47995  Liquid Carbon Metallic       Other    Awd   \n",
       "954       Used  51997  Liquid Carbon Metallic        Red     Awd   \n",
       "955      Other  49983                   Other       Other    Awd   \n",
       "956       Used  52997                   Other      Ebony     Awd   \n",
       "957       Used  52998                   Other       Other    Awd   \n",
       "\n",
       "    jenis_bahan_bakar                       bagian_luar  \\\n",
       "953          Gasoline    Alloy WheelsSunroof/Moonroof     \n",
       "954          Gasoline    Alloy WheelsSunroof/Moonroof     \n",
       "955          Gasoline    Alloy WheelsSunroof/Moonroof     \n",
       "956          Gasoline    Alloy WheelsSunroof/Moonroof     \n",
       "957          Gasoline                    Alloy Wheels     \n",
       "\n",
       "                                      tempat_duduk  merek mata_uang  \n",
       "953    Leather SeatsMemory SeatThird Row Seating    Acura         $  \n",
       "954    Leather SeatsMemory SeatThird Row Seating    Acura         $  \n",
       "955    Leather SeatsMemory SeatThird Row Seating    Acura         $  \n",
       "956    Leather SeatsMemory SeatThird Row Seating    Acura         $  \n",
       "957                     Leather SeatsMemory Seat    Acura         $  "
      ]
     },
     "execution_count": 75,
     "metadata": {},
     "output_type": "execute_result"
    }
   ],
   "source": [
    "def setjenisbahanbakar(text):\n",
    "    if text == 'Gasoline':\n",
    "        return 'Gasoline'\n",
    "    elif text == 'Diesel':\n",
    "        return 'Diesel'\n",
    "    elif text == 'Hybrid':\n",
    "        return 'Hybrid'\n",
    "    else:\n",
    "        return 'Other'\n",
    "    \n",
    "data['jenis_bahan_bakar'] = data['jenis_bahan_bakar'].apply(lambda x:setjenisbahanbakar(x))\n",
    "data.head()"
   ]
  },
  {
   "cell_type": "markdown",
   "id": "2a3701dd",
   "metadata": {},
   "source": [
    "**6. Cek data kategorik yang terdapat pada kolom tempat_duduk**"
   ]
  },
  {
   "cell_type": "code",
   "execution_count": 76,
   "id": "1f9d4d38",
   "metadata": {},
   "outputs": [
    {
     "data": {
      "text/plain": [
       "array(['  Leather SeatsMemory SeatThird Row Seating  ',\n",
       "       '  Leather SeatsMemory Seat  ', '  Leather Seats  ',\n",
       "       '  Memory Seat  ', '  Leather SeatsThird Row Seating  ',\n",
       "       '  Third Row Seating  ', '  Memory SeatThird Row Seating  '],\n",
       "      dtype=object)"
      ]
     },
     "execution_count": 76,
     "metadata": {},
     "output_type": "execute_result"
    }
   ],
   "source": [
    "data.tempat_duduk.unique()"
   ]
  },
  {
   "cell_type": "markdown",
   "id": "35ed7cb8",
   "metadata": {},
   "source": [
    "**Menyederhanakan data kategorik pada kolom tempat_duduk**"
   ]
  },
  {
   "cell_type": "code",
   "execution_count": 77,
   "id": "37323355",
   "metadata": {},
   "outputs": [
    {
     "data": {
      "text/html": [
       "<div>\n",
       "<style scoped>\n",
       "    .dataframe tbody tr th:only-of-type {\n",
       "        vertical-align: middle;\n",
       "    }\n",
       "\n",
       "    .dataframe tbody tr th {\n",
       "        vertical-align: top;\n",
       "    }\n",
       "\n",
       "    .dataframe thead th {\n",
       "        text-align: right;\n",
       "    }\n",
       "</style>\n",
       "<table border=\"1\" class=\"dataframe\">\n",
       "  <thead>\n",
       "    <tr style=\"text-align: right;\">\n",
       "      <th></th>\n",
       "      <th>penggunaan</th>\n",
       "      <th>harga</th>\n",
       "      <th>warna_luar</th>\n",
       "      <th>warna_dalam</th>\n",
       "      <th>driver</th>\n",
       "      <th>jenis_bahan_bakar</th>\n",
       "      <th>bagian_luar</th>\n",
       "      <th>tempat_duduk</th>\n",
       "      <th>merek</th>\n",
       "      <th>mata_uang</th>\n",
       "    </tr>\n",
       "  </thead>\n",
       "  <tbody>\n",
       "    <tr>\n",
       "      <th>953</th>\n",
       "      <td>Used</td>\n",
       "      <td>47995</td>\n",
       "      <td>Liquid Carbon Metallic</td>\n",
       "      <td>Other</td>\n",
       "      <td>Awd</td>\n",
       "      <td>Gasoline</td>\n",
       "      <td>Alloy WheelsSunroof/Moonroof</td>\n",
       "      <td>Other</td>\n",
       "      <td>Acura</td>\n",
       "      <td>$</td>\n",
       "    </tr>\n",
       "    <tr>\n",
       "      <th>954</th>\n",
       "      <td>Used</td>\n",
       "      <td>51997</td>\n",
       "      <td>Liquid Carbon Metallic</td>\n",
       "      <td>Red</td>\n",
       "      <td>Awd</td>\n",
       "      <td>Gasoline</td>\n",
       "      <td>Alloy WheelsSunroof/Moonroof</td>\n",
       "      <td>Other</td>\n",
       "      <td>Acura</td>\n",
       "      <td>$</td>\n",
       "    </tr>\n",
       "    <tr>\n",
       "      <th>955</th>\n",
       "      <td>Other</td>\n",
       "      <td>49983</td>\n",
       "      <td>Other</td>\n",
       "      <td>Other</td>\n",
       "      <td>Awd</td>\n",
       "      <td>Gasoline</td>\n",
       "      <td>Alloy WheelsSunroof/Moonroof</td>\n",
       "      <td>Other</td>\n",
       "      <td>Acura</td>\n",
       "      <td>$</td>\n",
       "    </tr>\n",
       "    <tr>\n",
       "      <th>956</th>\n",
       "      <td>Used</td>\n",
       "      <td>52997</td>\n",
       "      <td>Other</td>\n",
       "      <td>Ebony</td>\n",
       "      <td>Awd</td>\n",
       "      <td>Gasoline</td>\n",
       "      <td>Alloy WheelsSunroof/Moonroof</td>\n",
       "      <td>Other</td>\n",
       "      <td>Acura</td>\n",
       "      <td>$</td>\n",
       "    </tr>\n",
       "    <tr>\n",
       "      <th>957</th>\n",
       "      <td>Used</td>\n",
       "      <td>52998</td>\n",
       "      <td>Other</td>\n",
       "      <td>Other</td>\n",
       "      <td>Awd</td>\n",
       "      <td>Gasoline</td>\n",
       "      <td>Alloy Wheels</td>\n",
       "      <td>Other</td>\n",
       "      <td>Acura</td>\n",
       "      <td>$</td>\n",
       "    </tr>\n",
       "  </tbody>\n",
       "</table>\n",
       "</div>"
      ],
      "text/plain": [
       "    penggunaan  harga              warna_luar warna_dalam driver  \\\n",
       "953       Used  47995  Liquid Carbon Metallic       Other    Awd   \n",
       "954       Used  51997  Liquid Carbon Metallic        Red     Awd   \n",
       "955      Other  49983                   Other       Other    Awd   \n",
       "956       Used  52997                   Other      Ebony     Awd   \n",
       "957       Used  52998                   Other       Other    Awd   \n",
       "\n",
       "    jenis_bahan_bakar                       bagian_luar tempat_duduk  merek  \\\n",
       "953          Gasoline    Alloy WheelsSunroof/Moonroof          Other  Acura   \n",
       "954          Gasoline    Alloy WheelsSunroof/Moonroof          Other  Acura   \n",
       "955          Gasoline    Alloy WheelsSunroof/Moonroof          Other  Acura   \n",
       "956          Gasoline    Alloy WheelsSunroof/Moonroof          Other  Acura   \n",
       "957          Gasoline                    Alloy Wheels          Other  Acura   \n",
       "\n",
       "    mata_uang  \n",
       "953         $  \n",
       "954         $  \n",
       "955         $  \n",
       "956         $  \n",
       "957         $  "
      ]
     },
     "execution_count": 77,
     "metadata": {},
     "output_type": "execute_result"
    }
   ],
   "source": [
    "def settempatduduk(text):\n",
    "    if text == 'Leather Seats':\n",
    "        return 'Leather Seats'\n",
    "    elif text == 'Leather SeatsMemory SeatThird Row Seating':\n",
    "        return 'Leather SeatsMemory SeatThird Row Seating'\n",
    "    elif text == 'Memory Seat':\n",
    "        return 'Memory Seat'\n",
    "    else:\n",
    "        return 'Other'\n",
    "    \n",
    "data['tempat_duduk'] = data['tempat_duduk'].apply(lambda x:settempatduduk(x))\n",
    "data.head()"
   ]
  },
  {
   "cell_type": "markdown",
   "id": "d560be4d",
   "metadata": {},
   "source": [
    "**7. Cek data kategorik yang terdapat pada kolom merek**"
   ]
  },
  {
   "cell_type": "code",
   "execution_count": 78,
   "id": "e66beb9c",
   "metadata": {},
   "outputs": [
    {
     "data": {
      "text/plain": [
       "array(['Acura', 'Audi', 'Bmw', 'Buick', 'Cadillac', 'Chevrolet',\n",
       "       'Chrysler', 'Dodge', 'Ford', 'Gmc', 'Honda', 'Hyundai', 'Infiniti',\n",
       "       'Jaguar', 'Jeep', 'Kia', 'Land_Rover', 'Lexus', 'Lincoln', 'Mazda',\n",
       "       'Mercedes_Benz', 'Mitsubishi', 'Nissan', 'Porsche', 'Ram',\n",
       "       'Subaru', 'Toyota', 'Volkswagen', 'Volvo'], dtype=object)"
      ]
     },
     "execution_count": 78,
     "metadata": {},
     "output_type": "execute_result"
    }
   ],
   "source": [
    "data.merek.unique()"
   ]
  },
  {
   "cell_type": "markdown",
   "id": "f6ec4813",
   "metadata": {},
   "source": [
    "**Menyederhanakan data kategorik pada kolom tempat_duduk**"
   ]
  },
  {
   "cell_type": "code",
   "execution_count": 79,
   "id": "11a08cdd",
   "metadata": {},
   "outputs": [
    {
     "data": {
      "text/html": [
       "<div>\n",
       "<style scoped>\n",
       "    .dataframe tbody tr th:only-of-type {\n",
       "        vertical-align: middle;\n",
       "    }\n",
       "\n",
       "    .dataframe tbody tr th {\n",
       "        vertical-align: top;\n",
       "    }\n",
       "\n",
       "    .dataframe thead th {\n",
       "        text-align: right;\n",
       "    }\n",
       "</style>\n",
       "<table border=\"1\" class=\"dataframe\">\n",
       "  <thead>\n",
       "    <tr style=\"text-align: right;\">\n",
       "      <th></th>\n",
       "      <th>penggunaan</th>\n",
       "      <th>harga</th>\n",
       "      <th>warna_luar</th>\n",
       "      <th>warna_dalam</th>\n",
       "      <th>driver</th>\n",
       "      <th>jenis_bahan_bakar</th>\n",
       "      <th>bagian_luar</th>\n",
       "      <th>tempat_duduk</th>\n",
       "      <th>merek</th>\n",
       "      <th>mata_uang</th>\n",
       "    </tr>\n",
       "  </thead>\n",
       "  <tbody>\n",
       "    <tr>\n",
       "      <th>953</th>\n",
       "      <td>Used</td>\n",
       "      <td>47995</td>\n",
       "      <td>Liquid Carbon Metallic</td>\n",
       "      <td>Other</td>\n",
       "      <td>Awd</td>\n",
       "      <td>Gasoline</td>\n",
       "      <td>Alloy WheelsSunroof/Moonroof</td>\n",
       "      <td>Other</td>\n",
       "      <td>Acura</td>\n",
       "      <td>$</td>\n",
       "    </tr>\n",
       "    <tr>\n",
       "      <th>954</th>\n",
       "      <td>Used</td>\n",
       "      <td>51997</td>\n",
       "      <td>Liquid Carbon Metallic</td>\n",
       "      <td>Red</td>\n",
       "      <td>Awd</td>\n",
       "      <td>Gasoline</td>\n",
       "      <td>Alloy WheelsSunroof/Moonroof</td>\n",
       "      <td>Other</td>\n",
       "      <td>Acura</td>\n",
       "      <td>$</td>\n",
       "    </tr>\n",
       "    <tr>\n",
       "      <th>955</th>\n",
       "      <td>Other</td>\n",
       "      <td>49983</td>\n",
       "      <td>Other</td>\n",
       "      <td>Other</td>\n",
       "      <td>Awd</td>\n",
       "      <td>Gasoline</td>\n",
       "      <td>Alloy WheelsSunroof/Moonroof</td>\n",
       "      <td>Other</td>\n",
       "      <td>Acura</td>\n",
       "      <td>$</td>\n",
       "    </tr>\n",
       "    <tr>\n",
       "      <th>956</th>\n",
       "      <td>Used</td>\n",
       "      <td>52997</td>\n",
       "      <td>Other</td>\n",
       "      <td>Ebony</td>\n",
       "      <td>Awd</td>\n",
       "      <td>Gasoline</td>\n",
       "      <td>Alloy WheelsSunroof/Moonroof</td>\n",
       "      <td>Other</td>\n",
       "      <td>Acura</td>\n",
       "      <td>$</td>\n",
       "    </tr>\n",
       "    <tr>\n",
       "      <th>957</th>\n",
       "      <td>Used</td>\n",
       "      <td>52998</td>\n",
       "      <td>Other</td>\n",
       "      <td>Other</td>\n",
       "      <td>Awd</td>\n",
       "      <td>Gasoline</td>\n",
       "      <td>Alloy Wheels</td>\n",
       "      <td>Other</td>\n",
       "      <td>Acura</td>\n",
       "      <td>$</td>\n",
       "    </tr>\n",
       "  </tbody>\n",
       "</table>\n",
       "</div>"
      ],
      "text/plain": [
       "    penggunaan  harga              warna_luar warna_dalam driver  \\\n",
       "953       Used  47995  Liquid Carbon Metallic       Other    Awd   \n",
       "954       Used  51997  Liquid Carbon Metallic        Red     Awd   \n",
       "955      Other  49983                   Other       Other    Awd   \n",
       "956       Used  52997                   Other      Ebony     Awd   \n",
       "957       Used  52998                   Other       Other    Awd   \n",
       "\n",
       "    jenis_bahan_bakar                       bagian_luar tempat_duduk  merek  \\\n",
       "953          Gasoline    Alloy WheelsSunroof/Moonroof          Other  Acura   \n",
       "954          Gasoline    Alloy WheelsSunroof/Moonroof          Other  Acura   \n",
       "955          Gasoline    Alloy WheelsSunroof/Moonroof          Other  Acura   \n",
       "956          Gasoline    Alloy WheelsSunroof/Moonroof          Other  Acura   \n",
       "957          Gasoline                    Alloy Wheels          Other  Acura   \n",
       "\n",
       "    mata_uang  \n",
       "953         $  \n",
       "954         $  \n",
       "955         $  \n",
       "956         $  \n",
       "957         $  "
      ]
     },
     "execution_count": 79,
     "metadata": {},
     "output_type": "execute_result"
    }
   ],
   "source": [
    "#Simple Brand Category\n",
    "def setbrandcategory(text):\n",
    "    if text == 'Acura':\n",
    "        return 'Acura'\n",
    "    elif text == 'Audi':\n",
    "        return 'Audi'\n",
    "    elif text == 'Bmw':\n",
    "        return 'Bmw'\n",
    "    elif text == 'Volvo':\n",
    "        return 'Volvo'\n",
    "    elif text == 'Cadillac':\n",
    "        return 'Cadillac'\n",
    "    elif text == 'Chevrolet':\n",
    "        return 'Chevrolet'\n",
    "    elif text == 'Chrysler':\n",
    "        return 'Chrysler'\n",
    "    else:\n",
    "        return 'Other'\n",
    "    \n",
    "data['merek'] = data['merek'].apply(lambda x:setbrandcategory(x))\n",
    "data.head()"
   ]
  },
  {
   "cell_type": "code",
   "execution_count": 80,
   "id": "0bc8c84a",
   "metadata": {},
   "outputs": [
    {
     "data": {
      "text/plain": [
       "penggunaan           object\n",
       "harga                 int64\n",
       "warna_luar           object\n",
       "warna_dalam          object\n",
       "driver               object\n",
       "jenis_bahan_bakar    object\n",
       "bagian_luar          object\n",
       "tempat_duduk         object\n",
       "merek                object\n",
       "mata_uang            object\n",
       "dtype: object"
      ]
     },
     "execution_count": 80,
     "metadata": {},
     "output_type": "execute_result"
    }
   ],
   "source": [
    "data.dtypes"
   ]
  },
  {
   "cell_type": "code",
   "execution_count": 81,
   "id": "e34c5206",
   "metadata": {},
   "outputs": [
    {
     "name": "stdout",
     "output_type": "stream",
     "text": [
      "<class 'pandas.core.frame.DataFrame'>\n",
      "Int64Index: 8532 entries, 953 to 175468\n",
      "Data columns (total 10 columns):\n",
      " #   Column             Non-Null Count  Dtype \n",
      "---  ------             --------------  ----- \n",
      " 0   penggunaan         8532 non-null   object\n",
      " 1   harga              8532 non-null   int32 \n",
      " 2   warna_luar         8532 non-null   object\n",
      " 3   warna_dalam        8532 non-null   object\n",
      " 4   driver             8532 non-null   object\n",
      " 5   jenis_bahan_bakar  8532 non-null   object\n",
      " 6   bagian_luar        8532 non-null   object\n",
      " 7   tempat_duduk       8532 non-null   object\n",
      " 8   merek              8532 non-null   object\n",
      " 9   mata_uang          8532 non-null   object\n",
      "dtypes: int32(1), object(9)\n",
      "memory usage: 699.9+ KB\n"
     ]
    }
   ],
   "source": [
    "data['harga'] = data['harga'].astype('int32')\n",
    "data.info()"
   ]
  },
  {
   "cell_type": "code",
   "execution_count": 85,
   "id": "669c2f77",
   "metadata": {},
   "outputs": [],
   "source": [
    "def pie_bool(data):\n",
    "    \n",
    "    fig = make_subplots(rows=1, cols=2, specs=[[{'type':'domain'}, {'type':'domain'}]])\n",
    "     \n",
    "    driver_label = ['Fwd', 'Other', 'Awd']\n",
    "    brand_label = ['Other', 'Acura', 'Audi', 'Bmw', 'Volvo', 'Cadillac', 'Chevrolet', 'Chrysler']\n",
    "\n",
    "    values = data['driver'].value_counts().values\n",
    "    fig.add_trace(go.Pie(labels=driver_label, values=values, name=\"driver\", title=\"driver\"),1, 1)\n",
    "\n",
    "    values = data['merek'].value_counts().values\n",
    "    fig.add_trace(go.Pie(labels=brand_label, values=values, name=\"merek\", title=\"merek\"),1, 2)\n",
    "\n",
    "    fig.update_traces(hole=.55, hoverinfo=\"label+percent+name\")\n",
    "\n",
    "    fig.update_layout(title_text=\"Persebaran Data pada Kolom driver dan merek\", title_xanchor=\"auto\")\n",
    "    fig.show()"
   ]
  },
  {
   "cell_type": "code",
   "execution_count": 86,
   "id": "cf59a18d",
   "metadata": {},
   "outputs": [
    {
     "data": {
      "application/vnd.plotly.v1+json": {
       "config": {
        "plotlyServerURL": "https://plot.ly"
       },
       "data": [
        {
         "domain": {
          "x": [
           0,
           0.45
          ],
          "y": [
           0,
           1
          ]
         },
         "hole": 0.55,
         "hoverinfo": "label+percent+name",
         "labels": [
          "Fwd",
          "Other",
          "Awd"
         ],
         "name": "driver",
         "title": {
          "text": "driver"
         },
         "type": "pie",
         "values": [
          3699,
          2800,
          2033
         ]
        },
        {
         "domain": {
          "x": [
           0.55,
           1
          ],
          "y": [
           0,
           1
          ]
         },
         "hole": 0.55,
         "hoverinfo": "label+percent+name",
         "labels": [
          "Other",
          "Acura",
          "Audi",
          "Bmw",
          "Volvo",
          "Cadillac",
          "Chevrolet",
          "Chrysler"
         ],
         "name": "merek",
         "title": {
          "text": "merek"
         },
         "type": "pie",
         "values": [
          6625,
          335,
          319,
          314,
          278,
          251,
          241,
          169
         ]
        }
       ],
       "layout": {
        "template": {
         "data": {
          "bar": [
           {
            "error_x": {
             "color": "#2a3f5f"
            },
            "error_y": {
             "color": "#2a3f5f"
            },
            "marker": {
             "line": {
              "color": "#E5ECF6",
              "width": 0.5
             },
             "pattern": {
              "fillmode": "overlay",
              "size": 10,
              "solidity": 0.2
             }
            },
            "type": "bar"
           }
          ],
          "barpolar": [
           {
            "marker": {
             "line": {
              "color": "#E5ECF6",
              "width": 0.5
             },
             "pattern": {
              "fillmode": "overlay",
              "size": 10,
              "solidity": 0.2
             }
            },
            "type": "barpolar"
           }
          ],
          "carpet": [
           {
            "aaxis": {
             "endlinecolor": "#2a3f5f",
             "gridcolor": "white",
             "linecolor": "white",
             "minorgridcolor": "white",
             "startlinecolor": "#2a3f5f"
            },
            "baxis": {
             "endlinecolor": "#2a3f5f",
             "gridcolor": "white",
             "linecolor": "white",
             "minorgridcolor": "white",
             "startlinecolor": "#2a3f5f"
            },
            "type": "carpet"
           }
          ],
          "choropleth": [
           {
            "colorbar": {
             "outlinewidth": 0,
             "ticks": ""
            },
            "type": "choropleth"
           }
          ],
          "contour": [
           {
            "colorbar": {
             "outlinewidth": 0,
             "ticks": ""
            },
            "colorscale": [
             [
              0,
              "#0d0887"
             ],
             [
              0.1111111111111111,
              "#46039f"
             ],
             [
              0.2222222222222222,
              "#7201a8"
             ],
             [
              0.3333333333333333,
              "#9c179e"
             ],
             [
              0.4444444444444444,
              "#bd3786"
             ],
             [
              0.5555555555555556,
              "#d8576b"
             ],
             [
              0.6666666666666666,
              "#ed7953"
             ],
             [
              0.7777777777777778,
              "#fb9f3a"
             ],
             [
              0.8888888888888888,
              "#fdca26"
             ],
             [
              1,
              "#f0f921"
             ]
            ],
            "type": "contour"
           }
          ],
          "contourcarpet": [
           {
            "colorbar": {
             "outlinewidth": 0,
             "ticks": ""
            },
            "type": "contourcarpet"
           }
          ],
          "heatmap": [
           {
            "colorbar": {
             "outlinewidth": 0,
             "ticks": ""
            },
            "colorscale": [
             [
              0,
              "#0d0887"
             ],
             [
              0.1111111111111111,
              "#46039f"
             ],
             [
              0.2222222222222222,
              "#7201a8"
             ],
             [
              0.3333333333333333,
              "#9c179e"
             ],
             [
              0.4444444444444444,
              "#bd3786"
             ],
             [
              0.5555555555555556,
              "#d8576b"
             ],
             [
              0.6666666666666666,
              "#ed7953"
             ],
             [
              0.7777777777777778,
              "#fb9f3a"
             ],
             [
              0.8888888888888888,
              "#fdca26"
             ],
             [
              1,
              "#f0f921"
             ]
            ],
            "type": "heatmap"
           }
          ],
          "heatmapgl": [
           {
            "colorbar": {
             "outlinewidth": 0,
             "ticks": ""
            },
            "colorscale": [
             [
              0,
              "#0d0887"
             ],
             [
              0.1111111111111111,
              "#46039f"
             ],
             [
              0.2222222222222222,
              "#7201a8"
             ],
             [
              0.3333333333333333,
              "#9c179e"
             ],
             [
              0.4444444444444444,
              "#bd3786"
             ],
             [
              0.5555555555555556,
              "#d8576b"
             ],
             [
              0.6666666666666666,
              "#ed7953"
             ],
             [
              0.7777777777777778,
              "#fb9f3a"
             ],
             [
              0.8888888888888888,
              "#fdca26"
             ],
             [
              1,
              "#f0f921"
             ]
            ],
            "type": "heatmapgl"
           }
          ],
          "histogram": [
           {
            "marker": {
             "pattern": {
              "fillmode": "overlay",
              "size": 10,
              "solidity": 0.2
             }
            },
            "type": "histogram"
           }
          ],
          "histogram2d": [
           {
            "colorbar": {
             "outlinewidth": 0,
             "ticks": ""
            },
            "colorscale": [
             [
              0,
              "#0d0887"
             ],
             [
              0.1111111111111111,
              "#46039f"
             ],
             [
              0.2222222222222222,
              "#7201a8"
             ],
             [
              0.3333333333333333,
              "#9c179e"
             ],
             [
              0.4444444444444444,
              "#bd3786"
             ],
             [
              0.5555555555555556,
              "#d8576b"
             ],
             [
              0.6666666666666666,
              "#ed7953"
             ],
             [
              0.7777777777777778,
              "#fb9f3a"
             ],
             [
              0.8888888888888888,
              "#fdca26"
             ],
             [
              1,
              "#f0f921"
             ]
            ],
            "type": "histogram2d"
           }
          ],
          "histogram2dcontour": [
           {
            "colorbar": {
             "outlinewidth": 0,
             "ticks": ""
            },
            "colorscale": [
             [
              0,
              "#0d0887"
             ],
             [
              0.1111111111111111,
              "#46039f"
             ],
             [
              0.2222222222222222,
              "#7201a8"
             ],
             [
              0.3333333333333333,
              "#9c179e"
             ],
             [
              0.4444444444444444,
              "#bd3786"
             ],
             [
              0.5555555555555556,
              "#d8576b"
             ],
             [
              0.6666666666666666,
              "#ed7953"
             ],
             [
              0.7777777777777778,
              "#fb9f3a"
             ],
             [
              0.8888888888888888,
              "#fdca26"
             ],
             [
              1,
              "#f0f921"
             ]
            ],
            "type": "histogram2dcontour"
           }
          ],
          "mesh3d": [
           {
            "colorbar": {
             "outlinewidth": 0,
             "ticks": ""
            },
            "type": "mesh3d"
           }
          ],
          "parcoords": [
           {
            "line": {
             "colorbar": {
              "outlinewidth": 0,
              "ticks": ""
             }
            },
            "type": "parcoords"
           }
          ],
          "pie": [
           {
            "automargin": true,
            "type": "pie"
           }
          ],
          "scatter": [
           {
            "fillpattern": {
             "fillmode": "overlay",
             "size": 10,
             "solidity": 0.2
            },
            "type": "scatter"
           }
          ],
          "scatter3d": [
           {
            "line": {
             "colorbar": {
              "outlinewidth": 0,
              "ticks": ""
             }
            },
            "marker": {
             "colorbar": {
              "outlinewidth": 0,
              "ticks": ""
             }
            },
            "type": "scatter3d"
           }
          ],
          "scattercarpet": [
           {
            "marker": {
             "colorbar": {
              "outlinewidth": 0,
              "ticks": ""
             }
            },
            "type": "scattercarpet"
           }
          ],
          "scattergeo": [
           {
            "marker": {
             "colorbar": {
              "outlinewidth": 0,
              "ticks": ""
             }
            },
            "type": "scattergeo"
           }
          ],
          "scattergl": [
           {
            "marker": {
             "colorbar": {
              "outlinewidth": 0,
              "ticks": ""
             }
            },
            "type": "scattergl"
           }
          ],
          "scattermapbox": [
           {
            "marker": {
             "colorbar": {
              "outlinewidth": 0,
              "ticks": ""
             }
            },
            "type": "scattermapbox"
           }
          ],
          "scatterpolar": [
           {
            "marker": {
             "colorbar": {
              "outlinewidth": 0,
              "ticks": ""
             }
            },
            "type": "scatterpolar"
           }
          ],
          "scatterpolargl": [
           {
            "marker": {
             "colorbar": {
              "outlinewidth": 0,
              "ticks": ""
             }
            },
            "type": "scatterpolargl"
           }
          ],
          "scatterternary": [
           {
            "marker": {
             "colorbar": {
              "outlinewidth": 0,
              "ticks": ""
             }
            },
            "type": "scatterternary"
           }
          ],
          "surface": [
           {
            "colorbar": {
             "outlinewidth": 0,
             "ticks": ""
            },
            "colorscale": [
             [
              0,
              "#0d0887"
             ],
             [
              0.1111111111111111,
              "#46039f"
             ],
             [
              0.2222222222222222,
              "#7201a8"
             ],
             [
              0.3333333333333333,
              "#9c179e"
             ],
             [
              0.4444444444444444,
              "#bd3786"
             ],
             [
              0.5555555555555556,
              "#d8576b"
             ],
             [
              0.6666666666666666,
              "#ed7953"
             ],
             [
              0.7777777777777778,
              "#fb9f3a"
             ],
             [
              0.8888888888888888,
              "#fdca26"
             ],
             [
              1,
              "#f0f921"
             ]
            ],
            "type": "surface"
           }
          ],
          "table": [
           {
            "cells": {
             "fill": {
              "color": "#EBF0F8"
             },
             "line": {
              "color": "white"
             }
            },
            "header": {
             "fill": {
              "color": "#C8D4E3"
             },
             "line": {
              "color": "white"
             }
            },
            "type": "table"
           }
          ]
         },
         "layout": {
          "annotationdefaults": {
           "arrowcolor": "#2a3f5f",
           "arrowhead": 0,
           "arrowwidth": 1
          },
          "autotypenumbers": "strict",
          "coloraxis": {
           "colorbar": {
            "outlinewidth": 0,
            "ticks": ""
           }
          },
          "colorscale": {
           "diverging": [
            [
             0,
             "#8e0152"
            ],
            [
             0.1,
             "#c51b7d"
            ],
            [
             0.2,
             "#de77ae"
            ],
            [
             0.3,
             "#f1b6da"
            ],
            [
             0.4,
             "#fde0ef"
            ],
            [
             0.5,
             "#f7f7f7"
            ],
            [
             0.6,
             "#e6f5d0"
            ],
            [
             0.7,
             "#b8e186"
            ],
            [
             0.8,
             "#7fbc41"
            ],
            [
             0.9,
             "#4d9221"
            ],
            [
             1,
             "#276419"
            ]
           ],
           "sequential": [
            [
             0,
             "#0d0887"
            ],
            [
             0.1111111111111111,
             "#46039f"
            ],
            [
             0.2222222222222222,
             "#7201a8"
            ],
            [
             0.3333333333333333,
             "#9c179e"
            ],
            [
             0.4444444444444444,
             "#bd3786"
            ],
            [
             0.5555555555555556,
             "#d8576b"
            ],
            [
             0.6666666666666666,
             "#ed7953"
            ],
            [
             0.7777777777777778,
             "#fb9f3a"
            ],
            [
             0.8888888888888888,
             "#fdca26"
            ],
            [
             1,
             "#f0f921"
            ]
           ],
           "sequentialminus": [
            [
             0,
             "#0d0887"
            ],
            [
             0.1111111111111111,
             "#46039f"
            ],
            [
             0.2222222222222222,
             "#7201a8"
            ],
            [
             0.3333333333333333,
             "#9c179e"
            ],
            [
             0.4444444444444444,
             "#bd3786"
            ],
            [
             0.5555555555555556,
             "#d8576b"
            ],
            [
             0.6666666666666666,
             "#ed7953"
            ],
            [
             0.7777777777777778,
             "#fb9f3a"
            ],
            [
             0.8888888888888888,
             "#fdca26"
            ],
            [
             1,
             "#f0f921"
            ]
           ]
          },
          "colorway": [
           "#636efa",
           "#EF553B",
           "#00cc96",
           "#ab63fa",
           "#FFA15A",
           "#19d3f3",
           "#FF6692",
           "#B6E880",
           "#FF97FF",
           "#FECB52"
          ],
          "font": {
           "color": "#2a3f5f"
          },
          "geo": {
           "bgcolor": "white",
           "lakecolor": "white",
           "landcolor": "#E5ECF6",
           "showlakes": true,
           "showland": true,
           "subunitcolor": "white"
          },
          "hoverlabel": {
           "align": "left"
          },
          "hovermode": "closest",
          "mapbox": {
           "style": "light"
          },
          "paper_bgcolor": "white",
          "plot_bgcolor": "#E5ECF6",
          "polar": {
           "angularaxis": {
            "gridcolor": "white",
            "linecolor": "white",
            "ticks": ""
           },
           "bgcolor": "#E5ECF6",
           "radialaxis": {
            "gridcolor": "white",
            "linecolor": "white",
            "ticks": ""
           }
          },
          "scene": {
           "xaxis": {
            "backgroundcolor": "#E5ECF6",
            "gridcolor": "white",
            "gridwidth": 2,
            "linecolor": "white",
            "showbackground": true,
            "ticks": "",
            "zerolinecolor": "white"
           },
           "yaxis": {
            "backgroundcolor": "#E5ECF6",
            "gridcolor": "white",
            "gridwidth": 2,
            "linecolor": "white",
            "showbackground": true,
            "ticks": "",
            "zerolinecolor": "white"
           },
           "zaxis": {
            "backgroundcolor": "#E5ECF6",
            "gridcolor": "white",
            "gridwidth": 2,
            "linecolor": "white",
            "showbackground": true,
            "ticks": "",
            "zerolinecolor": "white"
           }
          },
          "shapedefaults": {
           "line": {
            "color": "#2a3f5f"
           }
          },
          "ternary": {
           "aaxis": {
            "gridcolor": "white",
            "linecolor": "white",
            "ticks": ""
           },
           "baxis": {
            "gridcolor": "white",
            "linecolor": "white",
            "ticks": ""
           },
           "bgcolor": "#E5ECF6",
           "caxis": {
            "gridcolor": "white",
            "linecolor": "white",
            "ticks": ""
           }
          },
          "title": {
           "x": 0.05
          },
          "xaxis": {
           "automargin": true,
           "gridcolor": "white",
           "linecolor": "white",
           "ticks": "",
           "title": {
            "standoff": 15
           },
           "zerolinecolor": "white",
           "zerolinewidth": 2
          },
          "yaxis": {
           "automargin": true,
           "gridcolor": "white",
           "linecolor": "white",
           "ticks": "",
           "title": {
            "standoff": 15
           },
           "zerolinecolor": "white",
           "zerolinewidth": 2
          }
         }
        },
        "title": {
         "text": "Persebaran Data pada Kolom driver dan merek",
         "xanchor": "auto"
        }
       }
      },
      "text/html": [
       "<div>                            <div id=\"3c2ea0ea-e725-424a-ab13-9fa2e1085a5f\" class=\"plotly-graph-div\" style=\"height:525px; width:100%;\"></div>            <script type=\"text/javascript\">                require([\"plotly\"], function(Plotly) {                    window.PLOTLYENV=window.PLOTLYENV || {};                                    if (document.getElementById(\"3c2ea0ea-e725-424a-ab13-9fa2e1085a5f\")) {                    Plotly.newPlot(                        \"3c2ea0ea-e725-424a-ab13-9fa2e1085a5f\",                        [{\"labels\":[\"Fwd\",\"Other\",\"Awd\"],\"name\":\"driver\",\"title\":{\"text\":\"driver\"},\"values\":[3699,2800,2033],\"type\":\"pie\",\"domain\":{\"x\":[0.0,0.45],\"y\":[0.0,1.0]},\"hole\":0.55,\"hoverinfo\":\"label+percent+name\"},{\"labels\":[\"Other\",\"Acura\",\"Audi\",\"Bmw\",\"Volvo\",\"Cadillac\",\"Chevrolet\",\"Chrysler\"],\"name\":\"merek\",\"title\":{\"text\":\"merek\"},\"values\":[6625,335,319,314,278,251,241,169],\"type\":\"pie\",\"domain\":{\"x\":[0.55,1.0],\"y\":[0.0,1.0]},\"hole\":0.55,\"hoverinfo\":\"label+percent+name\"}],                        {\"template\":{\"data\":{\"histogram2dcontour\":[{\"type\":\"histogram2dcontour\",\"colorbar\":{\"outlinewidth\":0,\"ticks\":\"\"},\"colorscale\":[[0.0,\"#0d0887\"],[0.1111111111111111,\"#46039f\"],[0.2222222222222222,\"#7201a8\"],[0.3333333333333333,\"#9c179e\"],[0.4444444444444444,\"#bd3786\"],[0.5555555555555556,\"#d8576b\"],[0.6666666666666666,\"#ed7953\"],[0.7777777777777778,\"#fb9f3a\"],[0.8888888888888888,\"#fdca26\"],[1.0,\"#f0f921\"]]}],\"choropleth\":[{\"type\":\"choropleth\",\"colorbar\":{\"outlinewidth\":0,\"ticks\":\"\"}}],\"histogram2d\":[{\"type\":\"histogram2d\",\"colorbar\":{\"outlinewidth\":0,\"ticks\":\"\"},\"colorscale\":[[0.0,\"#0d0887\"],[0.1111111111111111,\"#46039f\"],[0.2222222222222222,\"#7201a8\"],[0.3333333333333333,\"#9c179e\"],[0.4444444444444444,\"#bd3786\"],[0.5555555555555556,\"#d8576b\"],[0.6666666666666666,\"#ed7953\"],[0.7777777777777778,\"#fb9f3a\"],[0.8888888888888888,\"#fdca26\"],[1.0,\"#f0f921\"]]}],\"heatmap\":[{\"type\":\"heatmap\",\"colorbar\":{\"outlinewidth\":0,\"ticks\":\"\"},\"colorscale\":[[0.0,\"#0d0887\"],[0.1111111111111111,\"#46039f\"],[0.2222222222222222,\"#7201a8\"],[0.3333333333333333,\"#9c179e\"],[0.4444444444444444,\"#bd3786\"],[0.5555555555555556,\"#d8576b\"],[0.6666666666666666,\"#ed7953\"],[0.7777777777777778,\"#fb9f3a\"],[0.8888888888888888,\"#fdca26\"],[1.0,\"#f0f921\"]]}],\"heatmapgl\":[{\"type\":\"heatmapgl\",\"colorbar\":{\"outlinewidth\":0,\"ticks\":\"\"},\"colorscale\":[[0.0,\"#0d0887\"],[0.1111111111111111,\"#46039f\"],[0.2222222222222222,\"#7201a8\"],[0.3333333333333333,\"#9c179e\"],[0.4444444444444444,\"#bd3786\"],[0.5555555555555556,\"#d8576b\"],[0.6666666666666666,\"#ed7953\"],[0.7777777777777778,\"#fb9f3a\"],[0.8888888888888888,\"#fdca26\"],[1.0,\"#f0f921\"]]}],\"contourcarpet\":[{\"type\":\"contourcarpet\",\"colorbar\":{\"outlinewidth\":0,\"ticks\":\"\"}}],\"contour\":[{\"type\":\"contour\",\"colorbar\":{\"outlinewidth\":0,\"ticks\":\"\"},\"colorscale\":[[0.0,\"#0d0887\"],[0.1111111111111111,\"#46039f\"],[0.2222222222222222,\"#7201a8\"],[0.3333333333333333,\"#9c179e\"],[0.4444444444444444,\"#bd3786\"],[0.5555555555555556,\"#d8576b\"],[0.6666666666666666,\"#ed7953\"],[0.7777777777777778,\"#fb9f3a\"],[0.8888888888888888,\"#fdca26\"],[1.0,\"#f0f921\"]]}],\"surface\":[{\"type\":\"surface\",\"colorbar\":{\"outlinewidth\":0,\"ticks\":\"\"},\"colorscale\":[[0.0,\"#0d0887\"],[0.1111111111111111,\"#46039f\"],[0.2222222222222222,\"#7201a8\"],[0.3333333333333333,\"#9c179e\"],[0.4444444444444444,\"#bd3786\"],[0.5555555555555556,\"#d8576b\"],[0.6666666666666666,\"#ed7953\"],[0.7777777777777778,\"#fb9f3a\"],[0.8888888888888888,\"#fdca26\"],[1.0,\"#f0f921\"]]}],\"mesh3d\":[{\"type\":\"mesh3d\",\"colorbar\":{\"outlinewidth\":0,\"ticks\":\"\"}}],\"scatter\":[{\"fillpattern\":{\"fillmode\":\"overlay\",\"size\":10,\"solidity\":0.2},\"type\":\"scatter\"}],\"parcoords\":[{\"type\":\"parcoords\",\"line\":{\"colorbar\":{\"outlinewidth\":0,\"ticks\":\"\"}}}],\"scatterpolargl\":[{\"type\":\"scatterpolargl\",\"marker\":{\"colorbar\":{\"outlinewidth\":0,\"ticks\":\"\"}}}],\"bar\":[{\"error_x\":{\"color\":\"#2a3f5f\"},\"error_y\":{\"color\":\"#2a3f5f\"},\"marker\":{\"line\":{\"color\":\"#E5ECF6\",\"width\":0.5},\"pattern\":{\"fillmode\":\"overlay\",\"size\":10,\"solidity\":0.2}},\"type\":\"bar\"}],\"scattergeo\":[{\"type\":\"scattergeo\",\"marker\":{\"colorbar\":{\"outlinewidth\":0,\"ticks\":\"\"}}}],\"scatterpolar\":[{\"type\":\"scatterpolar\",\"marker\":{\"colorbar\":{\"outlinewidth\":0,\"ticks\":\"\"}}}],\"histogram\":[{\"marker\":{\"pattern\":{\"fillmode\":\"overlay\",\"size\":10,\"solidity\":0.2}},\"type\":\"histogram\"}],\"scattergl\":[{\"type\":\"scattergl\",\"marker\":{\"colorbar\":{\"outlinewidth\":0,\"ticks\":\"\"}}}],\"scatter3d\":[{\"type\":\"scatter3d\",\"line\":{\"colorbar\":{\"outlinewidth\":0,\"ticks\":\"\"}},\"marker\":{\"colorbar\":{\"outlinewidth\":0,\"ticks\":\"\"}}}],\"scattermapbox\":[{\"type\":\"scattermapbox\",\"marker\":{\"colorbar\":{\"outlinewidth\":0,\"ticks\":\"\"}}}],\"scatterternary\":[{\"type\":\"scatterternary\",\"marker\":{\"colorbar\":{\"outlinewidth\":0,\"ticks\":\"\"}}}],\"scattercarpet\":[{\"type\":\"scattercarpet\",\"marker\":{\"colorbar\":{\"outlinewidth\":0,\"ticks\":\"\"}}}],\"carpet\":[{\"aaxis\":{\"endlinecolor\":\"#2a3f5f\",\"gridcolor\":\"white\",\"linecolor\":\"white\",\"minorgridcolor\":\"white\",\"startlinecolor\":\"#2a3f5f\"},\"baxis\":{\"endlinecolor\":\"#2a3f5f\",\"gridcolor\":\"white\",\"linecolor\":\"white\",\"minorgridcolor\":\"white\",\"startlinecolor\":\"#2a3f5f\"},\"type\":\"carpet\"}],\"table\":[{\"cells\":{\"fill\":{\"color\":\"#EBF0F8\"},\"line\":{\"color\":\"white\"}},\"header\":{\"fill\":{\"color\":\"#C8D4E3\"},\"line\":{\"color\":\"white\"}},\"type\":\"table\"}],\"barpolar\":[{\"marker\":{\"line\":{\"color\":\"#E5ECF6\",\"width\":0.5},\"pattern\":{\"fillmode\":\"overlay\",\"size\":10,\"solidity\":0.2}},\"type\":\"barpolar\"}],\"pie\":[{\"automargin\":true,\"type\":\"pie\"}]},\"layout\":{\"autotypenumbers\":\"strict\",\"colorway\":[\"#636efa\",\"#EF553B\",\"#00cc96\",\"#ab63fa\",\"#FFA15A\",\"#19d3f3\",\"#FF6692\",\"#B6E880\",\"#FF97FF\",\"#FECB52\"],\"font\":{\"color\":\"#2a3f5f\"},\"hovermode\":\"closest\",\"hoverlabel\":{\"align\":\"left\"},\"paper_bgcolor\":\"white\",\"plot_bgcolor\":\"#E5ECF6\",\"polar\":{\"bgcolor\":\"#E5ECF6\",\"angularaxis\":{\"gridcolor\":\"white\",\"linecolor\":\"white\",\"ticks\":\"\"},\"radialaxis\":{\"gridcolor\":\"white\",\"linecolor\":\"white\",\"ticks\":\"\"}},\"ternary\":{\"bgcolor\":\"#E5ECF6\",\"aaxis\":{\"gridcolor\":\"white\",\"linecolor\":\"white\",\"ticks\":\"\"},\"baxis\":{\"gridcolor\":\"white\",\"linecolor\":\"white\",\"ticks\":\"\"},\"caxis\":{\"gridcolor\":\"white\",\"linecolor\":\"white\",\"ticks\":\"\"}},\"coloraxis\":{\"colorbar\":{\"outlinewidth\":0,\"ticks\":\"\"}},\"colorscale\":{\"sequential\":[[0.0,\"#0d0887\"],[0.1111111111111111,\"#46039f\"],[0.2222222222222222,\"#7201a8\"],[0.3333333333333333,\"#9c179e\"],[0.4444444444444444,\"#bd3786\"],[0.5555555555555556,\"#d8576b\"],[0.6666666666666666,\"#ed7953\"],[0.7777777777777778,\"#fb9f3a\"],[0.8888888888888888,\"#fdca26\"],[1.0,\"#f0f921\"]],\"sequentialminus\":[[0.0,\"#0d0887\"],[0.1111111111111111,\"#46039f\"],[0.2222222222222222,\"#7201a8\"],[0.3333333333333333,\"#9c179e\"],[0.4444444444444444,\"#bd3786\"],[0.5555555555555556,\"#d8576b\"],[0.6666666666666666,\"#ed7953\"],[0.7777777777777778,\"#fb9f3a\"],[0.8888888888888888,\"#fdca26\"],[1.0,\"#f0f921\"]],\"diverging\":[[0,\"#8e0152\"],[0.1,\"#c51b7d\"],[0.2,\"#de77ae\"],[0.3,\"#f1b6da\"],[0.4,\"#fde0ef\"],[0.5,\"#f7f7f7\"],[0.6,\"#e6f5d0\"],[0.7,\"#b8e186\"],[0.8,\"#7fbc41\"],[0.9,\"#4d9221\"],[1,\"#276419\"]]},\"xaxis\":{\"gridcolor\":\"white\",\"linecolor\":\"white\",\"ticks\":\"\",\"title\":{\"standoff\":15},\"zerolinecolor\":\"white\",\"automargin\":true,\"zerolinewidth\":2},\"yaxis\":{\"gridcolor\":\"white\",\"linecolor\":\"white\",\"ticks\":\"\",\"title\":{\"standoff\":15},\"zerolinecolor\":\"white\",\"automargin\":true,\"zerolinewidth\":2},\"scene\":{\"xaxis\":{\"backgroundcolor\":\"#E5ECF6\",\"gridcolor\":\"white\",\"linecolor\":\"white\",\"showbackground\":true,\"ticks\":\"\",\"zerolinecolor\":\"white\",\"gridwidth\":2},\"yaxis\":{\"backgroundcolor\":\"#E5ECF6\",\"gridcolor\":\"white\",\"linecolor\":\"white\",\"showbackground\":true,\"ticks\":\"\",\"zerolinecolor\":\"white\",\"gridwidth\":2},\"zaxis\":{\"backgroundcolor\":\"#E5ECF6\",\"gridcolor\":\"white\",\"linecolor\":\"white\",\"showbackground\":true,\"ticks\":\"\",\"zerolinecolor\":\"white\",\"gridwidth\":2}},\"shapedefaults\":{\"line\":{\"color\":\"#2a3f5f\"}},\"annotationdefaults\":{\"arrowcolor\":\"#2a3f5f\",\"arrowhead\":0,\"arrowwidth\":1},\"geo\":{\"bgcolor\":\"white\",\"landcolor\":\"#E5ECF6\",\"subunitcolor\":\"white\",\"showland\":true,\"showlakes\":true,\"lakecolor\":\"white\"},\"title\":{\"x\":0.05},\"mapbox\":{\"style\":\"light\"}}},\"title\":{\"text\":\"Persebaran Data pada Kolom driver dan merek\",\"xanchor\":\"auto\"}},                        {\"responsive\": true}                    ).then(function(){\n",
       "                            \n",
       "var gd = document.getElementById('3c2ea0ea-e725-424a-ab13-9fa2e1085a5f');\n",
       "var x = new MutationObserver(function (mutations, observer) {{\n",
       "        var display = window.getComputedStyle(gd).display;\n",
       "        if (!display || display === 'none') {{\n",
       "            console.log([gd, 'removed!']);\n",
       "            Plotly.purge(gd);\n",
       "            observer.disconnect();\n",
       "        }}\n",
       "}});\n",
       "\n",
       "// Listen for the removal of the full notebook cells\n",
       "var notebookContainer = gd.closest('#notebook-container');\n",
       "if (notebookContainer) {{\n",
       "    x.observe(notebookContainer, {childList: true});\n",
       "}}\n",
       "\n",
       "// Listen for the clearing of the current output cell\n",
       "var outputEl = gd.closest('.output');\n",
       "if (outputEl) {{\n",
       "    x.observe(outputEl, {childList: true});\n",
       "}}\n",
       "\n",
       "                        })                };                });            </script>        </div>"
      ]
     },
     "metadata": {},
     "output_type": "display_data"
    }
   ],
   "source": [
    "pie_bool(data)"
   ]
  },
  {
   "cell_type": "code",
   "execution_count": 84,
   "id": "174737e3",
   "metadata": {},
   "outputs": [
    {
     "data": {
      "application/vnd.plotly.v1+json": {
       "config": {
        "plotlyServerURL": "https://plot.ly"
       },
       "data": [
        {
         "domain": {
          "x": [
           0,
           0.45
          ],
          "y": [
           0,
           1
          ]
         },
         "hole": 0.55,
         "hoverinfo": "label+percent+name",
         "labels": [
          "Used",
          "Other",
          "New"
         ],
         "name": "penggunaan",
         "title": {
          "text": "penggunaan"
         },
         "type": "pie",
         "values": [
          8319,
          213
         ]
        },
        {
         "domain": {
          "x": [
           0.55,
           1
          ],
          "y": [
           0,
           1
          ]
         },
         "hole": 0.55,
         "hoverinfo": "label+percent+name",
         "labels": [
          "Other",
          "Gasoline",
          "Hybrid",
          "Diesel"
         ],
         "name": "jenis_bahan_bakar",
         "title": {
          "text": "jenis_bahan_bakar"
         },
         "type": "pie",
         "values": [
          7920,
          257,
          219,
          136
         ]
        }
       ],
       "layout": {
        "template": {
         "data": {
          "bar": [
           {
            "error_x": {
             "color": "#2a3f5f"
            },
            "error_y": {
             "color": "#2a3f5f"
            },
            "marker": {
             "line": {
              "color": "#E5ECF6",
              "width": 0.5
             },
             "pattern": {
              "fillmode": "overlay",
              "size": 10,
              "solidity": 0.2
             }
            },
            "type": "bar"
           }
          ],
          "barpolar": [
           {
            "marker": {
             "line": {
              "color": "#E5ECF6",
              "width": 0.5
             },
             "pattern": {
              "fillmode": "overlay",
              "size": 10,
              "solidity": 0.2
             }
            },
            "type": "barpolar"
           }
          ],
          "carpet": [
           {
            "aaxis": {
             "endlinecolor": "#2a3f5f",
             "gridcolor": "white",
             "linecolor": "white",
             "minorgridcolor": "white",
             "startlinecolor": "#2a3f5f"
            },
            "baxis": {
             "endlinecolor": "#2a3f5f",
             "gridcolor": "white",
             "linecolor": "white",
             "minorgridcolor": "white",
             "startlinecolor": "#2a3f5f"
            },
            "type": "carpet"
           }
          ],
          "choropleth": [
           {
            "colorbar": {
             "outlinewidth": 0,
             "ticks": ""
            },
            "type": "choropleth"
           }
          ],
          "contour": [
           {
            "colorbar": {
             "outlinewidth": 0,
             "ticks": ""
            },
            "colorscale": [
             [
              0,
              "#0d0887"
             ],
             [
              0.1111111111111111,
              "#46039f"
             ],
             [
              0.2222222222222222,
              "#7201a8"
             ],
             [
              0.3333333333333333,
              "#9c179e"
             ],
             [
              0.4444444444444444,
              "#bd3786"
             ],
             [
              0.5555555555555556,
              "#d8576b"
             ],
             [
              0.6666666666666666,
              "#ed7953"
             ],
             [
              0.7777777777777778,
              "#fb9f3a"
             ],
             [
              0.8888888888888888,
              "#fdca26"
             ],
             [
              1,
              "#f0f921"
             ]
            ],
            "type": "contour"
           }
          ],
          "contourcarpet": [
           {
            "colorbar": {
             "outlinewidth": 0,
             "ticks": ""
            },
            "type": "contourcarpet"
           }
          ],
          "heatmap": [
           {
            "colorbar": {
             "outlinewidth": 0,
             "ticks": ""
            },
            "colorscale": [
             [
              0,
              "#0d0887"
             ],
             [
              0.1111111111111111,
              "#46039f"
             ],
             [
              0.2222222222222222,
              "#7201a8"
             ],
             [
              0.3333333333333333,
              "#9c179e"
             ],
             [
              0.4444444444444444,
              "#bd3786"
             ],
             [
              0.5555555555555556,
              "#d8576b"
             ],
             [
              0.6666666666666666,
              "#ed7953"
             ],
             [
              0.7777777777777778,
              "#fb9f3a"
             ],
             [
              0.8888888888888888,
              "#fdca26"
             ],
             [
              1,
              "#f0f921"
             ]
            ],
            "type": "heatmap"
           }
          ],
          "heatmapgl": [
           {
            "colorbar": {
             "outlinewidth": 0,
             "ticks": ""
            },
            "colorscale": [
             [
              0,
              "#0d0887"
             ],
             [
              0.1111111111111111,
              "#46039f"
             ],
             [
              0.2222222222222222,
              "#7201a8"
             ],
             [
              0.3333333333333333,
              "#9c179e"
             ],
             [
              0.4444444444444444,
              "#bd3786"
             ],
             [
              0.5555555555555556,
              "#d8576b"
             ],
             [
              0.6666666666666666,
              "#ed7953"
             ],
             [
              0.7777777777777778,
              "#fb9f3a"
             ],
             [
              0.8888888888888888,
              "#fdca26"
             ],
             [
              1,
              "#f0f921"
             ]
            ],
            "type": "heatmapgl"
           }
          ],
          "histogram": [
           {
            "marker": {
             "pattern": {
              "fillmode": "overlay",
              "size": 10,
              "solidity": 0.2
             }
            },
            "type": "histogram"
           }
          ],
          "histogram2d": [
           {
            "colorbar": {
             "outlinewidth": 0,
             "ticks": ""
            },
            "colorscale": [
             [
              0,
              "#0d0887"
             ],
             [
              0.1111111111111111,
              "#46039f"
             ],
             [
              0.2222222222222222,
              "#7201a8"
             ],
             [
              0.3333333333333333,
              "#9c179e"
             ],
             [
              0.4444444444444444,
              "#bd3786"
             ],
             [
              0.5555555555555556,
              "#d8576b"
             ],
             [
              0.6666666666666666,
              "#ed7953"
             ],
             [
              0.7777777777777778,
              "#fb9f3a"
             ],
             [
              0.8888888888888888,
              "#fdca26"
             ],
             [
              1,
              "#f0f921"
             ]
            ],
            "type": "histogram2d"
           }
          ],
          "histogram2dcontour": [
           {
            "colorbar": {
             "outlinewidth": 0,
             "ticks": ""
            },
            "colorscale": [
             [
              0,
              "#0d0887"
             ],
             [
              0.1111111111111111,
              "#46039f"
             ],
             [
              0.2222222222222222,
              "#7201a8"
             ],
             [
              0.3333333333333333,
              "#9c179e"
             ],
             [
              0.4444444444444444,
              "#bd3786"
             ],
             [
              0.5555555555555556,
              "#d8576b"
             ],
             [
              0.6666666666666666,
              "#ed7953"
             ],
             [
              0.7777777777777778,
              "#fb9f3a"
             ],
             [
              0.8888888888888888,
              "#fdca26"
             ],
             [
              1,
              "#f0f921"
             ]
            ],
            "type": "histogram2dcontour"
           }
          ],
          "mesh3d": [
           {
            "colorbar": {
             "outlinewidth": 0,
             "ticks": ""
            },
            "type": "mesh3d"
           }
          ],
          "parcoords": [
           {
            "line": {
             "colorbar": {
              "outlinewidth": 0,
              "ticks": ""
             }
            },
            "type": "parcoords"
           }
          ],
          "pie": [
           {
            "automargin": true,
            "type": "pie"
           }
          ],
          "scatter": [
           {
            "fillpattern": {
             "fillmode": "overlay",
             "size": 10,
             "solidity": 0.2
            },
            "type": "scatter"
           }
          ],
          "scatter3d": [
           {
            "line": {
             "colorbar": {
              "outlinewidth": 0,
              "ticks": ""
             }
            },
            "marker": {
             "colorbar": {
              "outlinewidth": 0,
              "ticks": ""
             }
            },
            "type": "scatter3d"
           }
          ],
          "scattercarpet": [
           {
            "marker": {
             "colorbar": {
              "outlinewidth": 0,
              "ticks": ""
             }
            },
            "type": "scattercarpet"
           }
          ],
          "scattergeo": [
           {
            "marker": {
             "colorbar": {
              "outlinewidth": 0,
              "ticks": ""
             }
            },
            "type": "scattergeo"
           }
          ],
          "scattergl": [
           {
            "marker": {
             "colorbar": {
              "outlinewidth": 0,
              "ticks": ""
             }
            },
            "type": "scattergl"
           }
          ],
          "scattermapbox": [
           {
            "marker": {
             "colorbar": {
              "outlinewidth": 0,
              "ticks": ""
             }
            },
            "type": "scattermapbox"
           }
          ],
          "scatterpolar": [
           {
            "marker": {
             "colorbar": {
              "outlinewidth": 0,
              "ticks": ""
             }
            },
            "type": "scatterpolar"
           }
          ],
          "scatterpolargl": [
           {
            "marker": {
             "colorbar": {
              "outlinewidth": 0,
              "ticks": ""
             }
            },
            "type": "scatterpolargl"
           }
          ],
          "scatterternary": [
           {
            "marker": {
             "colorbar": {
              "outlinewidth": 0,
              "ticks": ""
             }
            },
            "type": "scatterternary"
           }
          ],
          "surface": [
           {
            "colorbar": {
             "outlinewidth": 0,
             "ticks": ""
            },
            "colorscale": [
             [
              0,
              "#0d0887"
             ],
             [
              0.1111111111111111,
              "#46039f"
             ],
             [
              0.2222222222222222,
              "#7201a8"
             ],
             [
              0.3333333333333333,
              "#9c179e"
             ],
             [
              0.4444444444444444,
              "#bd3786"
             ],
             [
              0.5555555555555556,
              "#d8576b"
             ],
             [
              0.6666666666666666,
              "#ed7953"
             ],
             [
              0.7777777777777778,
              "#fb9f3a"
             ],
             [
              0.8888888888888888,
              "#fdca26"
             ],
             [
              1,
              "#f0f921"
             ]
            ],
            "type": "surface"
           }
          ],
          "table": [
           {
            "cells": {
             "fill": {
              "color": "#EBF0F8"
             },
             "line": {
              "color": "white"
             }
            },
            "header": {
             "fill": {
              "color": "#C8D4E3"
             },
             "line": {
              "color": "white"
             }
            },
            "type": "table"
           }
          ]
         },
         "layout": {
          "annotationdefaults": {
           "arrowcolor": "#2a3f5f",
           "arrowhead": 0,
           "arrowwidth": 1
          },
          "autotypenumbers": "strict",
          "coloraxis": {
           "colorbar": {
            "outlinewidth": 0,
            "ticks": ""
           }
          },
          "colorscale": {
           "diverging": [
            [
             0,
             "#8e0152"
            ],
            [
             0.1,
             "#c51b7d"
            ],
            [
             0.2,
             "#de77ae"
            ],
            [
             0.3,
             "#f1b6da"
            ],
            [
             0.4,
             "#fde0ef"
            ],
            [
             0.5,
             "#f7f7f7"
            ],
            [
             0.6,
             "#e6f5d0"
            ],
            [
             0.7,
             "#b8e186"
            ],
            [
             0.8,
             "#7fbc41"
            ],
            [
             0.9,
             "#4d9221"
            ],
            [
             1,
             "#276419"
            ]
           ],
           "sequential": [
            [
             0,
             "#0d0887"
            ],
            [
             0.1111111111111111,
             "#46039f"
            ],
            [
             0.2222222222222222,
             "#7201a8"
            ],
            [
             0.3333333333333333,
             "#9c179e"
            ],
            [
             0.4444444444444444,
             "#bd3786"
            ],
            [
             0.5555555555555556,
             "#d8576b"
            ],
            [
             0.6666666666666666,
             "#ed7953"
            ],
            [
             0.7777777777777778,
             "#fb9f3a"
            ],
            [
             0.8888888888888888,
             "#fdca26"
            ],
            [
             1,
             "#f0f921"
            ]
           ],
           "sequentialminus": [
            [
             0,
             "#0d0887"
            ],
            [
             0.1111111111111111,
             "#46039f"
            ],
            [
             0.2222222222222222,
             "#7201a8"
            ],
            [
             0.3333333333333333,
             "#9c179e"
            ],
            [
             0.4444444444444444,
             "#bd3786"
            ],
            [
             0.5555555555555556,
             "#d8576b"
            ],
            [
             0.6666666666666666,
             "#ed7953"
            ],
            [
             0.7777777777777778,
             "#fb9f3a"
            ],
            [
             0.8888888888888888,
             "#fdca26"
            ],
            [
             1,
             "#f0f921"
            ]
           ]
          },
          "colorway": [
           "#636efa",
           "#EF553B",
           "#00cc96",
           "#ab63fa",
           "#FFA15A",
           "#19d3f3",
           "#FF6692",
           "#B6E880",
           "#FF97FF",
           "#FECB52"
          ],
          "font": {
           "color": "#2a3f5f"
          },
          "geo": {
           "bgcolor": "white",
           "lakecolor": "white",
           "landcolor": "#E5ECF6",
           "showlakes": true,
           "showland": true,
           "subunitcolor": "white"
          },
          "hoverlabel": {
           "align": "left"
          },
          "hovermode": "closest",
          "mapbox": {
           "style": "light"
          },
          "paper_bgcolor": "white",
          "plot_bgcolor": "#E5ECF6",
          "polar": {
           "angularaxis": {
            "gridcolor": "white",
            "linecolor": "white",
            "ticks": ""
           },
           "bgcolor": "#E5ECF6",
           "radialaxis": {
            "gridcolor": "white",
            "linecolor": "white",
            "ticks": ""
           }
          },
          "scene": {
           "xaxis": {
            "backgroundcolor": "#E5ECF6",
            "gridcolor": "white",
            "gridwidth": 2,
            "linecolor": "white",
            "showbackground": true,
            "ticks": "",
            "zerolinecolor": "white"
           },
           "yaxis": {
            "backgroundcolor": "#E5ECF6",
            "gridcolor": "white",
            "gridwidth": 2,
            "linecolor": "white",
            "showbackground": true,
            "ticks": "",
            "zerolinecolor": "white"
           },
           "zaxis": {
            "backgroundcolor": "#E5ECF6",
            "gridcolor": "white",
            "gridwidth": 2,
            "linecolor": "white",
            "showbackground": true,
            "ticks": "",
            "zerolinecolor": "white"
           }
          },
          "shapedefaults": {
           "line": {
            "color": "#2a3f5f"
           }
          },
          "ternary": {
           "aaxis": {
            "gridcolor": "white",
            "linecolor": "white",
            "ticks": ""
           },
           "baxis": {
            "gridcolor": "white",
            "linecolor": "white",
            "ticks": ""
           },
           "bgcolor": "#E5ECF6",
           "caxis": {
            "gridcolor": "white",
            "linecolor": "white",
            "ticks": ""
           }
          },
          "title": {
           "x": 0.05
          },
          "xaxis": {
           "automargin": true,
           "gridcolor": "white",
           "linecolor": "white",
           "ticks": "",
           "title": {
            "standoff": 15
           },
           "zerolinecolor": "white",
           "zerolinewidth": 2
          },
          "yaxis": {
           "automargin": true,
           "gridcolor": "white",
           "linecolor": "white",
           "ticks": "",
           "title": {
            "standoff": 15
           },
           "zerolinecolor": "white",
           "zerolinewidth": 2
          }
         }
        },
        "title": {
         "text": "Persebaran Data pada Kolom Penggunaan dan Jenis Bahan Bakar",
         "xanchor": "auto"
        }
       }
      },
      "text/html": [
       "<div>                            <div id=\"65e82bda-54d8-4506-90db-151eb600789f\" class=\"plotly-graph-div\" style=\"height:525px; width:100%;\"></div>            <script type=\"text/javascript\">                require([\"plotly\"], function(Plotly) {                    window.PLOTLYENV=window.PLOTLYENV || {};                                    if (document.getElementById(\"65e82bda-54d8-4506-90db-151eb600789f\")) {                    Plotly.newPlot(                        \"65e82bda-54d8-4506-90db-151eb600789f\",                        [{\"labels\":[\"Used\",\"Other\",\"New\"],\"name\":\"penggunaan\",\"title\":{\"text\":\"penggunaan\"},\"values\":[8319,213],\"type\":\"pie\",\"domain\":{\"x\":[0.0,0.45],\"y\":[0.0,1.0]},\"hole\":0.55,\"hoverinfo\":\"label+percent+name\"},{\"labels\":[\"Other\",\"Gasoline\",\"Hybrid\",\"Diesel\"],\"name\":\"jenis_bahan_bakar\",\"title\":{\"text\":\"jenis_bahan_bakar\"},\"values\":[7920,257,219,136],\"type\":\"pie\",\"domain\":{\"x\":[0.55,1.0],\"y\":[0.0,1.0]},\"hole\":0.55,\"hoverinfo\":\"label+percent+name\"}],                        {\"template\":{\"data\":{\"histogram2dcontour\":[{\"type\":\"histogram2dcontour\",\"colorbar\":{\"outlinewidth\":0,\"ticks\":\"\"},\"colorscale\":[[0.0,\"#0d0887\"],[0.1111111111111111,\"#46039f\"],[0.2222222222222222,\"#7201a8\"],[0.3333333333333333,\"#9c179e\"],[0.4444444444444444,\"#bd3786\"],[0.5555555555555556,\"#d8576b\"],[0.6666666666666666,\"#ed7953\"],[0.7777777777777778,\"#fb9f3a\"],[0.8888888888888888,\"#fdca26\"],[1.0,\"#f0f921\"]]}],\"choropleth\":[{\"type\":\"choropleth\",\"colorbar\":{\"outlinewidth\":0,\"ticks\":\"\"}}],\"histogram2d\":[{\"type\":\"histogram2d\",\"colorbar\":{\"outlinewidth\":0,\"ticks\":\"\"},\"colorscale\":[[0.0,\"#0d0887\"],[0.1111111111111111,\"#46039f\"],[0.2222222222222222,\"#7201a8\"],[0.3333333333333333,\"#9c179e\"],[0.4444444444444444,\"#bd3786\"],[0.5555555555555556,\"#d8576b\"],[0.6666666666666666,\"#ed7953\"],[0.7777777777777778,\"#fb9f3a\"],[0.8888888888888888,\"#fdca26\"],[1.0,\"#f0f921\"]]}],\"heatmap\":[{\"type\":\"heatmap\",\"colorbar\":{\"outlinewidth\":0,\"ticks\":\"\"},\"colorscale\":[[0.0,\"#0d0887\"],[0.1111111111111111,\"#46039f\"],[0.2222222222222222,\"#7201a8\"],[0.3333333333333333,\"#9c179e\"],[0.4444444444444444,\"#bd3786\"],[0.5555555555555556,\"#d8576b\"],[0.6666666666666666,\"#ed7953\"],[0.7777777777777778,\"#fb9f3a\"],[0.8888888888888888,\"#fdca26\"],[1.0,\"#f0f921\"]]}],\"heatmapgl\":[{\"type\":\"heatmapgl\",\"colorbar\":{\"outlinewidth\":0,\"ticks\":\"\"},\"colorscale\":[[0.0,\"#0d0887\"],[0.1111111111111111,\"#46039f\"],[0.2222222222222222,\"#7201a8\"],[0.3333333333333333,\"#9c179e\"],[0.4444444444444444,\"#bd3786\"],[0.5555555555555556,\"#d8576b\"],[0.6666666666666666,\"#ed7953\"],[0.7777777777777778,\"#fb9f3a\"],[0.8888888888888888,\"#fdca26\"],[1.0,\"#f0f921\"]]}],\"contourcarpet\":[{\"type\":\"contourcarpet\",\"colorbar\":{\"outlinewidth\":0,\"ticks\":\"\"}}],\"contour\":[{\"type\":\"contour\",\"colorbar\":{\"outlinewidth\":0,\"ticks\":\"\"},\"colorscale\":[[0.0,\"#0d0887\"],[0.1111111111111111,\"#46039f\"],[0.2222222222222222,\"#7201a8\"],[0.3333333333333333,\"#9c179e\"],[0.4444444444444444,\"#bd3786\"],[0.5555555555555556,\"#d8576b\"],[0.6666666666666666,\"#ed7953\"],[0.7777777777777778,\"#fb9f3a\"],[0.8888888888888888,\"#fdca26\"],[1.0,\"#f0f921\"]]}],\"surface\":[{\"type\":\"surface\",\"colorbar\":{\"outlinewidth\":0,\"ticks\":\"\"},\"colorscale\":[[0.0,\"#0d0887\"],[0.1111111111111111,\"#46039f\"],[0.2222222222222222,\"#7201a8\"],[0.3333333333333333,\"#9c179e\"],[0.4444444444444444,\"#bd3786\"],[0.5555555555555556,\"#d8576b\"],[0.6666666666666666,\"#ed7953\"],[0.7777777777777778,\"#fb9f3a\"],[0.8888888888888888,\"#fdca26\"],[1.0,\"#f0f921\"]]}],\"mesh3d\":[{\"type\":\"mesh3d\",\"colorbar\":{\"outlinewidth\":0,\"ticks\":\"\"}}],\"scatter\":[{\"fillpattern\":{\"fillmode\":\"overlay\",\"size\":10,\"solidity\":0.2},\"type\":\"scatter\"}],\"parcoords\":[{\"type\":\"parcoords\",\"line\":{\"colorbar\":{\"outlinewidth\":0,\"ticks\":\"\"}}}],\"scatterpolargl\":[{\"type\":\"scatterpolargl\",\"marker\":{\"colorbar\":{\"outlinewidth\":0,\"ticks\":\"\"}}}],\"bar\":[{\"error_x\":{\"color\":\"#2a3f5f\"},\"error_y\":{\"color\":\"#2a3f5f\"},\"marker\":{\"line\":{\"color\":\"#E5ECF6\",\"width\":0.5},\"pattern\":{\"fillmode\":\"overlay\",\"size\":10,\"solidity\":0.2}},\"type\":\"bar\"}],\"scattergeo\":[{\"type\":\"scattergeo\",\"marker\":{\"colorbar\":{\"outlinewidth\":0,\"ticks\":\"\"}}}],\"scatterpolar\":[{\"type\":\"scatterpolar\",\"marker\":{\"colorbar\":{\"outlinewidth\":0,\"ticks\":\"\"}}}],\"histogram\":[{\"marker\":{\"pattern\":{\"fillmode\":\"overlay\",\"size\":10,\"solidity\":0.2}},\"type\":\"histogram\"}],\"scattergl\":[{\"type\":\"scattergl\",\"marker\":{\"colorbar\":{\"outlinewidth\":0,\"ticks\":\"\"}}}],\"scatter3d\":[{\"type\":\"scatter3d\",\"line\":{\"colorbar\":{\"outlinewidth\":0,\"ticks\":\"\"}},\"marker\":{\"colorbar\":{\"outlinewidth\":0,\"ticks\":\"\"}}}],\"scattermapbox\":[{\"type\":\"scattermapbox\",\"marker\":{\"colorbar\":{\"outlinewidth\":0,\"ticks\":\"\"}}}],\"scatterternary\":[{\"type\":\"scatterternary\",\"marker\":{\"colorbar\":{\"outlinewidth\":0,\"ticks\":\"\"}}}],\"scattercarpet\":[{\"type\":\"scattercarpet\",\"marker\":{\"colorbar\":{\"outlinewidth\":0,\"ticks\":\"\"}}}],\"carpet\":[{\"aaxis\":{\"endlinecolor\":\"#2a3f5f\",\"gridcolor\":\"white\",\"linecolor\":\"white\",\"minorgridcolor\":\"white\",\"startlinecolor\":\"#2a3f5f\"},\"baxis\":{\"endlinecolor\":\"#2a3f5f\",\"gridcolor\":\"white\",\"linecolor\":\"white\",\"minorgridcolor\":\"white\",\"startlinecolor\":\"#2a3f5f\"},\"type\":\"carpet\"}],\"table\":[{\"cells\":{\"fill\":{\"color\":\"#EBF0F8\"},\"line\":{\"color\":\"white\"}},\"header\":{\"fill\":{\"color\":\"#C8D4E3\"},\"line\":{\"color\":\"white\"}},\"type\":\"table\"}],\"barpolar\":[{\"marker\":{\"line\":{\"color\":\"#E5ECF6\",\"width\":0.5},\"pattern\":{\"fillmode\":\"overlay\",\"size\":10,\"solidity\":0.2}},\"type\":\"barpolar\"}],\"pie\":[{\"automargin\":true,\"type\":\"pie\"}]},\"layout\":{\"autotypenumbers\":\"strict\",\"colorway\":[\"#636efa\",\"#EF553B\",\"#00cc96\",\"#ab63fa\",\"#FFA15A\",\"#19d3f3\",\"#FF6692\",\"#B6E880\",\"#FF97FF\",\"#FECB52\"],\"font\":{\"color\":\"#2a3f5f\"},\"hovermode\":\"closest\",\"hoverlabel\":{\"align\":\"left\"},\"paper_bgcolor\":\"white\",\"plot_bgcolor\":\"#E5ECF6\",\"polar\":{\"bgcolor\":\"#E5ECF6\",\"angularaxis\":{\"gridcolor\":\"white\",\"linecolor\":\"white\",\"ticks\":\"\"},\"radialaxis\":{\"gridcolor\":\"white\",\"linecolor\":\"white\",\"ticks\":\"\"}},\"ternary\":{\"bgcolor\":\"#E5ECF6\",\"aaxis\":{\"gridcolor\":\"white\",\"linecolor\":\"white\",\"ticks\":\"\"},\"baxis\":{\"gridcolor\":\"white\",\"linecolor\":\"white\",\"ticks\":\"\"},\"caxis\":{\"gridcolor\":\"white\",\"linecolor\":\"white\",\"ticks\":\"\"}},\"coloraxis\":{\"colorbar\":{\"outlinewidth\":0,\"ticks\":\"\"}},\"colorscale\":{\"sequential\":[[0.0,\"#0d0887\"],[0.1111111111111111,\"#46039f\"],[0.2222222222222222,\"#7201a8\"],[0.3333333333333333,\"#9c179e\"],[0.4444444444444444,\"#bd3786\"],[0.5555555555555556,\"#d8576b\"],[0.6666666666666666,\"#ed7953\"],[0.7777777777777778,\"#fb9f3a\"],[0.8888888888888888,\"#fdca26\"],[1.0,\"#f0f921\"]],\"sequentialminus\":[[0.0,\"#0d0887\"],[0.1111111111111111,\"#46039f\"],[0.2222222222222222,\"#7201a8\"],[0.3333333333333333,\"#9c179e\"],[0.4444444444444444,\"#bd3786\"],[0.5555555555555556,\"#d8576b\"],[0.6666666666666666,\"#ed7953\"],[0.7777777777777778,\"#fb9f3a\"],[0.8888888888888888,\"#fdca26\"],[1.0,\"#f0f921\"]],\"diverging\":[[0,\"#8e0152\"],[0.1,\"#c51b7d\"],[0.2,\"#de77ae\"],[0.3,\"#f1b6da\"],[0.4,\"#fde0ef\"],[0.5,\"#f7f7f7\"],[0.6,\"#e6f5d0\"],[0.7,\"#b8e186\"],[0.8,\"#7fbc41\"],[0.9,\"#4d9221\"],[1,\"#276419\"]]},\"xaxis\":{\"gridcolor\":\"white\",\"linecolor\":\"white\",\"ticks\":\"\",\"title\":{\"standoff\":15},\"zerolinecolor\":\"white\",\"automargin\":true,\"zerolinewidth\":2},\"yaxis\":{\"gridcolor\":\"white\",\"linecolor\":\"white\",\"ticks\":\"\",\"title\":{\"standoff\":15},\"zerolinecolor\":\"white\",\"automargin\":true,\"zerolinewidth\":2},\"scene\":{\"xaxis\":{\"backgroundcolor\":\"#E5ECF6\",\"gridcolor\":\"white\",\"linecolor\":\"white\",\"showbackground\":true,\"ticks\":\"\",\"zerolinecolor\":\"white\",\"gridwidth\":2},\"yaxis\":{\"backgroundcolor\":\"#E5ECF6\",\"gridcolor\":\"white\",\"linecolor\":\"white\",\"showbackground\":true,\"ticks\":\"\",\"zerolinecolor\":\"white\",\"gridwidth\":2},\"zaxis\":{\"backgroundcolor\":\"#E5ECF6\",\"gridcolor\":\"white\",\"linecolor\":\"white\",\"showbackground\":true,\"ticks\":\"\",\"zerolinecolor\":\"white\",\"gridwidth\":2}},\"shapedefaults\":{\"line\":{\"color\":\"#2a3f5f\"}},\"annotationdefaults\":{\"arrowcolor\":\"#2a3f5f\",\"arrowhead\":0,\"arrowwidth\":1},\"geo\":{\"bgcolor\":\"white\",\"landcolor\":\"#E5ECF6\",\"subunitcolor\":\"white\",\"showland\":true,\"showlakes\":true,\"lakecolor\":\"white\"},\"title\":{\"x\":0.05},\"mapbox\":{\"style\":\"light\"}}},\"title\":{\"text\":\"Persebaran Data pada Kolom Penggunaan dan Jenis Bahan Bakar\",\"xanchor\":\"auto\"}},                        {\"responsive\": true}                    ).then(function(){\n",
       "                            \n",
       "var gd = document.getElementById('65e82bda-54d8-4506-90db-151eb600789f');\n",
       "var x = new MutationObserver(function (mutations, observer) {{\n",
       "        var display = window.getComputedStyle(gd).display;\n",
       "        if (!display || display === 'none') {{\n",
       "            console.log([gd, 'removed!']);\n",
       "            Plotly.purge(gd);\n",
       "            observer.disconnect();\n",
       "        }}\n",
       "}});\n",
       "\n",
       "// Listen for the removal of the full notebook cells\n",
       "var notebookContainer = gd.closest('#notebook-container');\n",
       "if (notebookContainer) {{\n",
       "    x.observe(notebookContainer, {childList: true});\n",
       "}}\n",
       "\n",
       "// Listen for the clearing of the current output cell\n",
       "var outputEl = gd.closest('.output');\n",
       "if (outputEl) {{\n",
       "    x.observe(outputEl, {childList: true});\n",
       "}}\n",
       "\n",
       "                        })                };                });            </script>        </div>"
      ]
     },
     "metadata": {},
     "output_type": "display_data"
    }
   ],
   "source": [
    "def pie_bool(data):\n",
    "    \n",
    "    fig = make_subplots(rows=1, cols=2, specs=[[{'type':'domain'}, {'type':'domain'}]])\n",
    "     \n",
    "    penggunaan = ['Used', 'Other', 'New']\n",
    "    Jenis_bahan_bakar = ['Other', 'Gasoline', 'Hybrid', 'Diesel']\n",
    "\n",
    "    values = data['penggunaan'].value_counts().values\n",
    "    fig.add_trace(go.Pie(labels=penggunaan, values=values, name=\"penggunaan\", title=\"penggunaan\"),1, 1)\n",
    "\n",
    "    values = data['jenis_bahan_bakar'].value_counts().values\n",
    "    fig.add_trace(go.Pie(labels=Jenis_bahan_bakar, values=values, name=\"jenis_bahan_bakar\", title=\"jenis_bahan_bakar\"),1, 2)\n",
    "\n",
    "    fig.update_traces(hole=.55, hoverinfo=\"label+percent+name\")\n",
    "\n",
    "    fig.update_layout(title_text=\"Persebaran Data pada Kolom Penggunaan dan Jenis Bahan Bakar\", title_xanchor=\"auto\")\n",
    "    fig.show()\n",
    "pie_bool(data)"
   ]
  },
  {
   "cell_type": "markdown",
   "id": "212f8fa9",
   "metadata": {},
   "source": [
    "**Data Preparation**\n",
    "\n",
    "Melakukan seleksi fitur yaitu membagi data fitur dan data label\n",
    "Membagi dataset menjadi data training dan data testing**"
   ]
  },
  {
   "cell_type": "code",
   "execution_count": 40,
   "id": "f97588b5",
   "metadata": {},
   "outputs": [],
   "source": [
    "from sklearn.model_selection import train_test_split\n",
    "from sklearn.pipeline import Pipeline\n",
    "from sklearn.compose import ColumnTransformer\n",
    "from sklearn.preprocessing import OneHotEncoder\n",
    "import sklearn.metrics as metrics"
   ]
  },
  {
   "cell_type": "code",
   "execution_count": 41,
   "id": "93bdb0cf",
   "metadata": {},
   "outputs": [
    {
     "name": "stdout",
     "output_type": "stream",
     "text": [
      "<class 'pandas.core.frame.DataFrame'>\n",
      "Int64Index: 8532 entries, 953 to 175468\n",
      "Data columns (total 10 columns):\n",
      " #   Column             Non-Null Count  Dtype \n",
      "---  ------             --------------  ----- \n",
      " 0   penggunaan         8532 non-null   object\n",
      " 1   harga              8532 non-null   int32 \n",
      " 2   warna_luar         8532 non-null   object\n",
      " 3   warna_dalam        8532 non-null   object\n",
      " 4   driver             8532 non-null   object\n",
      " 5   jenis_bahan_bakar  8532 non-null   object\n",
      " 6   bagian_luar        8532 non-null   object\n",
      " 7   tempat_duduk       8532 non-null   object\n",
      " 8   merek              8532 non-null   object\n",
      " 9   mata_uang          8532 non-null   object\n",
      "dtypes: int32(1), object(9)\n",
      "memory usage: 699.9+ KB\n"
     ]
    }
   ],
   "source": [
    "data.info()"
   ]
  },
  {
   "cell_type": "markdown",
   "id": "90c0bae5",
   "metadata": {},
   "source": [
    "**Membagi dataset menjadi data latih dan data uji dengan prosentasi 85 : 15**"
   ]
  },
  {
   "cell_type": "code",
   "execution_count": 42,
   "id": "b74e0e87",
   "metadata": {},
   "outputs": [
    {
     "data": {
      "text/html": [
       "<div>\n",
       "<style scoped>\n",
       "    .dataframe tbody tr th:only-of-type {\n",
       "        vertical-align: middle;\n",
       "    }\n",
       "\n",
       "    .dataframe tbody tr th {\n",
       "        vertical-align: top;\n",
       "    }\n",
       "\n",
       "    .dataframe thead th {\n",
       "        text-align: right;\n",
       "    }\n",
       "</style>\n",
       "<table border=\"1\" class=\"dataframe\">\n",
       "  <thead>\n",
       "    <tr style=\"text-align: right;\">\n",
       "      <th></th>\n",
       "      <th>penggunaan</th>\n",
       "      <th>warna_luar</th>\n",
       "      <th>warna_dalam</th>\n",
       "      <th>driver</th>\n",
       "      <th>jenis_bahan_bakar</th>\n",
       "      <th>bagian_luar</th>\n",
       "      <th>tempat_duduk</th>\n",
       "      <th>merek</th>\n",
       "      <th>mata_uang</th>\n",
       "    </tr>\n",
       "  </thead>\n",
       "  <tbody>\n",
       "    <tr>\n",
       "      <th>953</th>\n",
       "      <td>Used</td>\n",
       "      <td>Liquid Carbon Metallic</td>\n",
       "      <td>Other</td>\n",
       "      <td>Awd</td>\n",
       "      <td>Gasoline</td>\n",
       "      <td>Alloy WheelsSunroof/Moonroof</td>\n",
       "      <td>Other</td>\n",
       "      <td>Acura</td>\n",
       "      <td>$</td>\n",
       "    </tr>\n",
       "    <tr>\n",
       "      <th>954</th>\n",
       "      <td>Used</td>\n",
       "      <td>Liquid Carbon Metallic</td>\n",
       "      <td>Red</td>\n",
       "      <td>Awd</td>\n",
       "      <td>Gasoline</td>\n",
       "      <td>Alloy WheelsSunroof/Moonroof</td>\n",
       "      <td>Other</td>\n",
       "      <td>Acura</td>\n",
       "      <td>$</td>\n",
       "    </tr>\n",
       "    <tr>\n",
       "      <th>955</th>\n",
       "      <td>Other</td>\n",
       "      <td>Other</td>\n",
       "      <td>Other</td>\n",
       "      <td>Awd</td>\n",
       "      <td>Gasoline</td>\n",
       "      <td>Alloy WheelsSunroof/Moonroof</td>\n",
       "      <td>Other</td>\n",
       "      <td>Acura</td>\n",
       "      <td>$</td>\n",
       "    </tr>\n",
       "    <tr>\n",
       "      <th>956</th>\n",
       "      <td>Used</td>\n",
       "      <td>Other</td>\n",
       "      <td>Ebony</td>\n",
       "      <td>Awd</td>\n",
       "      <td>Gasoline</td>\n",
       "      <td>Alloy WheelsSunroof/Moonroof</td>\n",
       "      <td>Other</td>\n",
       "      <td>Acura</td>\n",
       "      <td>$</td>\n",
       "    </tr>\n",
       "    <tr>\n",
       "      <th>957</th>\n",
       "      <td>Used</td>\n",
       "      <td>Other</td>\n",
       "      <td>Other</td>\n",
       "      <td>Awd</td>\n",
       "      <td>Gasoline</td>\n",
       "      <td>Alloy Wheels</td>\n",
       "      <td>Other</td>\n",
       "      <td>Acura</td>\n",
       "      <td>$</td>\n",
       "    </tr>\n",
       "  </tbody>\n",
       "</table>\n",
       "</div>"
      ],
      "text/plain": [
       "    penggunaan              warna_luar warna_dalam driver jenis_bahan_bakar  \\\n",
       "953       Used  Liquid Carbon Metallic       Other    Awd          Gasoline   \n",
       "954       Used  Liquid Carbon Metallic        Red     Awd          Gasoline   \n",
       "955      Other                   Other       Other    Awd          Gasoline   \n",
       "956       Used                   Other      Ebony     Awd          Gasoline   \n",
       "957       Used                   Other       Other    Awd          Gasoline   \n",
       "\n",
       "                          bagian_luar tempat_duduk  merek mata_uang  \n",
       "953    Alloy WheelsSunroof/Moonroof          Other  Acura         $  \n",
       "954    Alloy WheelsSunroof/Moonroof          Other  Acura         $  \n",
       "955    Alloy WheelsSunroof/Moonroof          Other  Acura         $  \n",
       "956    Alloy WheelsSunroof/Moonroof          Other  Acura         $  \n",
       "957                    Alloy Wheels          Other  Acura         $  "
      ]
     },
     "execution_count": 42,
     "metadata": {},
     "output_type": "execute_result"
    }
   ],
   "source": [
    "#Split Train and Test Set\n",
    "X = data.drop(columns=['harga'])\n",
    "y = np.log(data['harga'])\n",
    "\n",
    "X_train, X_test, y_train, y_test = train_test_split(X, y, test_size=0.15, random_state=0)\n",
    "X.head()"
   ]
  },
  {
   "cell_type": "code",
   "execution_count": 43,
   "id": "15295462",
   "metadata": {},
   "outputs": [
    {
     "data": {
      "text/plain": [
       "((7252, 9), (1280, 9))"
      ]
     },
     "execution_count": 43,
     "metadata": {},
     "output_type": "execute_result"
    }
   ],
   "source": [
    "X_train.shape, X_test.shape"
   ]
  },
  {
   "cell_type": "markdown",
   "id": "c5ca6cd0",
   "metadata": {},
   "source": [
    "## **Membangun Model**\n",
    "\n",
    "* Memprediksi algoritma dengan performa terbaik menggunakan LazyPredict\n",
    "* Membuat pipeline untuk memudahkan proses preprocessing model\n",
    "*\tMenggunakan ColumnTransformer untuk menggabungkan pipeline data numerik dan data kategorik\n",
    "* Memilih 3 (tiga) algoritma dengan performa terbaik untuk di evaluasi\n",
    "* Menambahkan parameter tunning pada 3 algoritma yang dipilih"
   ]
  },
  {
   "cell_type": "code",
   "execution_count": 44,
   "id": "cf412c8b",
   "metadata": {
    "scrolled": true
   },
   "outputs": [
    {
     "name": "stdout",
     "output_type": "stream",
     "text": [
      "Requirement already satisfied: lazypredict in c:\\users\\hp\\anaconda3\\lib\\site-packages (0.2.12)\n",
      "Requirement already satisfied: scikit-learn in c:\\users\\hp\\anaconda3\\lib\\site-packages (from lazypredict) (1.0.2)\n",
      "Requirement already satisfied: joblib in c:\\users\\hp\\anaconda3\\lib\\site-packages (from lazypredict) (1.1.0)\n",
      "Requirement already satisfied: pandas in c:\\users\\hp\\anaconda3\\lib\\site-packages (from lazypredict) (1.4.4)\n",
      "Requirement already satisfied: xgboost in c:\\users\\hp\\anaconda3\\lib\\site-packages (from lazypredict) (1.7.6)\n",
      "Requirement already satisfied: lightgbm in c:\\users\\hp\\anaconda3\\lib\\site-packages (from lazypredict) (3.3.5)\n",
      "Requirement already satisfied: click in c:\\users\\hp\\anaconda3\\lib\\site-packages (from lazypredict) (8.0.4)\n",
      "Requirement already satisfied: tqdm in c:\\users\\hp\\anaconda3\\lib\\site-packages (from lazypredict) (4.64.1)\n",
      "Requirement already satisfied: colorama in c:\\users\\hp\\anaconda3\\lib\\site-packages (from click->lazypredict) (0.4.5)\n",
      "Requirement already satisfied: numpy in c:\\users\\hp\\anaconda3\\lib\\site-packages (from lightgbm->lazypredict) (1.21.5)\n",
      "Requirement already satisfied: wheel in c:\\users\\hp\\anaconda3\\lib\\site-packages (from lightgbm->lazypredict) (0.37.1)\n",
      "Requirement already satisfied: scipy in c:\\users\\hp\\anaconda3\\lib\\site-packages (from lightgbm->lazypredict) (1.9.1)\n",
      "Requirement already satisfied: threadpoolctl>=2.0.0 in c:\\users\\hp\\anaconda3\\lib\\site-packages (from scikit-learn->lazypredict) (2.2.0)\n",
      "Requirement already satisfied: python-dateutil>=2.8.1 in c:\\users\\hp\\anaconda3\\lib\\site-packages (from pandas->lazypredict) (2.8.2)\n",
      "Requirement already satisfied: pytz>=2020.1 in c:\\users\\hp\\anaconda3\\lib\\site-packages (from pandas->lazypredict) (2022.1)\n",
      "Requirement already satisfied: six>=1.5 in c:\\users\\hp\\anaconda3\\lib\\site-packages (from python-dateutil>=2.8.1->pandas->lazypredict) (1.16.0)\n"
     ]
    }
   ],
   "source": [
    "!pip install lazypredict"
   ]
  },
  {
   "cell_type": "code",
   "execution_count": null,
   "id": "390691e9",
   "metadata": {
    "scrolled": true
   },
   "outputs": [
    {
     "name": "stderr",
     "output_type": "stream",
     "text": [
      " 74%|████████████████████████████████████████████████████████████▌                     | 31/42 [00:54<00:09,  1.12it/s]"
     ]
    }
   ],
   "source": [
    "from lazypredict.Supervised import LazyRegressor\n",
    "reg = LazyRegressor(verbose=0,ignore_warnings=False, custom_metric=None )\n",
    "models, predictions = reg.fit(X_train, X_test, y_train, y_test)\n",
    "models"
   ]
  },
  {
   "cell_type": "code",
   "execution_count": 45,
   "id": "e0a1c6fa",
   "metadata": {},
   "outputs": [],
   "source": [
    "from sklearn.ensemble import HistGradientBoostingRegressor\n",
    "from lightgbm import LGBMRegressor\n",
    "from sklearn.svm import NuSVR"
   ]
  },
  {
   "cell_type": "code",
   "execution_count": 47,
   "id": "7cb55ba4",
   "metadata": {},
   "outputs": [
    {
     "name": "stdout",
     "output_type": "stream",
     "text": [
      "953       1\n",
      "954       1\n",
      "955       0\n",
      "956       1\n",
      "957       1\n",
      "         ..\n",
      "175439    1\n",
      "175446    1\n",
      "175451    1\n",
      "175461    1\n",
      "175468    1\n",
      "Name: penggunaan, Length: 8532, dtype: int32\n",
      "953       0\n",
      "954       0\n",
      "955       2\n",
      "956       2\n",
      "957       2\n",
      "         ..\n",
      "175439    2\n",
      "175446    2\n",
      "175451    2\n",
      "175461    2\n",
      "175468    2\n",
      "Name: warna_luar, Length: 8532, dtype: int32\n",
      "953       1\n",
      "954       2\n",
      "955       1\n",
      "956       0\n",
      "957       1\n",
      "         ..\n",
      "175439    1\n",
      "175446    1\n",
      "175451    1\n",
      "175461    1\n",
      "175468    1\n",
      "Name: warna_dalam, Length: 8532, dtype: int32\n",
      "953       0\n",
      "954       0\n",
      "955       0\n",
      "956       0\n",
      "957       0\n",
      "         ..\n",
      "175439    0\n",
      "175446    0\n",
      "175451    0\n",
      "175461    0\n",
      "175468    0\n",
      "Name: driver, Length: 8532, dtype: int32\n",
      "953       1\n",
      "954       1\n",
      "955       1\n",
      "956       1\n",
      "957       1\n",
      "         ..\n",
      "175439    1\n",
      "175446    1\n",
      "175451    1\n",
      "175461    1\n",
      "175468    1\n",
      "Name: jenis_bahan_bakar, Length: 8532, dtype: int32\n",
      "953       0\n",
      "954       0\n",
      "955       0\n",
      "956       0\n",
      "957       0\n",
      "         ..\n",
      "175439    7\n",
      "175446    7\n",
      "175451    7\n",
      "175461    7\n",
      "175468    7\n",
      "Name: merek, Length: 8532, dtype: int32\n",
      "953       0\n",
      "954       0\n",
      "955       0\n",
      "956       0\n",
      "957       0\n",
      "         ..\n",
      "175439    0\n",
      "175446    0\n",
      "175451    0\n",
      "175461    0\n",
      "175468    0\n",
      "Name: mata_uang, Length: 8532, dtype: int32\n"
     ]
    },
    {
     "data": {
      "text/html": [
       "<div>\n",
       "<style scoped>\n",
       "    .dataframe tbody tr th:only-of-type {\n",
       "        vertical-align: middle;\n",
       "    }\n",
       "\n",
       "    .dataframe tbody tr th {\n",
       "        vertical-align: top;\n",
       "    }\n",
       "\n",
       "    .dataframe thead th {\n",
       "        text-align: right;\n",
       "    }\n",
       "</style>\n",
       "<table border=\"1\" class=\"dataframe\">\n",
       "  <thead>\n",
       "    <tr style=\"text-align: right;\">\n",
       "      <th></th>\n",
       "      <th>penggunaan</th>\n",
       "      <th>harga</th>\n",
       "      <th>warna_luar</th>\n",
       "      <th>warna_dalam</th>\n",
       "      <th>driver</th>\n",
       "      <th>jenis_bahan_bakar</th>\n",
       "      <th>bagian_luar</th>\n",
       "      <th>tempat_duduk</th>\n",
       "      <th>merek</th>\n",
       "      <th>mata_uang</th>\n",
       "    </tr>\n",
       "  </thead>\n",
       "  <tbody>\n",
       "    <tr>\n",
       "      <th>953</th>\n",
       "      <td>1</td>\n",
       "      <td>47995</td>\n",
       "      <td>0</td>\n",
       "      <td>1</td>\n",
       "      <td>0</td>\n",
       "      <td>1</td>\n",
       "      <td>Alloy WheelsSunroof/Moonroof</td>\n",
       "      <td>Other</td>\n",
       "      <td>0</td>\n",
       "      <td>0</td>\n",
       "    </tr>\n",
       "    <tr>\n",
       "      <th>954</th>\n",
       "      <td>1</td>\n",
       "      <td>51997</td>\n",
       "      <td>0</td>\n",
       "      <td>2</td>\n",
       "      <td>0</td>\n",
       "      <td>1</td>\n",
       "      <td>Alloy WheelsSunroof/Moonroof</td>\n",
       "      <td>Other</td>\n",
       "      <td>0</td>\n",
       "      <td>0</td>\n",
       "    </tr>\n",
       "    <tr>\n",
       "      <th>955</th>\n",
       "      <td>0</td>\n",
       "      <td>49983</td>\n",
       "      <td>2</td>\n",
       "      <td>1</td>\n",
       "      <td>0</td>\n",
       "      <td>1</td>\n",
       "      <td>Alloy WheelsSunroof/Moonroof</td>\n",
       "      <td>Other</td>\n",
       "      <td>0</td>\n",
       "      <td>0</td>\n",
       "    </tr>\n",
       "    <tr>\n",
       "      <th>956</th>\n",
       "      <td>1</td>\n",
       "      <td>52997</td>\n",
       "      <td>2</td>\n",
       "      <td>0</td>\n",
       "      <td>0</td>\n",
       "      <td>1</td>\n",
       "      <td>Alloy WheelsSunroof/Moonroof</td>\n",
       "      <td>Other</td>\n",
       "      <td>0</td>\n",
       "      <td>0</td>\n",
       "    </tr>\n",
       "    <tr>\n",
       "      <th>957</th>\n",
       "      <td>1</td>\n",
       "      <td>52998</td>\n",
       "      <td>2</td>\n",
       "      <td>1</td>\n",
       "      <td>0</td>\n",
       "      <td>1</td>\n",
       "      <td>Alloy Wheels</td>\n",
       "      <td>Other</td>\n",
       "      <td>0</td>\n",
       "      <td>0</td>\n",
       "    </tr>\n",
       "  </tbody>\n",
       "</table>\n",
       "</div>"
      ],
      "text/plain": [
       "     penggunaan  harga  warna_luar  warna_dalam  driver  jenis_bahan_bakar  \\\n",
       "953           1  47995           0            1       0                  1   \n",
       "954           1  51997           0            2       0                  1   \n",
       "955           0  49983           2            1       0                  1   \n",
       "956           1  52997           2            0       0                  1   \n",
       "957           1  52998           2            1       0                  1   \n",
       "\n",
       "                          bagian_luar tempat_duduk  merek  mata_uang  \n",
       "953    Alloy WheelsSunroof/Moonroof          Other      0          0  \n",
       "954    Alloy WheelsSunroof/Moonroof          Other      0          0  \n",
       "955    Alloy WheelsSunroof/Moonroof          Other      0          0  \n",
       "956    Alloy WheelsSunroof/Moonroof          Other      0          0  \n",
       "957                    Alloy Wheels          Other      0          0  "
      ]
     },
     "execution_count": 47,
     "metadata": {},
     "output_type": "execute_result"
    }
   ],
   "source": [
    "from sklearn.preprocessing import LabelEncoder\n",
    "\n",
    "# Menggunakan LabelEncoder untuk mengubah nilai kategori menjadi bilangan bulat\n",
    "label_encoder = LabelEncoder()\n",
    "data['penggunaan'] = label_encoder.fit_transform(data['penggunaan'])\n",
    "data['warna_luar'] = label_encoder.fit_transform(data['warna_luar'])\n",
    "data['warna_dalam'] = label_encoder.fit_transform(data['warna_dalam'])\n",
    "data['driver'] = label_encoder.fit_transform(data['driver'])\n",
    "data['jenis_bahan_bakar'] = label_encoder.fit_transform(data['jenis_bahan_bakar'])\n",
    "data['merek'] = label_encoder.fit_transform(data['merek'])\n",
    "data['mata_uang'] = label_encoder.fit_transform(data['mata_uang'])\n",
    "\n",
    "# Cetak data setelah diubah\n",
    "print(data['penggunaan'])\n",
    "print(data['warna_luar'])\n",
    "print(data['warna_dalam'])\n",
    "print(data['driver'])\n",
    "print(data['jenis_bahan_bakar'])\n",
    "print(data['merek'])\n",
    "print(data['mata_uang'])\n",
    "\n",
    "data.head()"
   ]
  },
  {
   "cell_type": "code",
   "execution_count": 48,
   "id": "cf6f5e71",
   "metadata": {},
   "outputs": [
    {
     "data": {
      "text/html": [
       "<div>\n",
       "<style scoped>\n",
       "    .dataframe tbody tr th:only-of-type {\n",
       "        vertical-align: middle;\n",
       "    }\n",
       "\n",
       "    .dataframe tbody tr th {\n",
       "        vertical-align: top;\n",
       "    }\n",
       "\n",
       "    .dataframe thead th {\n",
       "        text-align: right;\n",
       "    }\n",
       "</style>\n",
       "<table border=\"1\" class=\"dataframe\">\n",
       "  <thead>\n",
       "    <tr style=\"text-align: right;\">\n",
       "      <th></th>\n",
       "      <th>penggunaan</th>\n",
       "      <th>harga</th>\n",
       "      <th>warna_luar</th>\n",
       "      <th>warna_dalam</th>\n",
       "      <th>driver</th>\n",
       "      <th>jenis_bahan_bakar</th>\n",
       "      <th>merek</th>\n",
       "      <th>mata_uang</th>\n",
       "    </tr>\n",
       "  </thead>\n",
       "  <tbody>\n",
       "    <tr>\n",
       "      <th>953</th>\n",
       "      <td>1</td>\n",
       "      <td>47995</td>\n",
       "      <td>0</td>\n",
       "      <td>1</td>\n",
       "      <td>0</td>\n",
       "      <td>1</td>\n",
       "      <td>0</td>\n",
       "      <td>0</td>\n",
       "    </tr>\n",
       "    <tr>\n",
       "      <th>954</th>\n",
       "      <td>1</td>\n",
       "      <td>51997</td>\n",
       "      <td>0</td>\n",
       "      <td>2</td>\n",
       "      <td>0</td>\n",
       "      <td>1</td>\n",
       "      <td>0</td>\n",
       "      <td>0</td>\n",
       "    </tr>\n",
       "    <tr>\n",
       "      <th>955</th>\n",
       "      <td>0</td>\n",
       "      <td>49983</td>\n",
       "      <td>2</td>\n",
       "      <td>1</td>\n",
       "      <td>0</td>\n",
       "      <td>1</td>\n",
       "      <td>0</td>\n",
       "      <td>0</td>\n",
       "    </tr>\n",
       "    <tr>\n",
       "      <th>956</th>\n",
       "      <td>1</td>\n",
       "      <td>52997</td>\n",
       "      <td>2</td>\n",
       "      <td>0</td>\n",
       "      <td>0</td>\n",
       "      <td>1</td>\n",
       "      <td>0</td>\n",
       "      <td>0</td>\n",
       "    </tr>\n",
       "    <tr>\n",
       "      <th>957</th>\n",
       "      <td>1</td>\n",
       "      <td>52998</td>\n",
       "      <td>2</td>\n",
       "      <td>1</td>\n",
       "      <td>0</td>\n",
       "      <td>1</td>\n",
       "      <td>0</td>\n",
       "      <td>0</td>\n",
       "    </tr>\n",
       "  </tbody>\n",
       "</table>\n",
       "</div>"
      ],
      "text/plain": [
       "     penggunaan  harga  warna_luar  warna_dalam  driver  jenis_bahan_bakar  \\\n",
       "953           1  47995           0            1       0                  1   \n",
       "954           1  51997           0            2       0                  1   \n",
       "955           0  49983           2            1       0                  1   \n",
       "956           1  52997           2            0       0                  1   \n",
       "957           1  52998           2            1       0                  1   \n",
       "\n",
       "     merek  mata_uang  \n",
       "953      0          0  \n",
       "954      0          0  \n",
       "955      0          0  \n",
       "956      0          0  \n",
       "957      0          0  "
      ]
     },
     "execution_count": 48,
     "metadata": {},
     "output_type": "execute_result"
    }
   ],
   "source": [
    "X = data.drop(columns=['bagian_luar', 'tempat_duduk'])\n",
    "y = np.log(data['harga'])\n",
    "\n",
    "X_train, X_test, y_train, y_test = train_test_split(X, y, test_size=0.15, random_state=0)\n",
    "X.head()"
   ]
  },
  {
   "cell_type": "code",
   "execution_count": 49,
   "id": "1c377276",
   "metadata": {},
   "outputs": [],
   "source": [
    "data = data.drop('bagian_luar', axis=1)\n",
    "data = data.drop('tempat_duduk', axis=1)"
   ]
  },
  {
   "cell_type": "markdown",
   "id": "abc67a23",
   "metadata": {},
   "source": [
    "**Mencari Hyperparameter Algoritma HistGradientBoostingRegressor"
   ]
  },
  {
   "cell_type": "code",
   "execution_count": 56,
   "id": "f46e96b9",
   "metadata": {},
   "outputs": [
    {
     "data": {
      "text/html": [
       "<style>#sk-container-id-3 {color: black;}#sk-container-id-3 pre{padding: 0;}#sk-container-id-3 div.sk-toggleable {background-color: white;}#sk-container-id-3 label.sk-toggleable__label {cursor: pointer;display: block;width: 100%;margin-bottom: 0;padding: 0.3em;box-sizing: border-box;text-align: center;}#sk-container-id-3 label.sk-toggleable__label-arrow:before {content: \"▸\";float: left;margin-right: 0.25em;color: #696969;}#sk-container-id-3 label.sk-toggleable__label-arrow:hover:before {color: black;}#sk-container-id-3 div.sk-estimator:hover label.sk-toggleable__label-arrow:before {color: black;}#sk-container-id-3 div.sk-toggleable__content {max-height: 0;max-width: 0;overflow: hidden;text-align: left;background-color: #f0f8ff;}#sk-container-id-3 div.sk-toggleable__content pre {margin: 0.2em;color: black;border-radius: 0.25em;background-color: #f0f8ff;}#sk-container-id-3 input.sk-toggleable__control:checked~div.sk-toggleable__content {max-height: 200px;max-width: 100%;overflow: auto;}#sk-container-id-3 input.sk-toggleable__control:checked~label.sk-toggleable__label-arrow:before {content: \"▾\";}#sk-container-id-3 div.sk-estimator input.sk-toggleable__control:checked~label.sk-toggleable__label {background-color: #d4ebff;}#sk-container-id-3 div.sk-label input.sk-toggleable__control:checked~label.sk-toggleable__label {background-color: #d4ebff;}#sk-container-id-3 input.sk-hidden--visually {border: 0;clip: rect(1px 1px 1px 1px);clip: rect(1px, 1px, 1px, 1px);height: 1px;margin: -1px;overflow: hidden;padding: 0;position: absolute;width: 1px;}#sk-container-id-3 div.sk-estimator {font-family: monospace;background-color: #f0f8ff;border: 1px dotted black;border-radius: 0.25em;box-sizing: border-box;margin-bottom: 0.5em;}#sk-container-id-3 div.sk-estimator:hover {background-color: #d4ebff;}#sk-container-id-3 div.sk-parallel-item::after {content: \"\";width: 100%;border-bottom: 1px solid gray;flex-grow: 1;}#sk-container-id-3 div.sk-label:hover label.sk-toggleable__label {background-color: #d4ebff;}#sk-container-id-3 div.sk-serial::before {content: \"\";position: absolute;border-left: 1px solid gray;box-sizing: border-box;top: 0;bottom: 0;left: 50%;z-index: 0;}#sk-container-id-3 div.sk-serial {display: flex;flex-direction: column;align-items: center;background-color: white;padding-right: 0.2em;padding-left: 0.2em;position: relative;}#sk-container-id-3 div.sk-item {position: relative;z-index: 1;}#sk-container-id-3 div.sk-parallel {display: flex;align-items: stretch;justify-content: center;background-color: white;position: relative;}#sk-container-id-3 div.sk-item::before, #sk-container-id-3 div.sk-parallel-item::before {content: \"\";position: absolute;border-left: 1px solid gray;box-sizing: border-box;top: 0;bottom: 0;left: 50%;z-index: -1;}#sk-container-id-3 div.sk-parallel-item {display: flex;flex-direction: column;z-index: 1;position: relative;background-color: white;}#sk-container-id-3 div.sk-parallel-item:first-child::after {align-self: flex-end;width: 50%;}#sk-container-id-3 div.sk-parallel-item:last-child::after {align-self: flex-start;width: 50%;}#sk-container-id-3 div.sk-parallel-item:only-child::after {width: 0;}#sk-container-id-3 div.sk-dashed-wrapped {border: 1px dashed gray;margin: 0 0.4em 0.5em 0.4em;box-sizing: border-box;padding-bottom: 0.4em;background-color: white;}#sk-container-id-3 div.sk-label label {font-family: monospace;font-weight: bold;display: inline-block;line-height: 1.2em;}#sk-container-id-3 div.sk-label-container {text-align: center;}#sk-container-id-3 div.sk-container {/* jupyter's `normalize.less` sets `[hidden] { display: none; }` but bootstrap.min.css set `[hidden] { display: none !important; }` so we also need the `!important` here to be able to override the default hidden behavior on the sphinx rendered scikit-learn.org. See: https://github.com/scikit-learn/scikit-learn/issues/21755 */display: inline-block !important;position: relative;}#sk-container-id-3 div.sk-text-repr-fallback {display: none;}</style><div id=\"sk-container-id-3\" class=\"sk-top-container\"><div class=\"sk-text-repr-fallback\"><pre>LGBMRegressor(max_depth=3)</pre><b>In a Jupyter environment, please rerun this cell to show the HTML representation or trust the notebook. <br />On GitHub, the HTML representation is unable to render, please try loading this page with nbviewer.org.</b></div><div class=\"sk-container\" hidden><div class=\"sk-item\"><div class=\"sk-estimator sk-toggleable\"><input class=\"sk-toggleable__control sk-hidden--visually\" id=\"sk-estimator-id-9\" type=\"checkbox\" checked><label for=\"sk-estimator-id-9\" class=\"sk-toggleable__label sk-toggleable__label-arrow\">LGBMRegressor</label><div class=\"sk-toggleable__content\"><pre>LGBMRegressor(max_depth=3)</pre></div></div></div></div></div>"
      ],
      "text/plain": [
       "LGBMRegressor(max_depth=3)"
      ]
     },
     "execution_count": 56,
     "metadata": {},
     "output_type": "execute_result"
    }
   ],
   "source": [
    "import pandas as pd\n",
    "from lightgbm import LGBMRegressor\n",
    "\n",
    "# Menggunakan LabelEncoder untuk mengubah data kategorikal menjadi numerik\n",
    "label_encoder = LabelEncoder()\n",
    "data['penggunaan'] = label_encoder.fit_transform(data['penggunaan'])\n",
    "\n",
    "# Memisahkan fitur (X) dan target (y)\n",
    "X = data.drop('harga', axis=1)\n",
    "y = data['harga']\n",
    "\n",
    "# Memisahkan data menjadi data latih dan data uji\n",
    "X_train, X_test, y_train, y_test = train_test_split(X, y, test_size=0.2, random_state=42)\n",
    "\n",
    "# Mendefinisikan model LGBMRegressor dengan hyperparameter awal\n",
    "model = LGBMRegressor(learning_rate=0.1, n_estimators=100, max_depth=3, num_leaves=31)\n",
    "\n",
    "# Melatih model dengan data latih\n",
    "model.fit(X_train, y_train)"
   ]
  },
  {
   "cell_type": "markdown",
   "id": "a771bfdf",
   "metadata": {},
   "source": [
    "***Mencari hyperparameter Algoritma LGBMRegressor*"
   ]
  },
  {
   "cell_type": "code",
   "execution_count": 51,
   "id": "4617c8e1",
   "metadata": {},
   "outputs": [
    {
     "name": "stdout",
     "output_type": "stream",
     "text": [
      "MSE: 242211796.55372512\n",
      "Hyperparameters:\n",
      "Learning Rate: 0.1\n",
      "Number of Estimators: 100\n",
      "Max Depth: 3\n",
      "Number of Leaves: 31\n"
     ]
    }
   ],
   "source": [
    "import pandas as pd\n",
    "from lightgbm import LGBMRegressor\n",
    "from sklearn.metrics import mean_squared_error\n",
    "from sklearn.preprocessing import LabelEncoder\n",
    "from sklearn.model_selection import train_test_split\n",
    "\n",
    "\n",
    "# Menggunakan LabelEncoder untuk mengubah data kategorikal menjadi numerik\n",
    "label_encoder = LabelEncoder()\n",
    "data['penggunaan'] = label_encoder.fit_transform(data['penggunaan'])\n",
    "\n",
    "# Memisahkan fitur (X) dan target (y)\n",
    "X = data.drop('harga', axis=1)\n",
    "y = data['harga']\n",
    "\n",
    "# Memisahkan data menjadi data latih dan data uji\n",
    "X_train, X_test, y_train, y_test = train_test_split(X, y, test_size=0.2, random_state=42)\n",
    "\n",
    "# Mendefinisikan model LGBMRegressor dengan hyperparameter awal\n",
    "model = LGBMRegressor(learning_rate=0.1, n_estimators=100, max_depth=3, num_leaves=31)\n",
    "\n",
    "# Melatih model dengan data latih\n",
    "model.fit(X_train, y_train)\n",
    "\n",
    "# Memprediksi data uji\n",
    "y_pred = model.predict(X_test)\n",
    "\n",
    "# Menghitung nilai MSE\n",
    "mse = mean_squared_error(y_test, y_pred)\n",
    "print(\"MSE:\", mse)\n",
    "\n",
    "# Menampilkan hyperparameter yang digunakan\n",
    "print(\"Hyperparameters:\")\n",
    "print(\"Learning Rate:\", model.learning_rate)\n",
    "print(\"Number of Estimators:\", model.n_estimators)\n",
    "print(\"Max Depth:\", model.max_depth)\n",
    "print(\"Number of Leaves:\", model.num_leaves)"
   ]
  },
  {
   "cell_type": "markdown",
   "id": "0d89855c",
   "metadata": {},
   "source": [
    "**Mencari Hyperparameter NuSVR*"
   ]
  },
  {
   "cell_type": "code",
   "execution_count": 65,
   "id": "e8ea223e",
   "metadata": {},
   "outputs": [
    {
     "data": {
      "text/html": [
       "<style>#sk-container-id-6 {color: black;}#sk-container-id-6 pre{padding: 0;}#sk-container-id-6 div.sk-toggleable {background-color: white;}#sk-container-id-6 label.sk-toggleable__label {cursor: pointer;display: block;width: 100%;margin-bottom: 0;padding: 0.3em;box-sizing: border-box;text-align: center;}#sk-container-id-6 label.sk-toggleable__label-arrow:before {content: \"▸\";float: left;margin-right: 0.25em;color: #696969;}#sk-container-id-6 label.sk-toggleable__label-arrow:hover:before {color: black;}#sk-container-id-6 div.sk-estimator:hover label.sk-toggleable__label-arrow:before {color: black;}#sk-container-id-6 div.sk-toggleable__content {max-height: 0;max-width: 0;overflow: hidden;text-align: left;background-color: #f0f8ff;}#sk-container-id-6 div.sk-toggleable__content pre {margin: 0.2em;color: black;border-radius: 0.25em;background-color: #f0f8ff;}#sk-container-id-6 input.sk-toggleable__control:checked~div.sk-toggleable__content {max-height: 200px;max-width: 100%;overflow: auto;}#sk-container-id-6 input.sk-toggleable__control:checked~label.sk-toggleable__label-arrow:before {content: \"▾\";}#sk-container-id-6 div.sk-estimator input.sk-toggleable__control:checked~label.sk-toggleable__label {background-color: #d4ebff;}#sk-container-id-6 div.sk-label input.sk-toggleable__control:checked~label.sk-toggleable__label {background-color: #d4ebff;}#sk-container-id-6 input.sk-hidden--visually {border: 0;clip: rect(1px 1px 1px 1px);clip: rect(1px, 1px, 1px, 1px);height: 1px;margin: -1px;overflow: hidden;padding: 0;position: absolute;width: 1px;}#sk-container-id-6 div.sk-estimator {font-family: monospace;background-color: #f0f8ff;border: 1px dotted black;border-radius: 0.25em;box-sizing: border-box;margin-bottom: 0.5em;}#sk-container-id-6 div.sk-estimator:hover {background-color: #d4ebff;}#sk-container-id-6 div.sk-parallel-item::after {content: \"\";width: 100%;border-bottom: 1px solid gray;flex-grow: 1;}#sk-container-id-6 div.sk-label:hover label.sk-toggleable__label {background-color: #d4ebff;}#sk-container-id-6 div.sk-serial::before {content: \"\";position: absolute;border-left: 1px solid gray;box-sizing: border-box;top: 0;bottom: 0;left: 50%;z-index: 0;}#sk-container-id-6 div.sk-serial {display: flex;flex-direction: column;align-items: center;background-color: white;padding-right: 0.2em;padding-left: 0.2em;position: relative;}#sk-container-id-6 div.sk-item {position: relative;z-index: 1;}#sk-container-id-6 div.sk-parallel {display: flex;align-items: stretch;justify-content: center;background-color: white;position: relative;}#sk-container-id-6 div.sk-item::before, #sk-container-id-6 div.sk-parallel-item::before {content: \"\";position: absolute;border-left: 1px solid gray;box-sizing: border-box;top: 0;bottom: 0;left: 50%;z-index: -1;}#sk-container-id-6 div.sk-parallel-item {display: flex;flex-direction: column;z-index: 1;position: relative;background-color: white;}#sk-container-id-6 div.sk-parallel-item:first-child::after {align-self: flex-end;width: 50%;}#sk-container-id-6 div.sk-parallel-item:last-child::after {align-self: flex-start;width: 50%;}#sk-container-id-6 div.sk-parallel-item:only-child::after {width: 0;}#sk-container-id-6 div.sk-dashed-wrapped {border: 1px dashed gray;margin: 0 0.4em 0.5em 0.4em;box-sizing: border-box;padding-bottom: 0.4em;background-color: white;}#sk-container-id-6 div.sk-label label {font-family: monospace;font-weight: bold;display: inline-block;line-height: 1.2em;}#sk-container-id-6 div.sk-label-container {text-align: center;}#sk-container-id-6 div.sk-container {/* jupyter's `normalize.less` sets `[hidden] { display: none; }` but bootstrap.min.css set `[hidden] { display: none !important; }` so we also need the `!important` here to be able to override the default hidden behavior on the sphinx rendered scikit-learn.org. See: https://github.com/scikit-learn/scikit-learn/issues/21755 */display: inline-block !important;position: relative;}#sk-container-id-6 div.sk-text-repr-fallback {display: none;}</style><div id=\"sk-container-id-6\" class=\"sk-top-container\"><div class=\"sk-text-repr-fallback\"><pre>NuSVR(nu=0.1)</pre><b>In a Jupyter environment, please rerun this cell to show the HTML representation or trust the notebook. <br />On GitHub, the HTML representation is unable to render, please try loading this page with nbviewer.org.</b></div><div class=\"sk-container\" hidden><div class=\"sk-item\"><div class=\"sk-estimator sk-toggleable\"><input class=\"sk-toggleable__control sk-hidden--visually\" id=\"sk-estimator-id-24\" type=\"checkbox\" checked><label for=\"sk-estimator-id-24\" class=\"sk-toggleable__label sk-toggleable__label-arrow\">NuSVR</label><div class=\"sk-toggleable__content\"><pre>NuSVR(nu=0.1)</pre></div></div></div></div></div>"
      ],
      "text/plain": [
       "NuSVR(nu=0.1)"
      ]
     },
     "execution_count": 65,
     "metadata": {},
     "output_type": "execute_result"
    }
   ],
   "source": [
    "from sklearn.svm import NuSVR\n",
    "\n",
    "# Membuat objek NuSVR\n",
    "model = NuSVR()\n",
    "\n",
    "# Menentukan hyperparameter yang ingin diuji\n",
    "kernel = 'rbf'  # Ganti dengan kernel yang diinginkan\n",
    "C = 1.0  # Ganti dengan nilai C yang diinginkan\n",
    "nu = 0.1  # Ganti dengan nilai nu yang diinginkan\n",
    "\n",
    "# Mengatur hyperparameter\n",
    "model.set_params(kernel=kernel, C=C, nu=nu)\n",
    "\n",
    "# Melatih model\n",
    "model.fit(X, y)"
   ]
  },
  {
   "cell_type": "markdown",
   "id": "3c4a537f",
   "metadata": {},
   "source": [
    "*Melihat indeks tiap kolom*"
   ]
  },
  {
   "cell_type": "code",
   "execution_count": 53,
   "id": "664ae97c",
   "metadata": {},
   "outputs": [
    {
     "data": {
      "text/plain": [
       "{0: 'penggunaan',\n",
       " 1: 'warna_luar',\n",
       " 2: 'warna_dalam',\n",
       " 3: 'driver',\n",
       " 4: 'jenis_bahan_bakar',\n",
       " 5: 'merek',\n",
       " 6: 'mata_uang'}"
      ]
     },
     "execution_count": 53,
     "metadata": {},
     "output_type": "execute_result"
    }
   ],
   "source": [
    "mapper = {i:value for i, value in enumerate(X_train.columns)}\n",
    "mapper"
   ]
  },
  {
   "cell_type": "markdown",
   "id": "38d3f579",
   "metadata": {},
   "source": [
    "*Menambahkan ColumnTransofrmer untuk menggabungkan data numerik dan kategorik*"
   ]
  },
  {
   "cell_type": "code",
   "execution_count": 54,
   "id": "fa24ab92",
   "metadata": {},
   "outputs": [],
   "source": [
    "from sklearn.compose import ColumnTransformer\n",
    "from sklearn.preprocessing import OneHotEncoder\n",
    "\n",
    "# Membuat objek ColumnTransformer\n",
    "feature = ColumnTransformer(transformers=[\n",
    "    ('col_tnf', OneHotEncoder(sparse=False, drop='first'), [0, 6])\n",
    "], remainder='passthrough')"
   ]
  },
  {
   "cell_type": "markdown",
   "id": "ec57b1d9",
   "metadata": {},
   "source": [
    "*Menggunakan Pipeline dan Hyperparameter* "
   ]
  },
  {
   "cell_type": "code",
   "execution_count": 55,
   "id": "7bdb4795",
   "metadata": {},
   "outputs": [
    {
     "name": "stderr",
     "output_type": "stream",
     "text": [
      "C:\\Users\\Dell\\anaconda3\\lib\\site-packages\\sklearn\\preprocessing\\_encoders.py:972: FutureWarning:\n",
      "\n",
      "`sparse` was renamed to `sparse_output` in version 1.2 and will be removed in 1.4. `sparse_output` is ignored unless you leave `sparse` to its default value.\n",
      "\n"
     ]
    },
    {
     "data": {
      "text/html": [
       "<style>#sk-container-id-2 {color: black;}#sk-container-id-2 pre{padding: 0;}#sk-container-id-2 div.sk-toggleable {background-color: white;}#sk-container-id-2 label.sk-toggleable__label {cursor: pointer;display: block;width: 100%;margin-bottom: 0;padding: 0.3em;box-sizing: border-box;text-align: center;}#sk-container-id-2 label.sk-toggleable__label-arrow:before {content: \"▸\";float: left;margin-right: 0.25em;color: #696969;}#sk-container-id-2 label.sk-toggleable__label-arrow:hover:before {color: black;}#sk-container-id-2 div.sk-estimator:hover label.sk-toggleable__label-arrow:before {color: black;}#sk-container-id-2 div.sk-toggleable__content {max-height: 0;max-width: 0;overflow: hidden;text-align: left;background-color: #f0f8ff;}#sk-container-id-2 div.sk-toggleable__content pre {margin: 0.2em;color: black;border-radius: 0.25em;background-color: #f0f8ff;}#sk-container-id-2 input.sk-toggleable__control:checked~div.sk-toggleable__content {max-height: 200px;max-width: 100%;overflow: auto;}#sk-container-id-2 input.sk-toggleable__control:checked~label.sk-toggleable__label-arrow:before {content: \"▾\";}#sk-container-id-2 div.sk-estimator input.sk-toggleable__control:checked~label.sk-toggleable__label {background-color: #d4ebff;}#sk-container-id-2 div.sk-label input.sk-toggleable__control:checked~label.sk-toggleable__label {background-color: #d4ebff;}#sk-container-id-2 input.sk-hidden--visually {border: 0;clip: rect(1px 1px 1px 1px);clip: rect(1px, 1px, 1px, 1px);height: 1px;margin: -1px;overflow: hidden;padding: 0;position: absolute;width: 1px;}#sk-container-id-2 div.sk-estimator {font-family: monospace;background-color: #f0f8ff;border: 1px dotted black;border-radius: 0.25em;box-sizing: border-box;margin-bottom: 0.5em;}#sk-container-id-2 div.sk-estimator:hover {background-color: #d4ebff;}#sk-container-id-2 div.sk-parallel-item::after {content: \"\";width: 100%;border-bottom: 1px solid gray;flex-grow: 1;}#sk-container-id-2 div.sk-label:hover label.sk-toggleable__label {background-color: #d4ebff;}#sk-container-id-2 div.sk-serial::before {content: \"\";position: absolute;border-left: 1px solid gray;box-sizing: border-box;top: 0;bottom: 0;left: 50%;z-index: 0;}#sk-container-id-2 div.sk-serial {display: flex;flex-direction: column;align-items: center;background-color: white;padding-right: 0.2em;padding-left: 0.2em;position: relative;}#sk-container-id-2 div.sk-item {position: relative;z-index: 1;}#sk-container-id-2 div.sk-parallel {display: flex;align-items: stretch;justify-content: center;background-color: white;position: relative;}#sk-container-id-2 div.sk-item::before, #sk-container-id-2 div.sk-parallel-item::before {content: \"\";position: absolute;border-left: 1px solid gray;box-sizing: border-box;top: 0;bottom: 0;left: 50%;z-index: -1;}#sk-container-id-2 div.sk-parallel-item {display: flex;flex-direction: column;z-index: 1;position: relative;background-color: white;}#sk-container-id-2 div.sk-parallel-item:first-child::after {align-self: flex-end;width: 50%;}#sk-container-id-2 div.sk-parallel-item:last-child::after {align-self: flex-start;width: 50%;}#sk-container-id-2 div.sk-parallel-item:only-child::after {width: 0;}#sk-container-id-2 div.sk-dashed-wrapped {border: 1px dashed gray;margin: 0 0.4em 0.5em 0.4em;box-sizing: border-box;padding-bottom: 0.4em;background-color: white;}#sk-container-id-2 div.sk-label label {font-family: monospace;font-weight: bold;display: inline-block;line-height: 1.2em;}#sk-container-id-2 div.sk-label-container {text-align: center;}#sk-container-id-2 div.sk-container {/* jupyter's `normalize.less` sets `[hidden] { display: none; }` but bootstrap.min.css set `[hidden] { display: none !important; }` so we also need the `!important` here to be able to override the default hidden behavior on the sphinx rendered scikit-learn.org. See: https://github.com/scikit-learn/scikit-learn/issues/21755 */display: inline-block !important;position: relative;}#sk-container-id-2 div.sk-text-repr-fallback {display: none;}</style><div id=\"sk-container-id-2\" class=\"sk-top-container\"><div class=\"sk-text-repr-fallback\"><pre>Pipeline(steps=[(&#x27;feature&#x27;,\n",
       "                 ColumnTransformer(remainder=&#x27;passthrough&#x27;,\n",
       "                                   transformers=[(&#x27;col_tnf&#x27;,\n",
       "                                                  OneHotEncoder(drop=&#x27;first&#x27;,\n",
       "                                                                sparse=False),\n",
       "                                                  [0, 6])])),\n",
       "                (&#x27;HB&#x27;,\n",
       "                 HistGradientBoostingRegressor(l2_regularization=0.1,\n",
       "                                               max_depth=3,\n",
       "                                               min_samples_leaf=10))])</pre><b>In a Jupyter environment, please rerun this cell to show the HTML representation or trust the notebook. <br />On GitHub, the HTML representation is unable to render, please try loading this page with nbviewer.org.</b></div><div class=\"sk-container\" hidden><div class=\"sk-item sk-dashed-wrapped\"><div class=\"sk-label-container\"><div class=\"sk-label sk-toggleable\"><input class=\"sk-toggleable__control sk-hidden--visually\" id=\"sk-estimator-id-2\" type=\"checkbox\" ><label for=\"sk-estimator-id-2\" class=\"sk-toggleable__label sk-toggleable__label-arrow\">Pipeline</label><div class=\"sk-toggleable__content\"><pre>Pipeline(steps=[(&#x27;feature&#x27;,\n",
       "                 ColumnTransformer(remainder=&#x27;passthrough&#x27;,\n",
       "                                   transformers=[(&#x27;col_tnf&#x27;,\n",
       "                                                  OneHotEncoder(drop=&#x27;first&#x27;,\n",
       "                                                                sparse=False),\n",
       "                                                  [0, 6])])),\n",
       "                (&#x27;HB&#x27;,\n",
       "                 HistGradientBoostingRegressor(l2_regularization=0.1,\n",
       "                                               max_depth=3,\n",
       "                                               min_samples_leaf=10))])</pre></div></div></div><div class=\"sk-serial\"><div class=\"sk-item sk-dashed-wrapped\"><div class=\"sk-label-container\"><div class=\"sk-label sk-toggleable\"><input class=\"sk-toggleable__control sk-hidden--visually\" id=\"sk-estimator-id-3\" type=\"checkbox\" ><label for=\"sk-estimator-id-3\" class=\"sk-toggleable__label sk-toggleable__label-arrow\">feature: ColumnTransformer</label><div class=\"sk-toggleable__content\"><pre>ColumnTransformer(remainder=&#x27;passthrough&#x27;,\n",
       "                  transformers=[(&#x27;col_tnf&#x27;,\n",
       "                                 OneHotEncoder(drop=&#x27;first&#x27;, sparse=False),\n",
       "                                 [0, 6])])</pre></div></div></div><div class=\"sk-parallel\"><div class=\"sk-parallel-item\"><div class=\"sk-item\"><div class=\"sk-label-container\"><div class=\"sk-label sk-toggleable\"><input class=\"sk-toggleable__control sk-hidden--visually\" id=\"sk-estimator-id-4\" type=\"checkbox\" ><label for=\"sk-estimator-id-4\" class=\"sk-toggleable__label sk-toggleable__label-arrow\">col_tnf</label><div class=\"sk-toggleable__content\"><pre>[0, 6]</pre></div></div></div><div class=\"sk-serial\"><div class=\"sk-item\"><div class=\"sk-estimator sk-toggleable\"><input class=\"sk-toggleable__control sk-hidden--visually\" id=\"sk-estimator-id-5\" type=\"checkbox\" ><label for=\"sk-estimator-id-5\" class=\"sk-toggleable__label sk-toggleable__label-arrow\">OneHotEncoder</label><div class=\"sk-toggleable__content\"><pre>OneHotEncoder(drop=&#x27;first&#x27;, sparse=False)</pre></div></div></div></div></div></div><div class=\"sk-parallel-item\"><div class=\"sk-item\"><div class=\"sk-label-container\"><div class=\"sk-label sk-toggleable\"><input class=\"sk-toggleable__control sk-hidden--visually\" id=\"sk-estimator-id-6\" type=\"checkbox\" ><label for=\"sk-estimator-id-6\" class=\"sk-toggleable__label sk-toggleable__label-arrow\">remainder</label><div class=\"sk-toggleable__content\"><pre>[&#x27;warna_luar&#x27;, &#x27;warna_dalam&#x27;, &#x27;driver&#x27;, &#x27;jenis_bahan_bakar&#x27;, &#x27;merek&#x27;]</pre></div></div></div><div class=\"sk-serial\"><div class=\"sk-item\"><div class=\"sk-estimator sk-toggleable\"><input class=\"sk-toggleable__control sk-hidden--visually\" id=\"sk-estimator-id-7\" type=\"checkbox\" ><label for=\"sk-estimator-id-7\" class=\"sk-toggleable__label sk-toggleable__label-arrow\">passthrough</label><div class=\"sk-toggleable__content\"><pre>passthrough</pre></div></div></div></div></div></div></div></div><div class=\"sk-item\"><div class=\"sk-estimator sk-toggleable\"><input class=\"sk-toggleable__control sk-hidden--visually\" id=\"sk-estimator-id-8\" type=\"checkbox\" ><label for=\"sk-estimator-id-8\" class=\"sk-toggleable__label sk-toggleable__label-arrow\">HistGradientBoostingRegressor</label><div class=\"sk-toggleable__content\"><pre>HistGradientBoostingRegressor(l2_regularization=0.1, max_depth=3,\n",
       "                              min_samples_leaf=10)</pre></div></div></div></div></div></div></div>"
      ],
      "text/plain": [
       "Pipeline(steps=[('feature',\n",
       "                 ColumnTransformer(remainder='passthrough',\n",
       "                                   transformers=[('col_tnf',\n",
       "                                                  OneHotEncoder(drop='first',\n",
       "                                                                sparse=False),\n",
       "                                                  [0, 6])])),\n",
       "                ('HB',\n",
       "                 HistGradientBoostingRegressor(l2_regularization=0.1,\n",
       "                                               max_depth=3,\n",
       "                                               min_samples_leaf=10))])"
      ]
     },
     "execution_count": 55,
     "metadata": {},
     "output_type": "execute_result"
    }
   ],
   "source": [
    "HB = HistGradientBoostingRegressor(l2_regularization=0.1, max_depth=3,\n",
    "                              min_samples_leaf=10)\n",
    "\n",
    "HB_pipe = Pipeline([\n",
    "    ('feature', feature),\n",
    "    ('HB', HB)\n",
    "])\n",
    "\n",
    "HB_pipe.fit(X_train, y_train)"
   ]
  },
  {
   "cell_type": "code",
   "execution_count": 57,
   "id": "ca4ec158",
   "metadata": {},
   "outputs": [
    {
     "name": "stderr",
     "output_type": "stream",
     "text": [
      "C:\\Users\\Dell\\anaconda3\\lib\\site-packages\\sklearn\\preprocessing\\_encoders.py:972: FutureWarning:\n",
      "\n",
      "`sparse` was renamed to `sparse_output` in version 1.2 and will be removed in 1.4. `sparse_output` is ignored unless you leave `sparse` to its default value.\n",
      "\n"
     ]
    },
    {
     "data": {
      "text/html": [
       "<style>#sk-container-id-4 {color: black;}#sk-container-id-4 pre{padding: 0;}#sk-container-id-4 div.sk-toggleable {background-color: white;}#sk-container-id-4 label.sk-toggleable__label {cursor: pointer;display: block;width: 100%;margin-bottom: 0;padding: 0.3em;box-sizing: border-box;text-align: center;}#sk-container-id-4 label.sk-toggleable__label-arrow:before {content: \"▸\";float: left;margin-right: 0.25em;color: #696969;}#sk-container-id-4 label.sk-toggleable__label-arrow:hover:before {color: black;}#sk-container-id-4 div.sk-estimator:hover label.sk-toggleable__label-arrow:before {color: black;}#sk-container-id-4 div.sk-toggleable__content {max-height: 0;max-width: 0;overflow: hidden;text-align: left;background-color: #f0f8ff;}#sk-container-id-4 div.sk-toggleable__content pre {margin: 0.2em;color: black;border-radius: 0.25em;background-color: #f0f8ff;}#sk-container-id-4 input.sk-toggleable__control:checked~div.sk-toggleable__content {max-height: 200px;max-width: 100%;overflow: auto;}#sk-container-id-4 input.sk-toggleable__control:checked~label.sk-toggleable__label-arrow:before {content: \"▾\";}#sk-container-id-4 div.sk-estimator input.sk-toggleable__control:checked~label.sk-toggleable__label {background-color: #d4ebff;}#sk-container-id-4 div.sk-label input.sk-toggleable__control:checked~label.sk-toggleable__label {background-color: #d4ebff;}#sk-container-id-4 input.sk-hidden--visually {border: 0;clip: rect(1px 1px 1px 1px);clip: rect(1px, 1px, 1px, 1px);height: 1px;margin: -1px;overflow: hidden;padding: 0;position: absolute;width: 1px;}#sk-container-id-4 div.sk-estimator {font-family: monospace;background-color: #f0f8ff;border: 1px dotted black;border-radius: 0.25em;box-sizing: border-box;margin-bottom: 0.5em;}#sk-container-id-4 div.sk-estimator:hover {background-color: #d4ebff;}#sk-container-id-4 div.sk-parallel-item::after {content: \"\";width: 100%;border-bottom: 1px solid gray;flex-grow: 1;}#sk-container-id-4 div.sk-label:hover label.sk-toggleable__label {background-color: #d4ebff;}#sk-container-id-4 div.sk-serial::before {content: \"\";position: absolute;border-left: 1px solid gray;box-sizing: border-box;top: 0;bottom: 0;left: 50%;z-index: 0;}#sk-container-id-4 div.sk-serial {display: flex;flex-direction: column;align-items: center;background-color: white;padding-right: 0.2em;padding-left: 0.2em;position: relative;}#sk-container-id-4 div.sk-item {position: relative;z-index: 1;}#sk-container-id-4 div.sk-parallel {display: flex;align-items: stretch;justify-content: center;background-color: white;position: relative;}#sk-container-id-4 div.sk-item::before, #sk-container-id-4 div.sk-parallel-item::before {content: \"\";position: absolute;border-left: 1px solid gray;box-sizing: border-box;top: 0;bottom: 0;left: 50%;z-index: -1;}#sk-container-id-4 div.sk-parallel-item {display: flex;flex-direction: column;z-index: 1;position: relative;background-color: white;}#sk-container-id-4 div.sk-parallel-item:first-child::after {align-self: flex-end;width: 50%;}#sk-container-id-4 div.sk-parallel-item:last-child::after {align-self: flex-start;width: 50%;}#sk-container-id-4 div.sk-parallel-item:only-child::after {width: 0;}#sk-container-id-4 div.sk-dashed-wrapped {border: 1px dashed gray;margin: 0 0.4em 0.5em 0.4em;box-sizing: border-box;padding-bottom: 0.4em;background-color: white;}#sk-container-id-4 div.sk-label label {font-family: monospace;font-weight: bold;display: inline-block;line-height: 1.2em;}#sk-container-id-4 div.sk-label-container {text-align: center;}#sk-container-id-4 div.sk-container {/* jupyter's `normalize.less` sets `[hidden] { display: none; }` but bootstrap.min.css set `[hidden] { display: none !important; }` so we also need the `!important` here to be able to override the default hidden behavior on the sphinx rendered scikit-learn.org. See: https://github.com/scikit-learn/scikit-learn/issues/21755 */display: inline-block !important;position: relative;}#sk-container-id-4 div.sk-text-repr-fallback {display: none;}</style><div id=\"sk-container-id-4\" class=\"sk-top-container\"><div class=\"sk-text-repr-fallback\"><pre>Pipeline(steps=[(&#x27;feature&#x27;,\n",
       "                 ColumnTransformer(remainder=&#x27;passthrough&#x27;,\n",
       "                                   transformers=[(&#x27;col_tnf&#x27;,\n",
       "                                                  OneHotEncoder(drop=&#x27;first&#x27;,\n",
       "                                                                sparse=False),\n",
       "                                                  [0, 6])])),\n",
       "                (&#x27;LG&#x27;,\n",
       "                 LGBMRegressor(max_features=0.5, max_samples=0.4,\n",
       "                               n_estimators=90, random_state=99))])</pre><b>In a Jupyter environment, please rerun this cell to show the HTML representation or trust the notebook. <br />On GitHub, the HTML representation is unable to render, please try loading this page with nbviewer.org.</b></div><div class=\"sk-container\" hidden><div class=\"sk-item sk-dashed-wrapped\"><div class=\"sk-label-container\"><div class=\"sk-label sk-toggleable\"><input class=\"sk-toggleable__control sk-hidden--visually\" id=\"sk-estimator-id-10\" type=\"checkbox\" ><label for=\"sk-estimator-id-10\" class=\"sk-toggleable__label sk-toggleable__label-arrow\">Pipeline</label><div class=\"sk-toggleable__content\"><pre>Pipeline(steps=[(&#x27;feature&#x27;,\n",
       "                 ColumnTransformer(remainder=&#x27;passthrough&#x27;,\n",
       "                                   transformers=[(&#x27;col_tnf&#x27;,\n",
       "                                                  OneHotEncoder(drop=&#x27;first&#x27;,\n",
       "                                                                sparse=False),\n",
       "                                                  [0, 6])])),\n",
       "                (&#x27;LG&#x27;,\n",
       "                 LGBMRegressor(max_features=0.5, max_samples=0.4,\n",
       "                               n_estimators=90, random_state=99))])</pre></div></div></div><div class=\"sk-serial\"><div class=\"sk-item sk-dashed-wrapped\"><div class=\"sk-label-container\"><div class=\"sk-label sk-toggleable\"><input class=\"sk-toggleable__control sk-hidden--visually\" id=\"sk-estimator-id-11\" type=\"checkbox\" ><label for=\"sk-estimator-id-11\" class=\"sk-toggleable__label sk-toggleable__label-arrow\">feature: ColumnTransformer</label><div class=\"sk-toggleable__content\"><pre>ColumnTransformer(remainder=&#x27;passthrough&#x27;,\n",
       "                  transformers=[(&#x27;col_tnf&#x27;,\n",
       "                                 OneHotEncoder(drop=&#x27;first&#x27;, sparse=False),\n",
       "                                 [0, 6])])</pre></div></div></div><div class=\"sk-parallel\"><div class=\"sk-parallel-item\"><div class=\"sk-item\"><div class=\"sk-label-container\"><div class=\"sk-label sk-toggleable\"><input class=\"sk-toggleable__control sk-hidden--visually\" id=\"sk-estimator-id-12\" type=\"checkbox\" ><label for=\"sk-estimator-id-12\" class=\"sk-toggleable__label sk-toggleable__label-arrow\">col_tnf</label><div class=\"sk-toggleable__content\"><pre>[0, 6]</pre></div></div></div><div class=\"sk-serial\"><div class=\"sk-item\"><div class=\"sk-estimator sk-toggleable\"><input class=\"sk-toggleable__control sk-hidden--visually\" id=\"sk-estimator-id-13\" type=\"checkbox\" ><label for=\"sk-estimator-id-13\" class=\"sk-toggleable__label sk-toggleable__label-arrow\">OneHotEncoder</label><div class=\"sk-toggleable__content\"><pre>OneHotEncoder(drop=&#x27;first&#x27;, sparse=False)</pre></div></div></div></div></div></div><div class=\"sk-parallel-item\"><div class=\"sk-item\"><div class=\"sk-label-container\"><div class=\"sk-label sk-toggleable\"><input class=\"sk-toggleable__control sk-hidden--visually\" id=\"sk-estimator-id-14\" type=\"checkbox\" ><label for=\"sk-estimator-id-14\" class=\"sk-toggleable__label sk-toggleable__label-arrow\">remainder</label><div class=\"sk-toggleable__content\"><pre>[&#x27;warna_luar&#x27;, &#x27;warna_dalam&#x27;, &#x27;driver&#x27;, &#x27;jenis_bahan_bakar&#x27;, &#x27;merek&#x27;]</pre></div></div></div><div class=\"sk-serial\"><div class=\"sk-item\"><div class=\"sk-estimator sk-toggleable\"><input class=\"sk-toggleable__control sk-hidden--visually\" id=\"sk-estimator-id-15\" type=\"checkbox\" ><label for=\"sk-estimator-id-15\" class=\"sk-toggleable__label sk-toggleable__label-arrow\">passthrough</label><div class=\"sk-toggleable__content\"><pre>passthrough</pre></div></div></div></div></div></div></div></div><div class=\"sk-item\"><div class=\"sk-estimator sk-toggleable\"><input class=\"sk-toggleable__control sk-hidden--visually\" id=\"sk-estimator-id-16\" type=\"checkbox\" ><label for=\"sk-estimator-id-16\" class=\"sk-toggleable__label sk-toggleable__label-arrow\">LGBMRegressor</label><div class=\"sk-toggleable__content\"><pre>LGBMRegressor(max_features=0.5, max_samples=0.4, n_estimators=90,\n",
       "              random_state=99)</pre></div></div></div></div></div></div></div>"
      ],
      "text/plain": [
       "Pipeline(steps=[('feature',\n",
       "                 ColumnTransformer(remainder='passthrough',\n",
       "                                   transformers=[('col_tnf',\n",
       "                                                  OneHotEncoder(drop='first',\n",
       "                                                                sparse=False),\n",
       "                                                  [0, 6])])),\n",
       "                ('LG',\n",
       "                 LGBMRegressor(max_features=0.5, max_samples=0.4,\n",
       "                               n_estimators=90, random_state=99))])"
      ]
     },
     "execution_count": 57,
     "metadata": {},
     "output_type": "execute_result"
    }
   ],
   "source": [
    "LG = LGBMRegressor(max_features = 0.5, max_samples = 0.4, n_estimators = 90, random_state = 99)\n",
    "\n",
    "LG_pipe = Pipeline([\n",
    "    ('feature', feature),\n",
    "    ('LG', LG)\n",
    "])\n",
    "\n",
    "LG_pipe.fit(X_train, y_train)"
   ]
  },
  {
   "cell_type": "code",
   "execution_count": 66,
   "id": "2500bf13",
   "metadata": {},
   "outputs": [
    {
     "name": "stderr",
     "output_type": "stream",
     "text": [
      "C:\\Users\\Dell\\anaconda3\\lib\\site-packages\\sklearn\\preprocessing\\_encoders.py:972: FutureWarning:\n",
      "\n",
      "`sparse` was renamed to `sparse_output` in version 1.2 and will be removed in 1.4. `sparse_output` is ignored unless you leave `sparse` to its default value.\n",
      "\n"
     ]
    },
    {
     "data": {
      "text/html": [
       "<style>#sk-container-id-7 {color: black;}#sk-container-id-7 pre{padding: 0;}#sk-container-id-7 div.sk-toggleable {background-color: white;}#sk-container-id-7 label.sk-toggleable__label {cursor: pointer;display: block;width: 100%;margin-bottom: 0;padding: 0.3em;box-sizing: border-box;text-align: center;}#sk-container-id-7 label.sk-toggleable__label-arrow:before {content: \"▸\";float: left;margin-right: 0.25em;color: #696969;}#sk-container-id-7 label.sk-toggleable__label-arrow:hover:before {color: black;}#sk-container-id-7 div.sk-estimator:hover label.sk-toggleable__label-arrow:before {color: black;}#sk-container-id-7 div.sk-toggleable__content {max-height: 0;max-width: 0;overflow: hidden;text-align: left;background-color: #f0f8ff;}#sk-container-id-7 div.sk-toggleable__content pre {margin: 0.2em;color: black;border-radius: 0.25em;background-color: #f0f8ff;}#sk-container-id-7 input.sk-toggleable__control:checked~div.sk-toggleable__content {max-height: 200px;max-width: 100%;overflow: auto;}#sk-container-id-7 input.sk-toggleable__control:checked~label.sk-toggleable__label-arrow:before {content: \"▾\";}#sk-container-id-7 div.sk-estimator input.sk-toggleable__control:checked~label.sk-toggleable__label {background-color: #d4ebff;}#sk-container-id-7 div.sk-label input.sk-toggleable__control:checked~label.sk-toggleable__label {background-color: #d4ebff;}#sk-container-id-7 input.sk-hidden--visually {border: 0;clip: rect(1px 1px 1px 1px);clip: rect(1px, 1px, 1px, 1px);height: 1px;margin: -1px;overflow: hidden;padding: 0;position: absolute;width: 1px;}#sk-container-id-7 div.sk-estimator {font-family: monospace;background-color: #f0f8ff;border: 1px dotted black;border-radius: 0.25em;box-sizing: border-box;margin-bottom: 0.5em;}#sk-container-id-7 div.sk-estimator:hover {background-color: #d4ebff;}#sk-container-id-7 div.sk-parallel-item::after {content: \"\";width: 100%;border-bottom: 1px solid gray;flex-grow: 1;}#sk-container-id-7 div.sk-label:hover label.sk-toggleable__label {background-color: #d4ebff;}#sk-container-id-7 div.sk-serial::before {content: \"\";position: absolute;border-left: 1px solid gray;box-sizing: border-box;top: 0;bottom: 0;left: 50%;z-index: 0;}#sk-container-id-7 div.sk-serial {display: flex;flex-direction: column;align-items: center;background-color: white;padding-right: 0.2em;padding-left: 0.2em;position: relative;}#sk-container-id-7 div.sk-item {position: relative;z-index: 1;}#sk-container-id-7 div.sk-parallel {display: flex;align-items: stretch;justify-content: center;background-color: white;position: relative;}#sk-container-id-7 div.sk-item::before, #sk-container-id-7 div.sk-parallel-item::before {content: \"\";position: absolute;border-left: 1px solid gray;box-sizing: border-box;top: 0;bottom: 0;left: 50%;z-index: -1;}#sk-container-id-7 div.sk-parallel-item {display: flex;flex-direction: column;z-index: 1;position: relative;background-color: white;}#sk-container-id-7 div.sk-parallel-item:first-child::after {align-self: flex-end;width: 50%;}#sk-container-id-7 div.sk-parallel-item:last-child::after {align-self: flex-start;width: 50%;}#sk-container-id-7 div.sk-parallel-item:only-child::after {width: 0;}#sk-container-id-7 div.sk-dashed-wrapped {border: 1px dashed gray;margin: 0 0.4em 0.5em 0.4em;box-sizing: border-box;padding-bottom: 0.4em;background-color: white;}#sk-container-id-7 div.sk-label label {font-family: monospace;font-weight: bold;display: inline-block;line-height: 1.2em;}#sk-container-id-7 div.sk-label-container {text-align: center;}#sk-container-id-7 div.sk-container {/* jupyter's `normalize.less` sets `[hidden] { display: none; }` but bootstrap.min.css set `[hidden] { display: none !important; }` so we also need the `!important` here to be able to override the default hidden behavior on the sphinx rendered scikit-learn.org. See: https://github.com/scikit-learn/scikit-learn/issues/21755 */display: inline-block !important;position: relative;}#sk-container-id-7 div.sk-text-repr-fallback {display: none;}</style><div id=\"sk-container-id-7\" class=\"sk-top-container\"><div class=\"sk-text-repr-fallback\"><pre>Pipeline(steps=[(&#x27;feature&#x27;,\n",
       "                 ColumnTransformer(remainder=&#x27;passthrough&#x27;,\n",
       "                                   transformers=[(&#x27;col_tnf&#x27;,\n",
       "                                                  OneHotEncoder(drop=&#x27;first&#x27;,\n",
       "                                                                sparse=False),\n",
       "                                                  [0, 6])])),\n",
       "                (&#x27;NU&#x27;, NuSVR(nu=0.1))])</pre><b>In a Jupyter environment, please rerun this cell to show the HTML representation or trust the notebook. <br />On GitHub, the HTML representation is unable to render, please try loading this page with nbviewer.org.</b></div><div class=\"sk-container\" hidden><div class=\"sk-item sk-dashed-wrapped\"><div class=\"sk-label-container\"><div class=\"sk-label sk-toggleable\"><input class=\"sk-toggleable__control sk-hidden--visually\" id=\"sk-estimator-id-25\" type=\"checkbox\" ><label for=\"sk-estimator-id-25\" class=\"sk-toggleable__label sk-toggleable__label-arrow\">Pipeline</label><div class=\"sk-toggleable__content\"><pre>Pipeline(steps=[(&#x27;feature&#x27;,\n",
       "                 ColumnTransformer(remainder=&#x27;passthrough&#x27;,\n",
       "                                   transformers=[(&#x27;col_tnf&#x27;,\n",
       "                                                  OneHotEncoder(drop=&#x27;first&#x27;,\n",
       "                                                                sparse=False),\n",
       "                                                  [0, 6])])),\n",
       "                (&#x27;NU&#x27;, NuSVR(nu=0.1))])</pre></div></div></div><div class=\"sk-serial\"><div class=\"sk-item sk-dashed-wrapped\"><div class=\"sk-label-container\"><div class=\"sk-label sk-toggleable\"><input class=\"sk-toggleable__control sk-hidden--visually\" id=\"sk-estimator-id-26\" type=\"checkbox\" ><label for=\"sk-estimator-id-26\" class=\"sk-toggleable__label sk-toggleable__label-arrow\">feature: ColumnTransformer</label><div class=\"sk-toggleable__content\"><pre>ColumnTransformer(remainder=&#x27;passthrough&#x27;,\n",
       "                  transformers=[(&#x27;col_tnf&#x27;,\n",
       "                                 OneHotEncoder(drop=&#x27;first&#x27;, sparse=False),\n",
       "                                 [0, 6])])</pre></div></div></div><div class=\"sk-parallel\"><div class=\"sk-parallel-item\"><div class=\"sk-item\"><div class=\"sk-label-container\"><div class=\"sk-label sk-toggleable\"><input class=\"sk-toggleable__control sk-hidden--visually\" id=\"sk-estimator-id-27\" type=\"checkbox\" ><label for=\"sk-estimator-id-27\" class=\"sk-toggleable__label sk-toggleable__label-arrow\">col_tnf</label><div class=\"sk-toggleable__content\"><pre>[0, 6]</pre></div></div></div><div class=\"sk-serial\"><div class=\"sk-item\"><div class=\"sk-estimator sk-toggleable\"><input class=\"sk-toggleable__control sk-hidden--visually\" id=\"sk-estimator-id-28\" type=\"checkbox\" ><label for=\"sk-estimator-id-28\" class=\"sk-toggleable__label sk-toggleable__label-arrow\">OneHotEncoder</label><div class=\"sk-toggleable__content\"><pre>OneHotEncoder(drop=&#x27;first&#x27;, sparse=False)</pre></div></div></div></div></div></div><div class=\"sk-parallel-item\"><div class=\"sk-item\"><div class=\"sk-label-container\"><div class=\"sk-label sk-toggleable\"><input class=\"sk-toggleable__control sk-hidden--visually\" id=\"sk-estimator-id-29\" type=\"checkbox\" ><label for=\"sk-estimator-id-29\" class=\"sk-toggleable__label sk-toggleable__label-arrow\">remainder</label><div class=\"sk-toggleable__content\"><pre>[&#x27;warna_luar&#x27;, &#x27;warna_dalam&#x27;, &#x27;driver&#x27;, &#x27;jenis_bahan_bakar&#x27;, &#x27;merek&#x27;]</pre></div></div></div><div class=\"sk-serial\"><div class=\"sk-item\"><div class=\"sk-estimator sk-toggleable\"><input class=\"sk-toggleable__control sk-hidden--visually\" id=\"sk-estimator-id-30\" type=\"checkbox\" ><label for=\"sk-estimator-id-30\" class=\"sk-toggleable__label sk-toggleable__label-arrow\">passthrough</label><div class=\"sk-toggleable__content\"><pre>passthrough</pre></div></div></div></div></div></div></div></div><div class=\"sk-item\"><div class=\"sk-estimator sk-toggleable\"><input class=\"sk-toggleable__control sk-hidden--visually\" id=\"sk-estimator-id-31\" type=\"checkbox\" ><label for=\"sk-estimator-id-31\" class=\"sk-toggleable__label sk-toggleable__label-arrow\">NuSVR</label><div class=\"sk-toggleable__content\"><pre>NuSVR(nu=0.1)</pre></div></div></div></div></div></div></div>"
      ],
      "text/plain": [
       "Pipeline(steps=[('feature',\n",
       "                 ColumnTransformer(remainder='passthrough',\n",
       "                                   transformers=[('col_tnf',\n",
       "                                                  OneHotEncoder(drop='first',\n",
       "                                                                sparse=False),\n",
       "                                                  [0, 6])])),\n",
       "                ('NU', NuSVR(nu=0.1))])"
      ]
     },
     "execution_count": 66,
     "metadata": {},
     "output_type": "execute_result"
    }
   ],
   "source": [
    "NU = NuSVR(nu=0.1)\n",
    "\n",
    "NU_pipe = Pipeline([\n",
    "    ('feature', feature),\n",
    "    ('NU', NU)\n",
    "])\n",
    "\n",
    "NU_pipe.fit(X_train, y_train)"
   ]
  },
  {
   "cell_type": "markdown",
   "id": "8be9aedd",
   "metadata": {},
   "source": [
    "*Evaluation*\n",
    "\n",
    "Metrik evaluasi yang digunakan adalah Mean Square Error (MSE), Root Mean Square Error (RMSE), dan R2 Score\n",
    "MSE melakukan pengurangan nilai data aktual dengan data peramalan dan hasilnya dikuadratkan (squared) kemudian dijumlahkan secara keseluruhan dan membaginya dengan banyaknya data yang ada\n",
    "RMSE adalah jumlah dari kesalahan kuadrat atau selisih antara nilai sebenarnya dengan nilai prediksi yang telah ditentukan. Cara menghitungnya tinggal mengakar kan mse menggunakan fungsi np.sqrt\n",
    "R2 Score dijadikan sebagai pengukuran seberapa baik garis regresi mendekati nilai data asli yang dibuat melalui model.\n",
    "Menampilkan hasil pengujian MSE, RMSE, dan R2 Score dari 3 algoritma teratas"
   ]
  },
  {
   "cell_type": "code",
   "execution_count": 69,
   "id": "c501356f",
   "metadata": {},
   "outputs": [],
   "source": [
    "from sklearn.metrics import mean_squared_error, r2_score\n",
    "\n",
    "final_report = {'Model_Name': [], 'mse': [], 'r2': []}\n",
    "\n",
    "# Evaluasi model HistGradientBoostingRegressor\n",
    "pred = HB_pipe.predict(X_test)\n",
    "mse = mean_squared_error(y_true=y_test, y_pred=pred)\n",
    "r2 = r2_score(y_test, pred)\n",
    "final_report['Model_Name'].append('HistGradientBoostingRegressor')\n",
    "final_report['mse'].append(mse)\n",
    "final_report['r2'].append(r2)\n",
    "\n",
    "# Evaluasi model LGBMRegressor\n",
    "pred = LG_pipe.predict(X_test)\n",
    "mse = mean_squared_error(y_true=y_test, y_pred=pred)\n",
    "r2 = r2_score(y_test, pred)\n",
    "final_report['Model_Name'].append('LGBMRegressor')\n",
    "final_report['mse'].append(mse)\n",
    "final_report['r2'].append(r2)\n",
    "\n",
    "# Evaluasi model NuSVR\n",
    "pred = NU_pipe.predict(X_test)\n",
    "mse = mean_squared_error(y_true=y_test, y_pred=pred)\n",
    "r2 = r2_score(y_test, pred)\n",
    "final_report['Model_Name'].append('NuSVR')\n",
    "final_report['mse'].append(mse)\n",
    "final_report['r2'].append(r2)"
   ]
  },
  {
   "cell_type": "code",
   "execution_count": 70,
   "id": "07cc1b52",
   "metadata": {},
   "outputs": [
    {
     "data": {
      "text/plain": [
       "{'Model_Name': ['HistGradientBoostingRegressor', 'LGBMRegressor', 'NuSVR'],\n",
       " 'mse': [242323184.22099847, 243028164.75829983, 282435596.1913032],\n",
       " 'r2': [0.12336435741211849, 0.1208139986079626, -0.02174751108853812]}"
      ]
     },
     "execution_count": 70,
     "metadata": {},
     "output_type": "execute_result"
    }
   ],
   "source": [
    "final_report"
   ]
  },
  {
   "cell_type": "markdown",
   "id": "b7ddee22",
   "metadata": {},
   "source": [
    "**Menyederhanakan format data numerik"
   ]
  },
  {
   "cell_type": "code",
   "execution_count": 71,
   "id": "317ff52d",
   "metadata": {},
   "outputs": [],
   "source": [
    "pd.options.display.float_format = '{:.7f}'.format"
   ]
  },
  {
   "cell_type": "code",
   "execution_count": 72,
   "id": "a25c9a2b",
   "metadata": {},
   "outputs": [
    {
     "data": {
      "text/html": [
       "<div>\n",
       "<style scoped>\n",
       "    .dataframe tbody tr th:only-of-type {\n",
       "        vertical-align: middle;\n",
       "    }\n",
       "\n",
       "    .dataframe tbody tr th {\n",
       "        vertical-align: top;\n",
       "    }\n",
       "\n",
       "    .dataframe thead th {\n",
       "        text-align: right;\n",
       "    }\n",
       "</style>\n",
       "<table border=\"1\" class=\"dataframe\">\n",
       "  <thead>\n",
       "    <tr style=\"text-align: right;\">\n",
       "      <th></th>\n",
       "      <th>Model_Name</th>\n",
       "      <th>mse</th>\n",
       "      <th>r2</th>\n",
       "    </tr>\n",
       "  </thead>\n",
       "  <tbody>\n",
       "    <tr>\n",
       "      <th>0</th>\n",
       "      <td>HistGradientBoostingRegressor</td>\n",
       "      <td>242323184.2209985</td>\n",
       "      <td>0.1233644</td>\n",
       "    </tr>\n",
       "    <tr>\n",
       "      <th>1</th>\n",
       "      <td>LGBMRegressor</td>\n",
       "      <td>243028164.7582998</td>\n",
       "      <td>0.1208140</td>\n",
       "    </tr>\n",
       "    <tr>\n",
       "      <th>2</th>\n",
       "      <td>NuSVR</td>\n",
       "      <td>282435596.1913032</td>\n",
       "      <td>-0.0217475</td>\n",
       "    </tr>\n",
       "  </tbody>\n",
       "</table>\n",
       "</div>"
      ],
      "text/plain": [
       "                      Model_Name               mse         r2\n",
       "0  HistGradientBoostingRegressor 242323184.2209985  0.1233644\n",
       "1                  LGBMRegressor 243028164.7582998  0.1208140\n",
       "2                          NuSVR 282435596.1913032 -0.0217475"
      ]
     },
     "execution_count": 72,
     "metadata": {},
     "output_type": "execute_result"
    }
   ],
   "source": [
    "final_report = pd.DataFrame.from_dict(final_report)\n",
    "final_report"
   ]
  },
  {
   "cell_type": "markdown",
   "id": "5eb8fc87",
   "metadata": {},
   "source": [
    "**Menambah Metrik RMSE untuk Pengujian"
   ]
  },
  {
   "cell_type": "code",
   "execution_count": 73,
   "id": "e2cd5785",
   "metadata": {},
   "outputs": [
    {
     "data": {
      "text/html": [
       "<div>\n",
       "<style scoped>\n",
       "    .dataframe tbody tr th:only-of-type {\n",
       "        vertical-align: middle;\n",
       "    }\n",
       "\n",
       "    .dataframe tbody tr th {\n",
       "        vertical-align: top;\n",
       "    }\n",
       "\n",
       "    .dataframe thead th {\n",
       "        text-align: right;\n",
       "    }\n",
       "</style>\n",
       "<table border=\"1\" class=\"dataframe\">\n",
       "  <thead>\n",
       "    <tr style=\"text-align: right;\">\n",
       "      <th></th>\n",
       "      <th>Model_Name</th>\n",
       "      <th>mse</th>\n",
       "      <th>r2</th>\n",
       "      <th>rmse</th>\n",
       "    </tr>\n",
       "  </thead>\n",
       "  <tbody>\n",
       "    <tr>\n",
       "      <th>0</th>\n",
       "      <td>HistGradientBoostingRegressor</td>\n",
       "      <td>242323184.2209985</td>\n",
       "      <td>0.1233644</td>\n",
       "      <td>15566.7332546</td>\n",
       "    </tr>\n",
       "    <tr>\n",
       "      <th>1</th>\n",
       "      <td>LGBMRegressor</td>\n",
       "      <td>243028164.7582998</td>\n",
       "      <td>0.1208140</td>\n",
       "      <td>15589.3606270</td>\n",
       "    </tr>\n",
       "    <tr>\n",
       "      <th>2</th>\n",
       "      <td>NuSVR</td>\n",
       "      <td>282435596.1913032</td>\n",
       "      <td>-0.0217475</td>\n",
       "      <td>16805.8203070</td>\n",
       "    </tr>\n",
       "  </tbody>\n",
       "</table>\n",
       "</div>"
      ],
      "text/plain": [
       "                      Model_Name               mse         r2          rmse\n",
       "0  HistGradientBoostingRegressor 242323184.2209985  0.1233644 15566.7332546\n",
       "1                  LGBMRegressor 243028164.7582998  0.1208140 15589.3606270\n",
       "2                          NuSVR 282435596.1913032 -0.0217475 16805.8203070"
      ]
     },
     "execution_count": 73,
     "metadata": {},
     "output_type": "execute_result"
    }
   ],
   "source": [
    "final_report['rmse'] = np.sqrt(final_report['mse'])\n",
    "final_report"
   ]
  },
  {
   "cell_type": "markdown",
   "id": "c6f717d3",
   "metadata": {},
   "source": [
    "**Membandingkan data sebenarnya dengan hasil prediksi"
   ]
  },
  {
   "cell_type": "code",
   "execution_count": 74,
   "id": "a1ae96cf",
   "metadata": {
    "scrolled": true
   },
   "outputs": [
    {
     "data": {
      "text/html": [
       "<div>\n",
       "<style scoped>\n",
       "    .dataframe tbody tr th:only-of-type {\n",
       "        vertical-align: middle;\n",
       "    }\n",
       "\n",
       "    .dataframe tbody tr th {\n",
       "        vertical-align: top;\n",
       "    }\n",
       "\n",
       "    .dataframe thead th {\n",
       "        text-align: right;\n",
       "    }\n",
       "</style>\n",
       "<table border=\"1\" class=\"dataframe\">\n",
       "  <thead>\n",
       "    <tr style=\"text-align: right;\">\n",
       "      <th></th>\n",
       "      <th>y_true</th>\n",
       "      <th>prediksi_HB</th>\n",
       "      <th>prediksi_LG</th>\n",
       "      <th>prediksi_NU</th>\n",
       "    </tr>\n",
       "  </thead>\n",
       "  <tbody>\n",
       "    <tr>\n",
       "      <th>91567</th>\n",
       "      <td>21774</td>\n",
       "      <td>35838.2000000</td>\n",
       "      <td>35760.1000000</td>\n",
       "      <td>33743.7000000</td>\n",
       "    </tr>\n",
       "    <tr>\n",
       "      <th>169392</th>\n",
       "      <td>27998</td>\n",
       "      <td>31513.5000000</td>\n",
       "      <td>31680.0000000</td>\n",
       "      <td>33727.1000000</td>\n",
       "    </tr>\n",
       "    <tr>\n",
       "      <th>94297</th>\n",
       "      <td>18795</td>\n",
       "      <td>23487.3000000</td>\n",
       "      <td>23096.1000000</td>\n",
       "      <td>33733.3000000</td>\n",
       "    </tr>\n",
       "    <tr>\n",
       "      <th>89330</th>\n",
       "      <td>32998</td>\n",
       "      <td>35838.2000000</td>\n",
       "      <td>35760.1000000</td>\n",
       "      <td>33743.7000000</td>\n",
       "    </tr>\n",
       "    <tr>\n",
       "      <th>137711</th>\n",
       "      <td>24697</td>\n",
       "      <td>23487.3000000</td>\n",
       "      <td>23096.1000000</td>\n",
       "      <td>33733.3000000</td>\n",
       "    </tr>\n",
       "    <tr>\n",
       "      <th>...</th>\n",
       "      <td>...</td>\n",
       "      <td>...</td>\n",
       "      <td>...</td>\n",
       "      <td>...</td>\n",
       "    </tr>\n",
       "    <tr>\n",
       "      <th>96674</th>\n",
       "      <td>17861</td>\n",
       "      <td>35838.2000000</td>\n",
       "      <td>35760.1000000</td>\n",
       "      <td>33743.7000000</td>\n",
       "    </tr>\n",
       "    <tr>\n",
       "      <th>134722</th>\n",
       "      <td>37237</td>\n",
       "      <td>31513.5000000</td>\n",
       "      <td>31680.0000000</td>\n",
       "      <td>33727.1000000</td>\n",
       "    </tr>\n",
       "    <tr>\n",
       "      <th>20812</th>\n",
       "      <td>21998</td>\n",
       "      <td>23487.3000000</td>\n",
       "      <td>23096.1000000</td>\n",
       "      <td>33733.3000000</td>\n",
       "    </tr>\n",
       "    <tr>\n",
       "      <th>144200</th>\n",
       "      <td>29895</td>\n",
       "      <td>31513.5000000</td>\n",
       "      <td>31680.0000000</td>\n",
       "      <td>33727.1000000</td>\n",
       "    </tr>\n",
       "    <tr>\n",
       "      <th>158830</th>\n",
       "      <td>41149</td>\n",
       "      <td>35838.2000000</td>\n",
       "      <td>35760.1000000</td>\n",
       "      <td>33743.7000000</td>\n",
       "    </tr>\n",
       "  </tbody>\n",
       "</table>\n",
       "<p>130 rows × 4 columns</p>\n",
       "</div>"
      ],
      "text/plain": [
       "        y_true   prediksi_HB   prediksi_LG   prediksi_NU\n",
       "91567    21774 35838.2000000 35760.1000000 33743.7000000\n",
       "169392   27998 31513.5000000 31680.0000000 33727.1000000\n",
       "94297    18795 23487.3000000 23096.1000000 33733.3000000\n",
       "89330    32998 35838.2000000 35760.1000000 33743.7000000\n",
       "137711   24697 23487.3000000 23096.1000000 33733.3000000\n",
       "...        ...           ...           ...           ...\n",
       "96674    17861 35838.2000000 35760.1000000 33743.7000000\n",
       "134722   37237 31513.5000000 31680.0000000 33727.1000000\n",
       "20812    21998 23487.3000000 23096.1000000 33733.3000000\n",
       "144200   29895 31513.5000000 31680.0000000 33727.1000000\n",
       "158830   41149 35838.2000000 35760.1000000 33743.7000000\n",
       "\n",
       "[130 rows x 4 columns]"
      ]
     },
     "execution_count": 74,
     "metadata": {},
     "output_type": "execute_result"
    }
   ],
   "source": [
    "model_dict = {'HB': HB_pipe, 'LG': LG_pipe, 'NU': NU_pipe}\n",
    "prediksi = X_test.iloc[:130].copy()\n",
    "pred_dict = {'y_true':y_test[:130]}\n",
    "for name, model in model_dict.items():\n",
    "    pred_dict['prediksi_'+name] = model.predict(prediksi).round(1)\n",
    " \n",
    "pd.DataFrame(pred_dict)"
   ]
  },
  {
   "cell_type": "code",
   "execution_count": null,
   "id": "8b187c0a",
   "metadata": {},
   "outputs": [],
   "source": []
  }
 ],
 "metadata": {
  "kernelspec": {
   "display_name": "Python 3 (ipykernel)",
   "language": "python",
   "name": "python3"
  },
  "language_info": {
   "codemirror_mode": {
    "name": "ipython",
    "version": 3
   },
   "file_extension": ".py",
   "mimetype": "text/x-python",
   "name": "python",
   "nbconvert_exporter": "python",
   "pygments_lexer": "ipython3",
   "version": "3.9.13"
  }
 },
 "nbformat": 4,
 "nbformat_minor": 5
}
